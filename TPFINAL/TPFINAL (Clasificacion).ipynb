{
 "cells": [
  {
   "cell_type": "code",
   "execution_count": 1,
   "metadata": {
    "collapsed": false
   },
   "outputs": [],
   "source": [
    "import theano\n",
    "import lasagne\n",
    "import pandas as pd\n",
    "import numpy as np\n",
    "\n",
    "from nltk.corpus import stopwords\n",
    "import nltk.data\n",
    "\n",
    "from sklearn.preprocessing import StandardScaler,MinMaxScaler\n",
    "from nolearn.lasagne import NeuralNet\n",
    "from lasagne.updates import nesterov_momentum\n",
    "from nolearn.lasagne import BatchIterator\n",
    "from lasagne.layers import InputLayer, Conv2DLayer, DropoutLayer,\\\n",
    "    MaxPool2DLayer, DenseLayer\n",
    "from lasagne.nonlinearities import softmax, sigmoid\n",
    "from sklearn.cross_validation import train_test_split"
   ]
  },
  {
   "cell_type": "code",
   "execution_count": 2,
   "metadata": {
    "collapsed": false
   },
   "outputs": [],
   "source": [
    "df = pd.read_csv('data/imdb.csv')"
   ]
  },
  {
   "cell_type": "code",
   "execution_count": 3,
   "metadata": {
    "collapsed": true
   },
   "outputs": [],
   "source": [
    "def agrupar_pelis(x):\n",
    "    if x >=7.5:\n",
    "        return 2\n",
    "    elif x<7.5 and x>=6:\n",
    "        return 1\n",
    "    else:\n",
    "        return 0\n",
    "\n",
    "df['imdb_score'] = df['imdb_score'].apply(agrupar_pelis)"
   ]
  },
  {
   "cell_type": "code",
   "execution_count": 4,
   "metadata": {
    "collapsed": false
   },
   "outputs": [],
   "source": [
    "ratings = np.sort(df['imdb_score'].unique())"
   ]
  },
  {
   "cell_type": "code",
   "execution_count": 5,
   "metadata": {
    "collapsed": false
   },
   "outputs": [
    {
     "data": {
      "text/plain": [
       "(1454, 2702, 887)"
      ]
     },
     "execution_count": 5,
     "metadata": {},
     "output_type": "execute_result"
    }
   ],
   "source": [
    "len(df[df.imdb_score == 0]), len(df[df.imdb_score == 1]),len(df[df.imdb_score == 2])"
   ]
  },
  {
   "cell_type": "code",
   "execution_count": 6,
   "metadata": {
    "collapsed": false
   },
   "outputs": [],
   "source": [
    "#df['earning_rate'] = df.apply(lambda r: r.gross / r.budget, axis=1)"
   ]
  },
  {
   "cell_type": "code",
   "execution_count": 7,
   "metadata": {
    "collapsed": false,
    "scrolled": false
   },
   "outputs": [],
   "source": [
    "a = df.corr()"
   ]
  },
  {
   "cell_type": "code",
   "execution_count": 8,
   "metadata": {
    "collapsed": false
   },
   "outputs": [
    {
     "name": "stderr",
     "output_type": "stream",
     "text": [
      "/usr/lib/python3/dist-packages/matplotlib/collections.py:549: FutureWarning: elementwise comparison failed; returning scalar instead, but in the future will perform elementwise comparison\n",
      "  if self._edgecolors == 'face':\n"
     ]
    }
   ],
   "source": [
    "import matplotlib.pyplot as plt\n",
    "\n",
    "df_corr = df[a.columns.tolist()]\n",
    "\n",
    "plt.matshow(df_corr.corr())\n",
    "plt.xticks(np.arange(0, len(df_corr.columns)), df_corr.columns.tolist(), rotation=\"vertical\")\n",
    "plt.yticks(np.arange(0, len(df_corr.columns)), df_corr.columns.tolist())\n",
    "plt.colorbar()\n",
    "plt.show()"
   ]
  },
  {
   "cell_type": "code",
   "execution_count": 9,
   "metadata": {
    "collapsed": false
   },
   "outputs": [],
   "source": [
    "ac1 = df['actor_1_name'].unique()\n",
    "ac2 = df['actor_2_name'].unique()\n",
    "ac3 = df['actor_3_name'].unique()"
   ]
  },
  {
   "cell_type": "code",
   "execution_count": 10,
   "metadata": {
    "collapsed": false
   },
   "outputs": [],
   "source": [
    "total = np.concatenate((ac1, ac2, ac3))"
   ]
  },
  {
   "cell_type": "code",
   "execution_count": 11,
   "metadata": {
    "collapsed": false
   },
   "outputs": [],
   "source": [
    "total = dict(enumerate(set(total)))"
   ]
  },
  {
   "cell_type": "code",
   "execution_count": 12,
   "metadata": {
    "collapsed": true
   },
   "outputs": [],
   "source": [
    "def factorizar(row):\n",
    "    for x in total:\n",
    "        if total[x] == row:\n",
    "            return int(x)"
   ]
  },
  {
   "cell_type": "code",
   "execution_count": 13,
   "metadata": {
    "collapsed": false
   },
   "outputs": [],
   "source": [
    "df['actor_1_name'] = df['actor_1_name'].apply(lambda row: factorizar(row))\n",
    "df['actor_2_name'] = df['actor_2_name'].apply(lambda row: factorizar(row))\n",
    "df['actor_3_name'] = df['actor_3_name'].apply(lambda row: factorizar(row))"
   ]
  },
  {
   "cell_type": "code",
   "execution_count": null,
   "metadata": {
    "collapsed": false
   },
   "outputs": [],
   "source": []
  },
  {
   "cell_type": "code",
   "execution_count": 14,
   "metadata": {
    "collapsed": false
   },
   "outputs": [],
   "source": [
    "## Para obtener los indices de los paises y los lenguajes de las peliculas\n",
    "idx_language, label_language = pd.factorize(df['language'])\n",
    "idx_country, label_country = pd.factorize(df['country'])\n",
    "\n",
    "## Para obtener los indices de los actores\n",
    "#idx_actor1, label_actor1 = pd.factorize(df['actor_1_name'])\n",
    "#idx_actor2, label_actor2 = pd.factorize(df['actor_2_name'])\n",
    "#idx_actor3, label_actor3 = pd.factorize(df['actor_3_name'])\n",
    "\n",
    "## Para obtener el indice del director\n",
    "idx_director, label_director = pd.factorize(df['director_name'])\n",
    "\n",
    "#Para obtener los indices del titulo de las peliculas y el content rating\n",
    "idx_movie, label_movie = pd.factorize(df['movie_title'])\n",
    "idx_content, label_content = pd.factorize(df['content_rating'])"
   ]
  },
  {
   "cell_type": "code",
   "execution_count": 15,
   "metadata": {
    "collapsed": false
   },
   "outputs": [],
   "source": [
    "## Separa los generos en columnas\n",
    "df = pd.concat([df, df.genres.str.get_dummies(sep='|')], axis=1)"
   ]
  },
  {
   "cell_type": "code",
   "execution_count": null,
   "metadata": {
    "collapsed": false
   },
   "outputs": [],
   "source": []
  },
  {
   "cell_type": "code",
   "execution_count": 16,
   "metadata": {
    "collapsed": false
   },
   "outputs": [],
   "source": [
    "df_separados = pd.DataFrame()\n",
    "df_separados = pd.concat([df_separados, df.plot_keywords.str.replace('|',' ')],axis=1)\n",
    "\n",
    "nltk.data.path = ['nltk_data/']\n",
    "\n",
    "stopw = set(stopwords.words('english')) \n",
    "corpus = []\n",
    "for e in df_separados.values:\n",
    "    if type(e[0]) is str:\n",
    "        corpus.append(e[0])\n",
    "corpus1 = \" \".join(corpus)\n",
    "corpus1 = corpus1.split(\" \")"
   ]
  },
  {
   "cell_type": "code",
   "execution_count": 17,
   "metadata": {
    "collapsed": true
   },
   "outputs": [],
   "source": [
    "corpus1 = list(filter(lambda x: not x[0] in stopw, corpus1))\n",
    "corpus1 = set(corpus1)"
   ]
  },
  {
   "cell_type": "code",
   "execution_count": 18,
   "metadata": {
    "collapsed": false
   },
   "outputs": [
    {
     "data": {
      "text/plain": [
       "TfidfVectorizer(analyzer='word', binary=False, decode_error='strict',\n",
       "        dtype=<class 'numpy.int64'>, encoding='utf-8', input='content',\n",
       "        lowercase=True, max_df=2, max_features=None, min_df=1,\n",
       "        ngram_range=(1, 1), norm='l2', preprocessor=None, smooth_idf=True,\n",
       "        stop_words={'itself', 'hadn', 'which', 'too', 'couldn', 'doesn', 'under', 'has', 'himself', 'in', 'hasn', 'haven', 'isn', 'themselves', 'nor', 'further', 'yourselves', 'their', 'an', 'ma', 'above', 'from', 'herself', 'am', 'at', 'other', 'ourselves', 'does', 'then', 'only', 'ain', 'the', 'through', ...all', 'those', 're', 'y', 'while', 'do', 'there', 'with', 'we', 'be', 'until', 'your', 'as', 'whom'},\n",
       "        strip_accents=None, sublinear_tf=True,\n",
       "        token_pattern='(?u)\\\\b\\\\w\\\\w+\\\\b', tokenizer=None, use_idf=True,\n",
       "        vocabulary={'godparent', 'jeet', 'gorilla', 'corpse', 'uprising', 'chernobyl', 'nomad', 'washington', 'hoodoo', 'los', 'landlady', 'primate', 'generation', 'cabinet', 'pride', 'ego', 'nuremberg', 'cottage', 'chastity', 'havana', 'fired', 'bay', 'capitalist', 'heroin', 'jungle', 'bounty', 'fund', 'wi...'coyote', 'warp', 'gone', 'buenos', 'burial', 'entry', 'hampster', 'estrangement', 'beatnik', 'bel'})"
      ]
     },
     "execution_count": 18,
     "metadata": {},
     "output_type": "execute_result"
    }
   ],
   "source": [
    "from sklearn.feature_extraction.text import TfidfVectorizer\n",
    "vocabulary = corpus1\n",
    "vect = TfidfVectorizer(sublinear_tf=True, max_df=2, analyzer='word', \n",
    "           stop_words=stopw, vocabulary=vocabulary)\n",
    "vect.fit(corpus)\n",
    "#print(dict(zip(vect.get_feature_names(), vect.idf_)))"
   ]
  },
  {
   "cell_type": "code",
   "execution_count": 19,
   "metadata": {
    "collapsed": true
   },
   "outputs": [],
   "source": [
    "def transformar_keywords(k):\n",
    "    if not type(k) is str:\n",
    "        return 0  \n",
    "    keywords = k.replace('|',\" \")\n",
    "    doc_tfidf = vect.transform([k])\n",
    "    t = doc_tfidf.toarray().sum()\n",
    "    return t"
   ]
  },
  {
   "cell_type": "code",
   "execution_count": 20,
   "metadata": {
    "collapsed": true
   },
   "outputs": [],
   "source": [
    "df['plot_keywords'] = df['plot_keywords'].apply(lambda row: transformar_keywords(row)) "
   ]
  },
  {
   "cell_type": "code",
   "execution_count": 21,
   "metadata": {
    "collapsed": false
   },
   "outputs": [],
   "source": [
    "df['language'] = idx_language\n",
    "df['country'] = idx_country\n",
    "#df['actor_1_name'] = idx_actor1\n",
    "#df['actor_2_name'] = idx_actor2\n",
    "#df['actor_3_name'] = idx_actor3\n",
    "df['director_name'] = idx_director\n",
    "df['movie_title'] = idx_movie\n",
    "df['content_rating'] = idx_content"
   ]
  },
  {
   "cell_type": "code",
   "execution_count": 22,
   "metadata": {
    "collapsed": false
   },
   "outputs": [],
   "source": [
    "df.fillna(value=-1, inplace=True)"
   ]
  },
  {
   "cell_type": "code",
   "execution_count": 23,
   "metadata": {
    "collapsed": false
   },
   "outputs": [],
   "source": [
    "y = df['imdb_score']\n",
    "df.drop('imdb_score', axis=1, inplace=True)"
   ]
  },
  {
   "cell_type": "code",
   "execution_count": null,
   "metadata": {
    "collapsed": false
   },
   "outputs": [],
   "source": []
  },
  {
   "cell_type": "markdown",
   "metadata": {},
   "source": [
    "### Columnas Dropeadas"
   ]
  },
  {
   "cell_type": "code",
   "execution_count": 24,
   "metadata": {
    "collapsed": false
   },
   "outputs": [],
   "source": [
    "#df.columns"
   ]
  },
  {
   "cell_type": "code",
   "execution_count": 25,
   "metadata": {
    "collapsed": false
   },
   "outputs": [],
   "source": [
    "#df.drop('actor_1_facebook_likes', axis=1, inplace=True)\n",
    "#df.drop('actor_2_facebook_likes', axis=1, inplace=True)\n",
    "#df.drop('actor_3_facebook_likes', axis=1, inplace=True)\n",
    "#df.drop('director_facebook_likes', axis=1, inplace=True)\n",
    "\n",
    "#df.drop('director_name', axis=1, inplace=True)\n",
    "#df.drop('actor_1_name', axis=1, inplace=True)\n",
    "#df.drop('actor_2_name', axis=1, inplace=True)\n",
    "#df.drop('actor_3_name', axis=1, inplace=True)\n",
    "\n",
    "#df.drop('cast_total_facebook_likes', axis=1, inplace=True)\n",
    "#df.drop('movie_facebook_likes', axis=1, inplace=True)\n",
    "#df.drop('budget', axis=1, inplace=True)\n",
    "#df.drop('gross', axis=1, inplace=True)\n",
    "#df.drop('cast_total_facebook_likes', axis=1, inplace=True)\n",
    "#df.drop('plot_keywords', axis=1, inplace=True)\n",
    "df.drop('genres', axis=1, inplace=True)\n",
    "df.drop('movie_imdb_link', axis=1, inplace=True)\n",
    "df.drop('color', axis=1, inplace=True)\n",
    "#df.drop('num_user_for_reviews', axis=1, inplace=True)\n",
    "#df.drop('movie_title', axis=1, inplace=True)\n",
    "#df.drop('content_rating', axis=1, inplace=True)\n",
    "#df.drop('duration', axis=1, inplace=True)"
   ]
  },
  {
   "cell_type": "code",
   "execution_count": 43,
   "metadata": {
    "collapsed": false
   },
   "outputs": [],
   "source": [
    "xs = x = df.values\n",
    "ys = y"
   ]
  },
  {
   "cell_type": "code",
   "execution_count": null,
   "metadata": {
    "collapsed": false
   },
   "outputs": [],
   "source": []
  },
  {
   "cell_type": "markdown",
   "metadata": {
    "collapsed": false
   },
   "source": [
    "## Matriz de Correlación Full"
   ]
  },
  {
   "cell_type": "code",
   "execution_count": 27,
   "metadata": {
    "collapsed": false
   },
   "outputs": [
    {
     "name": "stderr",
     "output_type": "stream",
     "text": [
      "/usr/lib/python3/dist-packages/matplotlib/collections.py:549: FutureWarning: elementwise comparison failed; returning scalar instead, but in the future will perform elementwise comparison\n",
      "  if self._edgecolors == 'face':\n"
     ]
    }
   ],
   "source": [
    "a = df.corr()\n",
    "\n",
    "df_corr = df[a.columns.tolist()]\n",
    "\n",
    "plt.matshow(df_corr.corr())\n",
    "plt.xticks(np.arange(0, len(df_corr.columns)), df_corr.columns.tolist(), rotation=\"vertical\")\n",
    "plt.yticks(np.arange(0, len(df_corr.columns)), df_corr.columns.tolist())\n",
    "plt.colorbar()\n",
    "plt.show()"
   ]
  },
  {
   "cell_type": "markdown",
   "metadata": {
    "collapsed": false
   },
   "source": [
    "# PCA"
   ]
  },
  {
   "cell_type": "code",
   "execution_count": 44,
   "metadata": {
    "collapsed": false
   },
   "outputs": [],
   "source": [
    "from sklearn.decomposition import RandomizedPCA # using randomized Singular Value Decomposition \n",
    "Xp = RandomizedPCA(n_components=35, random_state=1)\n",
    "Xp = Xp.fit_transform(xs)"
   ]
  },
  {
   "cell_type": "code",
   "execution_count": 45,
   "metadata": {
    "collapsed": false
   },
   "outputs": [],
   "source": [
    "#Xp.explained_variance_ratio_.cumsum()"
   ]
  },
  {
   "cell_type": "code",
   "execution_count": 46,
   "metadata": {
    "collapsed": false
   },
   "outputs": [],
   "source": [
    "from sklearn.cross_validation import train_test_split\n",
    "\n",
    "X_train, X_test, y_train, y_test = train_test_split(xs, ys,random_state=1)"
   ]
  },
  {
   "cell_type": "code",
   "execution_count": 47,
   "metadata": {
    "collapsed": false
   },
   "outputs": [],
   "source": [
    "from sklearn.ensemble import ExtraTreesClassifier\n",
    "from sklearn.metrics import classification_report, confusion_matrix\n",
    "from sklearn import metrics\n",
    "\n",
    "\n",
    "def plot_matrix(clf, X_test, y_test):\n",
    "    plt.clf()\n",
    "    plt.imshow(confusion_matrix(clf.predict(X_test), y_test),\n",
    "               interpolation='nearest', cmap=plt.cm.Blues)\n",
    "    plt.colorbar()\n",
    "    plt.xlabel(\"true label\")\n",
    "    plt.ylabel(\"predicted label\")\n",
    "    plt.show()"
   ]
  },
  {
   "cell_type": "code",
   "execution_count": 48,
   "metadata": {
    "collapsed": false
   },
   "outputs": [
    {
     "name": "stdout",
     "output_type": "stream",
     "text": [
      "             precision    recall  f1-score   support\n",
      "\n",
      "          0       0.77      0.62      0.69       379\n",
      "          1       0.70      0.86      0.77       658\n",
      "          2       0.82      0.57      0.67       224\n",
      "\n",
      "avg / total       0.75      0.74      0.73      1261\n",
      "\n",
      "Score over Testing Data 0.7351308485329104\n",
      "Score over Training Data 1.0\n"
     ]
    },
    {
     "name": "stderr",
     "output_type": "stream",
     "text": [
      "/usr/lib/python3/dist-packages/matplotlib/collections.py:549: FutureWarning: elementwise comparison failed; returning scalar instead, but in the future will perform elementwise comparison\n",
      "  if self._edgecolors == 'face':\n"
     ]
    },
    {
     "data": {
      "image/png": "[encoded data removed]",
      "text/plain": [
       "<matplotlib.figure.Figure at 0x7f915cdc62e8>"
      ]
     },
     "metadata": {},
     "output_type": "display_data"
    }
   ],
   "source": [
    "%matplotlib inline\n",
    "clf = ExtraTreesClassifier(n_estimators=300,\n",
    "                           max_features=0.2, \n",
    "                           n_jobs=2,\n",
    "                           max_depth=None,\n",
    "                           min_samples_split=1,\n",
    "                           random_state=1).fit(X_train, y_train)\n",
    "print(classification_report(y_test, clf.predict(X_test)))\n",
    "print(\"Score over Testing Data {}\".format(clf.score(X_test, y_test)))\n",
    "print(\"Score over Training Data {}\".format(clf.score(X_train, y_train)))\n",
    "plot_matrix(clf, X_test, y_test)"
   ]
  },
  {
   "cell_type": "code",
   "execution_count": 49,
   "metadata": {
    "collapsed": false
   },
   "outputs": [
    {
     "name": "stdout",
     "output_type": "stream",
     "text": [
      "(50,)\n"
     ]
    },
    {
     "data": {
      "text/plain": [
       "(0, 50)"
      ]
     },
     "execution_count": 49,
     "metadata": {},
     "output_type": "execute_result"
    },
    {
     "data": {
      "image/png": "[encoded data removed]",
      "text/plain": [
       "<matplotlib.figure.Figure at 0x7f911d3b79e8>"
      ]
     },
     "metadata": {},
     "output_type": "display_data"
    }
   ],
   "source": [
    "importances = clf.feature_importances_\n",
    "cols = len(df.columns)\n",
    "\n",
    "text = list(map(lambda i: df.columns[i], range(cols)))\n",
    "plt.figure(figsize=(20,cols))\n",
    "print(importances[::-1].shape)\n",
    "plt.bar(range(cols),height=importances,  width=1.)\n",
    "plt.xticks(np.arange(0.5, cols, 1.), text, rotation=90)\n",
    "plt.xlim((0, cols))\n",
    "#plt.show()"
   ]
  },
  {
   "cell_type": "code",
   "execution_count": 50,
   "metadata": {
    "collapsed": false
   },
   "outputs": [
    {
     "data": {
      "text/plain": [
       "array([[236, 142,   1],\n",
       "       [ 67, 564,  27],\n",
       "       [  2,  95, 127]])"
      ]
     },
     "execution_count": 50,
     "metadata": {},
     "output_type": "execute_result"
    }
   ],
   "source": [
    "confusion_matrix(y_test, clf.predict(X_test))"
   ]
  },
  {
   "cell_type": "markdown",
   "metadata": {
    "collapsed": false
   },
   "source": [
    "## Dummy"
   ]
  },
  {
   "cell_type": "code",
   "execution_count": 51,
   "metadata": {
    "collapsed": false
   },
   "outputs": [
    {
     "name": "stderr",
     "output_type": "stream",
     "text": [
      "/usr/lib/python3/dist-packages/matplotlib/collections.py:549: FutureWarning: elementwise comparison failed; returning scalar instead, but in the future will perform elementwise comparison\n",
      "  if self._edgecolors == 'face':\n"
     ]
    },
    {
     "data": {
      "image/png": "[encoded data removed]",
      "text/plain": [
       "<matplotlib.figure.Figure at 0x7f912a118780>"
      ]
     },
     "metadata": {},
     "output_type": "display_data"
    },
    {
     "name": "stdout",
     "output_type": "stream",
     "text": [
      "             precision    recall  f1-score   support\n",
      "\n",
      "          0       0.30      0.28      0.29       379\n",
      "          1       0.52      0.53      0.52       658\n",
      "          2       0.17      0.18      0.18       224\n",
      "\n",
      "avg / total       0.39      0.39      0.39      1261\n",
      "\n"
     ]
    }
   ],
   "source": [
    "from sklearn.dummy import DummyClassifier\n",
    "clf = DummyClassifier(random_state=0).fit(X_train, y_train)\n",
    "#print clf.score(X_test, y_test)\n",
    "plot_matrix(clf, X_test, y_test)\n",
    "clf.score(X_test, y_test)\n",
    "print(classification_report(y_test, clf.predict(X_test)))"
   ]
  },
  {
   "cell_type": "code",
   "execution_count": 52,
   "metadata": {
    "collapsed": false
   },
   "outputs": [
    {
     "data": {
      "text/plain": [
       "array([[106, 212,  61],\n",
       "       [175, 346, 137],\n",
       "       [ 76, 107,  41]])"
      ]
     },
     "execution_count": 52,
     "metadata": {},
     "output_type": "execute_result"
    }
   ],
   "source": [
    "confusion_matrix(y_test, clf.predict(X_test))"
   ]
  },
  {
   "cell_type": "markdown",
   "metadata": {},
   "source": [
    "## SVM"
   ]
  },
  {
   "cell_type": "code",
   "execution_count": 37,
   "metadata": {
    "collapsed": false
   },
   "outputs": [
    {
     "name": "stdout",
     "output_type": "stream",
     "text": [
      "             precision    recall  f1-score   support\n",
      "\n",
      "          0       1.00      0.03      0.06       379\n",
      "          1       0.53      1.00      0.69       658\n",
      "          2       1.00      0.03      0.05       224\n",
      "\n",
      "avg / total       0.75      0.54      0.39      1261\n",
      "\n",
      "0.536082474227\n"
     ]
    },
    {
     "name": "stderr",
     "output_type": "stream",
     "text": [
      "/usr/lib/python3/dist-packages/matplotlib/collections.py:549: FutureWarning: elementwise comparison failed; returning scalar instead, but in the future will perform elementwise comparison\n",
      "  if self._edgecolors == 'face':\n"
     ]
    },
    {
     "data": {
      "image/png": "[encoded data removed]",
      "text/plain": [
       "<matplotlib.figure.Figure at 0x7f911fdf59e8>"
      ]
     },
     "metadata": {},
     "output_type": "display_data"
    }
   ],
   "source": [
    "from sklearn.svm import SVC\n",
    "\n",
    "sv = SVC(kernel='rbf', cache_size=1000)\n",
    "sv.fit(X_train, y_train)\n",
    "\n",
    "print(classification_report(y_test, sv.predict(X_test)))\n",
    "print(sv.score(X_test, y_test))\n",
    "plot_matrix(sv, X_test, y_test)"
   ]
  },
  {
   "cell_type": "code",
   "execution_count": 40,
   "metadata": {
    "collapsed": false
   },
   "outputs": [
    {
     "data": {
      "text/plain": [
       "array([[ 12, 367,   0],\n",
       "       [  0, 658,   0],\n",
       "       [  0, 218,   6]])"
      ]
     },
     "execution_count": 40,
     "metadata": {},
     "output_type": "execute_result"
    }
   ],
   "source": [
    "confusion_matrix(y_test, sv.predict(X_test))"
   ]
  },
  {
   "cell_type": "code",
   "execution_count": null,
   "metadata": {
    "collapsed": true
   },
   "outputs": [],
   "source": []
  },
  {
   "cell_type": "markdown",
   "metadata": {
    "collapsed": true
   },
   "source": [
    "# Red Neuronal"
   ]
  },
  {
   "cell_type": "code",
   "execution_count": 426,
   "metadata": {
    "collapsed": false
   },
   "outputs": [],
   "source": [
    "from lasagne.nonlinearities import linear, tanh, rectify\n",
    "from sklearn.metrics import classification_report, confusion_matrix"
   ]
  },
  {
   "cell_type": "code",
   "execution_count": 427,
   "metadata": {
    "collapsed": false
   },
   "outputs": [],
   "source": [
    "xs = x\n",
    "ys = np.array(y)"
   ]
  },
  {
   "cell_type": "code",
   "execution_count": 428,
   "metadata": {
    "collapsed": false
   },
   "outputs": [
    {
     "name": "stderr",
     "output_type": "stream",
     "text": [
      "/home/leandro/virtualenvs/DSS/lib/python3.4/site-packages/sklearn/utils/validation.py:420: DataConversionWarning: Data with input dtype int64 was converted to float64 by MinMaxScaler.\n",
      "  warnings.warn(msg, DataConversionWarning)\n",
      "/home/leandro/virtualenvs/DSS/lib/python3.4/site-packages/sklearn/preprocessing/data.py:324: DeprecationWarning: Passing 1d arrays as data is deprecated in 0.17 and will raise ValueError in 0.19. Reshape your data either using X.reshape(-1, 1) if your data has a single feature or X.reshape(1, -1) if it contains a single sample.\n",
      "  warnings.warn(DEPRECATION_MSG_1D, DeprecationWarning)\n",
      "/home/leandro/virtualenvs/DSS/lib/python3.4/site-packages/sklearn/preprocessing/data.py:359: DeprecationWarning: Passing 1d arrays as data is deprecated in 0.17 and will raise ValueError in 0.19. Reshape your data either using X.reshape(-1, 1) if your data has a single feature or X.reshape(1, -1) if it contains a single sample.\n",
      "  warnings.warn(DEPRECATION_MSG_1D, DeprecationWarning)\n"
     ]
    }
   ],
   "source": [
    "std_x = MinMaxScaler([-1, 1])\n",
    "xs = std_x.fit_transform(np.array(xs))\n",
    "std_y = MinMaxScaler([0, 2])\n",
    "ys = std_y.fit_transform(np.array(ys))\n",
    "\n",
    "X_train, X_test, y_train, y_test = train_test_split(xs, ys,random_state=1)"
   ]
  },
  {
   "cell_type": "code",
   "execution_count": 429,
   "metadata": {
    "collapsed": false
   },
   "outputs": [],
   "source": [
    "layers_0 = [\n",
    "                (InputLayer, {'shape': (None, 50)}),\n",
    "                (DenseLayer, {'num_units': 512}),\n",
    "                (DropoutLayer, {'p': 0.5}),\n",
    "                (DenseLayer, {'num_units': 512}),\n",
    "                (DropoutLayer, {'p': 0.5}),\n",
    "                (DenseLayer, {'num_units': 3, 'nonlinearity': softmax}),\n",
    "        ]"
   ]
  },
  {
   "cell_type": "code",
   "execution_count": 430,
   "metadata": {
    "collapsed": true
   },
   "outputs": [],
   "source": [
    "class AdjustVariable(object):\n",
    "    \"\"\"\n",
    "    Used to decreases linearly the learning rate with the number of epochs,\n",
    "    while we the momentum increase.\n",
    "    \"\"\"\n",
    "    def __init__(self, name, start=0.03, stop=0.001):\n",
    "        self.name = name\n",
    "        self.start, self.stop = start, stop\n",
    "        self.ls = None\n",
    "\n",
    "    def __call__(self, nn, train_history):\n",
    "        if self.ls is None:\n",
    "            self.ls = np.linspace(self.start, self.stop, nn.max_epochs)\n",
    "\n",
    "        epoch = train_history[-1]['epoch']\n",
    "        new_value = np.float32(self.ls[epoch - 1])\n",
    "        getattr(nn, self.name).set_value(new_value)"
   ]
  },
  {
   "cell_type": "code",
   "execution_count": 448,
   "metadata": {
    "collapsed": false
   },
   "outputs": [],
   "source": [
    "def create_network(npochs=50, batch_s=10000):\n",
    "    return NeuralNet(\n",
    "        layers=layers_0,\n",
    "        update=nesterov_momentum,\n",
    "        update_learning_rate=theano.shared(np.float32(0.009)),\n",
    "        update_momentum=theano.shared(np.float32(0.9)),\n",
    "\n",
    "        regression=False,\n",
    "        batch_iterator_train=BatchIterator(batch_size=batch_s),\n",
    "        on_epoch_finished=[\n",
    "            AdjustVariable('update_learning_rate', start=0.09, stop=0.009),\n",
    "            AdjustVariable('update_momentum', start=0.9, stop=0.9999)\n",
    "        ],\n",
    "        max_epochs=npochs,\n",
    "        verbose=1)\n",
    "\n",
    "#net0 = create_network(10)"
   ]
  },
  {
   "cell_type": "code",
   "execution_count": 449,
   "metadata": {
    "collapsed": false
   },
   "outputs": [],
   "source": [
    "#theano.config.profile = True\n"
   ]
  },
  {
   "cell_type": "code",
   "execution_count": 450,
   "metadata": {
    "collapsed": false
   },
   "outputs": [],
   "source": [
    "net0 = create_network(60)"
   ]
  },
  {
   "cell_type": "code",
   "execution_count": 451,
   "metadata": {
    "collapsed": false
   },
   "outputs": [
    {
     "name": "stdout",
     "output_type": "stream",
     "text": [
      "# Neural Network with 290307 learnable parameters\n",
      "\n",
      "## Layer information\n",
      "\n",
      "  #  name        size\n",
      "---  --------  ------\n",
      "  0  input0        50\n",
      "  1  dense1       512\n",
      "  2  dropout2     512\n",
      "  3  dense3       512\n",
      "  4  dropout4     512\n",
      "  5  dense5         3\n",
      "\n",
      "  epoch    trn loss    val loss    trn/val    valid acc  dur\n",
      "-------  ----------  ----------  ---------  -----------  -----\n",
      "      1     \u001b[36m1.12150\u001b[0m     \u001b[32m1.05716\u001b[0m    1.06086      0.42668  0.41s\n",
      "      2     \u001b[36m1.10150\u001b[0m     1.11312    0.98956      0.54029  0.40s\n",
      "      3     1.14741     \u001b[32m1.03667\u001b[0m    1.10683      0.41083  0.38s\n",
      "      4     \u001b[36m1.07175\u001b[0m     \u001b[32m0.97570\u001b[0m    1.09844      0.54029  0.40s\n",
      "      5     \u001b[36m1.02057\u001b[0m     \u001b[32m0.96226\u001b[0m    1.06060      0.54161  0.38s\n",
      "      6     \u001b[36m0.99228\u001b[0m     \u001b[32m0.95376\u001b[0m    1.04039      0.54954  0.43s\n",
      "      7     \u001b[36m0.98434\u001b[0m     \u001b[32m0.94563\u001b[0m    1.04094      0.55482  0.37s\n",
      "      8     \u001b[36m0.97138\u001b[0m     \u001b[32m0.93885\u001b[0m    1.03465      0.55218  0.37s\n",
      "      9     \u001b[36m0.96158\u001b[0m     \u001b[32m0.93143\u001b[0m    1.03237      0.55482  0.37s\n",
      "     10     \u001b[36m0.95027\u001b[0m     \u001b[32m0.92458\u001b[0m    1.02779      0.55746  0.37s\n",
      "     11     \u001b[36m0.94824\u001b[0m     \u001b[32m0.91835\u001b[0m    1.03255      0.55482  0.37s\n",
      "     12     \u001b[36m0.94432\u001b[0m     \u001b[32m0.91217\u001b[0m    1.03524      0.55350  0.36s\n",
      "     13     \u001b[36m0.93642\u001b[0m     \u001b[32m0.90583\u001b[0m    1.03376      0.55614  0.38s\n",
      "     14     \u001b[36m0.93172\u001b[0m     \u001b[32m0.90028\u001b[0m    1.03492      0.56143  0.37s\n",
      "     15     \u001b[36m0.92231\u001b[0m     \u001b[32m0.89515\u001b[0m    1.03033      0.56539  0.36s\n",
      "     16     0.92723     \u001b[32m0.89073\u001b[0m    1.04098      0.56275  0.36s\n",
      "     17     \u001b[36m0.91733\u001b[0m     \u001b[32m0.88587\u001b[0m    1.03551      0.56407  0.37s\n",
      "     18     \u001b[36m0.91346\u001b[0m     \u001b[32m0.88176\u001b[0m    1.03595      0.56275  0.37s\n",
      "     19     0.91664     \u001b[32m0.87768\u001b[0m    1.04440      0.56671  0.40s\n",
      "     20     \u001b[36m0.90867\u001b[0m     \u001b[32m0.87395\u001b[0m    1.03972      0.56803  0.40s\n",
      "     21     \u001b[36m0.89970\u001b[0m     \u001b[32m0.86981\u001b[0m    1.03437      0.57199  0.39s\n",
      "     22     0.90170     \u001b[32m0.86630\u001b[0m    1.04086      0.57332  0.39s\n",
      "     23     \u001b[36m0.89781\u001b[0m     \u001b[32m0.86299\u001b[0m    1.04035      0.57596  0.39s\n",
      "     24     0.90001     \u001b[32m0.85946\u001b[0m    1.04718      0.57860  0.37s\n",
      "     25     \u001b[36m0.88709\u001b[0m     \u001b[32m0.85632\u001b[0m    1.03593      0.57596  0.37s\n",
      "     26     \u001b[36m0.88474\u001b[0m     \u001b[32m0.85281\u001b[0m    1.03745      0.58388  0.37s\n",
      "     27     \u001b[36m0.88186\u001b[0m     \u001b[32m0.85009\u001b[0m    1.03737      0.58653  0.39s\n",
      "     28     0.88236     \u001b[32m0.84729\u001b[0m    1.04138      0.58785  0.37s\n",
      "     29     \u001b[36m0.87508\u001b[0m     \u001b[32m0.84485\u001b[0m    1.03578      0.58520  0.37s\n",
      "     30     0.87808     \u001b[32m0.84239\u001b[0m    1.04236      0.58785  0.38s\n",
      "     31     \u001b[36m0.87362\u001b[0m     \u001b[32m0.83938\u001b[0m    1.04080      0.59445  0.38s\n",
      "     32     0.87385     \u001b[32m0.83700\u001b[0m    1.04402      0.59974  0.41s\n",
      "     33     \u001b[36m0.86510\u001b[0m     \u001b[32m0.83473\u001b[0m    1.03639      0.60238  0.39s\n",
      "     34     \u001b[36m0.86423\u001b[0m     \u001b[32m0.83206\u001b[0m    1.03867      0.60370  0.59s\n",
      "     35     0.86854     \u001b[32m0.82922\u001b[0m    1.04742      0.60370  0.46s\n",
      "     36     \u001b[36m0.86178\u001b[0m     \u001b[32m0.82669\u001b[0m    1.04245      0.60370  0.56s\n",
      "     37     \u001b[36m0.85612\u001b[0m     \u001b[32m0.82432\u001b[0m    1.03859      0.60766  0.36s\n",
      "     38     \u001b[36m0.85275\u001b[0m     \u001b[32m0.82207\u001b[0m    1.03731      0.61030  0.45s\n",
      "     39     \u001b[36m0.84841\u001b[0m     \u001b[32m0.81980\u001b[0m    1.03490      0.61427  0.37s\n",
      "     40     \u001b[36m0.84727\u001b[0m     \u001b[32m0.81749\u001b[0m    1.03642      0.61427  0.37s\n",
      "     41     \u001b[36m0.84490\u001b[0m     \u001b[32m0.81557\u001b[0m    1.03596      0.61559  0.36s\n",
      "     42     \u001b[36m0.84183\u001b[0m     \u001b[32m0.81360\u001b[0m    1.03470      0.62087  0.36s\n",
      "     43     \u001b[36m0.83521\u001b[0m     \u001b[32m0.81114\u001b[0m    1.02967      0.61955  0.38s\n",
      "     44     \u001b[36m0.83304\u001b[0m     \u001b[32m0.80905\u001b[0m    1.02965      0.62616  0.42s\n",
      "     45     \u001b[36m0.83237\u001b[0m     \u001b[32m0.80685\u001b[0m    1.03163      0.62351  0.37s\n",
      "     46     \u001b[36m0.82837\u001b[0m     \u001b[32m0.80441\u001b[0m    1.02979      0.62351  0.36s\n",
      "     47     \u001b[36m0.82132\u001b[0m     \u001b[32m0.80246\u001b[0m    1.02350      0.62483  0.37s\n",
      "     48     \u001b[36m0.81731\u001b[0m     \u001b[32m0.80062\u001b[0m    1.02085      0.62483  0.37s\n",
      "     49     \u001b[36m0.81398\u001b[0m     \u001b[32m0.79829\u001b[0m    1.01965      0.62483  0.47s\n",
      "     50     0.81721     \u001b[32m0.79629\u001b[0m    1.02627      0.62351  0.46s\n",
      "     51     0.81731     \u001b[32m0.79424\u001b[0m    1.02904      0.61955  0.36s\n",
      "     52     0.81813     \u001b[32m0.79250\u001b[0m    1.03234      0.61955  0.37s\n",
      "     53     \u001b[36m0.80893\u001b[0m     \u001b[32m0.79082\u001b[0m    1.02290      0.61955  0.37s\n",
      "     54     \u001b[36m0.80786\u001b[0m     \u001b[32m0.78905\u001b[0m    1.02384      0.62087  0.37s\n",
      "     55     \u001b[36m0.80721\u001b[0m     \u001b[32m0.78768\u001b[0m    1.02480      0.61955  0.36s\n",
      "     56     \u001b[36m0.80624\u001b[0m     \u001b[32m0.78614\u001b[0m    1.02557      0.62087  0.37s\n",
      "     57     \u001b[36m0.80309\u001b[0m     \u001b[32m0.78487\u001b[0m    1.02321      0.62087  0.42s\n",
      "     58     0.80473     \u001b[32m0.78345\u001b[0m    1.02716      0.61823  0.38s\n",
      "     59     \u001b[36m0.79067\u001b[0m     \u001b[32m0.78233\u001b[0m    1.01067      0.61823  0.38s\n",
      "     60     0.79567     \u001b[32m0.78146\u001b[0m    1.01819      0.61427  0.37s\n"
     ]
    },
    {
     "data": {
      "text/plain": [
       "<matplotlib.figure.Figure at 0x7f7db2254160>"
      ]
     },
     "metadata": {},
     "output_type": "display_data"
    },
    {
     "data": {
      "image/png": "[encoded data removed]",
      "text/plain": [
       "<matplotlib.figure.Figure at 0x7f7da5aa8438>"
      ]
     },
     "metadata": {},
     "output_type": "display_data"
    }
   ],
   "source": [
    "X_train = X_train.astype(np.float32)\n",
    "y_train = y_train.astype(np.int32)\n",
    "\n",
    "net0.fit(X_train, y_train)\n",
    "plot_loss_net(net0)"
   ]
  },
  {
   "cell_type": "code",
   "execution_count": 452,
   "metadata": {
    "collapsed": false,
    "scrolled": true
   },
   "outputs": [],
   "source": [
    "%matplotlib inline\n",
    "\n",
    "def plot_loss_net(net0):\n",
    "    plt.clf()\n",
    "    plt.figure(figsize=(15,5))\n",
    "\n",
    "    train_loss = np.array([i[\"train_loss\"] for i in net0.train_history_])\n",
    "    valid_loss = np.array([i[\"valid_loss\"] for i in net0.train_history_])\n",
    "    plt.plot(train_loss, '--b', linewidth=2, label=\"{} train\".format(\"net0\"))\n",
    "    plt.plot(valid_loss, '-b', linewidth=2, label=\"{} valid\".format(\"net0\"))\n",
    "\n",
    "    plt.grid()\n",
    "    plt.legend()\n",
    "    plt.xlabel(\"epoch\")\n",
    "    plt.ylabel(\"loss\")\n",
    "    plt.yscale(\"log\")\n",
    "    plt.show()"
   ]
  },
  {
   "cell_type": "code",
   "execution_count": 453,
   "metadata": {
    "collapsed": false
   },
   "outputs": [
    {
     "name": "stdout",
     "output_type": "stream",
     "text": [
      "             precision    recall  f1-score   support\n",
      "\n",
      "          0       0.62      0.61      0.61       379\n",
      "          1       0.65      0.74      0.69       658\n",
      "          2       0.69      0.45      0.54       224\n",
      "\n",
      "avg / total       0.65      0.65      0.64      1261\n",
      "\n"
     ]
    },
    {
     "name": "stderr",
     "output_type": "stream",
     "text": [
      "/usr/lib/python3/dist-packages/matplotlib/collections.py:549: FutureWarning: elementwise comparison failed; returning scalar instead, but in the future will perform elementwise comparison\n",
      "  if self._edgecolors == 'face':\n"
     ]
    },
    {
     "data": {
      "image/png": "[encoded data removed]",
      "text/plain": [
       "<matplotlib.figure.Figure at 0x7f7da738e4e0>"
      ]
     },
     "metadata": {},
     "output_type": "display_data"
    }
   ],
   "source": [
    "X_test = X_test.astype(np.float32)\n",
    "y_test = y_test.astype(np.int32)\n",
    "\n",
    "print(classification_report(y_test, net0.predict(X_test)))\n",
    "plot_matrix(net0, X_test, y_test)"
   ]
  },
  {
   "cell_type": "markdown",
   "metadata": {},
   "source": [
    "# <span style=\"color:red\"> VER ESTO!! NO ESTA TOMANDO LOS ELEMENTOS DE LAS CLASES 0 Y 2</span>."
   ]
  },
  {
   "cell_type": "code",
   "execution_count": 454,
   "metadata": {
    "collapsed": false
   },
   "outputs": [
    {
     "data": {
      "text/plain": [
       "array([[231, 145,   3],\n",
       "       [132, 484,  42],\n",
       "       [ 10, 114, 100]])"
      ]
     },
     "execution_count": 454,
     "metadata": {},
     "output_type": "execute_result"
    }
   ],
   "source": [
    "confusion_matrix(y_test, net0.predict(X_test))"
   ]
  },
  {
   "cell_type": "code",
   "execution_count": null,
   "metadata": {
    "collapsed": false
   },
   "outputs": [],
   "source": []
  },
  {
   "cell_type": "code",
   "execution_count": null,
   "metadata": {
    "collapsed": true
   },
   "outputs": [],
   "source": []
  }
 ],
 "metadata": {
  "kernelspec": {
   "display_name": "Python 3",
   "language": "python",
   "name": "python3"
  },
  "language_info": {
   "codemirror_mode": {
    "name": "ipython",
    "version": 3
   },
   "file_extension": ".py",
   "mimetype": "text/x-python",
   "name": "python",
   "nbconvert_exporter": "python",
   "pygments_lexer": "ipython3",
   "version": "3.4.3"
  }
 },
 "nbformat": 4,
 "nbformat_minor": 0
}

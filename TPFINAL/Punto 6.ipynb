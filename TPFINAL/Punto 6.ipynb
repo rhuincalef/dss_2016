{
 "cells": [
  {
   "cell_type": "code",
   "execution_count": 1,
   "metadata": {
    "collapsed": true
   },
   "outputs": [],
   "source": [
    "import pandas as pd\n",
    "import folium\n",
    "from pygeocoder import Geocoder"
   ]
  },
  {
   "cell_type": "code",
   "execution_count": 2,
   "metadata": {
    "collapsed": true
   },
   "outputs": [],
   "source": [
    "df = pd.read_csv('data/imdb.csv')"
   ]
  },
  {
   "cell_type": "code",
   "execution_count": 3,
   "metadata": {
    "collapsed": false
   },
   "outputs": [],
   "source": [
    "temp = df[(df.imdb_score>=7) & (pd.isnull(df.country) == False)][['movie_title','country', 'imdb_score']]"
   ]
  },
  {
   "cell_type": "code",
   "execution_count": null,
   "metadata": {
    "collapsed": false
   },
   "outputs": [],
   "source": [
    "countries = temp['country'].unique()\n",
    "mapa = folium.Map(location=[0, 0],zoom_start = 1)\n",
    "for country in countries:\n",
    "    t = temp[temp.country == country]['imdb_score']\n",
    "    try:\n",
    "        folium.Marker(Geocoder.geocode(country)[0].coordinates, popup=(\"Country: %s - Minimo: %.2f - Maximo: %.2f - Promedio: %.2f\" % (country, t.min(), t.max(), t.mean()))).add_to(mapa)\n",
    "    except:\n",
    "        print (\"Oops! No se encontro %s en el mapa\" % (country))\n",
    "mapa.save('mapa.html')"
   ]
  },
  {
   "cell_type": "code",
   "execution_count": null,
   "metadata": {
    "collapsed": false
   },
   "outputs": [],
   "source": [
    "%%HTML\n",
    "<iframe width=\"100%\" height=\"350\" src=\"mapa.html?inline=true\"></iframe>"
   ]
  }
 ],
 "metadata": {
  "kernelspec": {
   "display_name": "Python 3",
   "language": "python",
   "name": "python3"
  },
  "language_info": {
   "codemirror_mode": {
    "name": "ipython",
    "version": 3
   },
   "file_extension": ".py",
   "mimetype": "text/x-python",
   "name": "python",
   "nbconvert_exporter": "python",
   "pygments_lexer": "ipython3",
   "version": "3.4.3"
  }
 },
 "nbformat": 4,
 "nbformat_minor": 0
}

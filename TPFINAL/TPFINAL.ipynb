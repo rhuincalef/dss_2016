{
 "cells": [
  {
   "cell_type": "code",
   "execution_count": 35,
   "metadata": {
    "collapsed": false
   },
   "outputs": [],
   "source": [
    "import theano\n",
    "import lasagne\n",
    "import pandas as pd\n",
    "import numpy as np\n",
    "\n",
    "from nltk.corpus import stopwords\n",
    "\n",
    "from sklearn.preprocessing import StandardScaler,MinMaxScaler\n",
    "from nolearn.lasagne import NeuralNet\n",
    "from lasagne.updates import nesterov_momentum\n",
    "from nolearn.lasagne import BatchIterator\n",
    "from lasagne.layers import InputLayer, Conv2DLayer, DropoutLayer,\\\n",
    "    MaxPool2DLayer, DenseLayer\n",
    "from lasagne.nonlinearities import softmax\n",
    "from sklearn.cross_validation import train_test_split"
   ]
  },
  {
   "cell_type": "code",
   "execution_count": 36,
   "metadata": {
    "collapsed": false
   },
   "outputs": [],
   "source": [
    "df = pd.read_csv('/home/leandro/Documentos/Universidad/DSS/dss_2016/TPFINAL/data/imdb.csv')"
   ]
  },
  {
   "cell_type": "code",
   "execution_count": 37,
   "metadata": {
    "collapsed": false
   },
   "outputs": [],
   "source": [
    "df['earning_rate'] = df.apply(lambda r: r.gross / r.budget, axis=1)"
   ]
  },
  {
   "cell_type": "code",
   "execution_count": 38,
   "metadata": {
    "collapsed": false,
    "scrolled": false
   },
   "outputs": [
    {
     "data": {
      "text/html": [
       "<div>\n",
       "<table border=\"1\" class=\"dataframe\">\n",
       "  <thead>\n",
       "    <tr style=\"text-align: right;\">\n",
       "      <th></th>\n",
       "      <th>num_critic_for_reviews</th>\n",
       "      <th>duration</th>\n",
       "      <th>director_facebook_likes</th>\n",
       "      <th>actor_3_facebook_likes</th>\n",
       "      <th>actor_1_facebook_likes</th>\n",
       "      <th>gross</th>\n",
       "      <th>num_voted_users</th>\n",
       "      <th>cast_total_facebook_likes</th>\n",
       "      <th>facenumber_in_poster</th>\n",
       "      <th>num_user_for_reviews</th>\n",
       "      <th>budget</th>\n",
       "      <th>title_year</th>\n",
       "      <th>actor_2_facebook_likes</th>\n",
       "      <th>imdb_score</th>\n",
       "      <th>aspect_ratio</th>\n",
       "      <th>movie_facebook_likes</th>\n",
       "      <th>earning_rate</th>\n",
       "    </tr>\n",
       "  </thead>\n",
       "  <tbody>\n",
       "    <tr>\n",
       "      <th>num_critic_for_reviews</th>\n",
       "      <td>1.000000</td>\n",
       "      <td>0.258486</td>\n",
       "      <td>0.180674</td>\n",
       "      <td>0.271646</td>\n",
       "      <td>0.190016</td>\n",
       "      <td>0.480601</td>\n",
       "      <td>0.624943</td>\n",
       "      <td>0.263203</td>\n",
       "      <td>-0.033897</td>\n",
       "      <td>0.609387</td>\n",
       "      <td>0.119994</td>\n",
       "      <td>0.275707</td>\n",
       "      <td>0.282306</td>\n",
       "      <td>0.305303</td>\n",
       "      <td>-0.049786</td>\n",
       "      <td>0.683176</td>\n",
       "      <td>0.033150</td>\n",
       "    </tr>\n",
       "    <tr>\n",
       "      <th>duration</th>\n",
       "      <td>0.258486</td>\n",
       "      <td>1.000000</td>\n",
       "      <td>0.173296</td>\n",
       "      <td>0.123558</td>\n",
       "      <td>0.088449</td>\n",
       "      <td>0.250298</td>\n",
       "      <td>0.314765</td>\n",
       "      <td>0.123074</td>\n",
       "      <td>0.013469</td>\n",
       "      <td>0.328403</td>\n",
       "      <td>0.074276</td>\n",
       "      <td>-0.135038</td>\n",
       "      <td>0.131673</td>\n",
       "      <td>0.261662</td>\n",
       "      <td>-0.090071</td>\n",
       "      <td>0.196605</td>\n",
       "      <td>-0.032498</td>\n",
       "    </tr>\n",
       "    <tr>\n",
       "      <th>director_facebook_likes</th>\n",
       "      <td>0.180674</td>\n",
       "      <td>0.173296</td>\n",
       "      <td>1.000000</td>\n",
       "      <td>0.120199</td>\n",
       "      <td>0.090723</td>\n",
       "      <td>0.144945</td>\n",
       "      <td>0.297057</td>\n",
       "      <td>0.119549</td>\n",
       "      <td>-0.041268</td>\n",
       "      <td>0.221890</td>\n",
       "      <td>0.021090</td>\n",
       "      <td>-0.063820</td>\n",
       "      <td>0.119601</td>\n",
       "      <td>0.170802</td>\n",
       "      <td>0.001642</td>\n",
       "      <td>0.162048</td>\n",
       "      <td>-0.006292</td>\n",
       "    </tr>\n",
       "    <tr>\n",
       "      <th>actor_3_facebook_likes</th>\n",
       "      <td>0.271646</td>\n",
       "      <td>0.123558</td>\n",
       "      <td>0.120199</td>\n",
       "      <td>1.000000</td>\n",
       "      <td>0.249927</td>\n",
       "      <td>0.308026</td>\n",
       "      <td>0.287239</td>\n",
       "      <td>0.473920</td>\n",
       "      <td>0.099368</td>\n",
       "      <td>0.230189</td>\n",
       "      <td>0.047451</td>\n",
       "      <td>0.096137</td>\n",
       "      <td>0.559662</td>\n",
       "      <td>0.052633</td>\n",
       "      <td>-0.003366</td>\n",
       "      <td>0.278844</td>\n",
       "      <td>-0.012182</td>\n",
       "    </tr>\n",
       "    <tr>\n",
       "      <th>actor_1_facebook_likes</th>\n",
       "      <td>0.190016</td>\n",
       "      <td>0.088449</td>\n",
       "      <td>0.090723</td>\n",
       "      <td>0.249927</td>\n",
       "      <td>1.000000</td>\n",
       "      <td>0.154468</td>\n",
       "      <td>0.192804</td>\n",
       "      <td>0.951661</td>\n",
       "      <td>0.072257</td>\n",
       "      <td>0.145461</td>\n",
       "      <td>0.022639</td>\n",
       "      <td>0.086873</td>\n",
       "      <td>0.390487</td>\n",
       "      <td>0.076099</td>\n",
       "      <td>-0.020049</td>\n",
       "      <td>0.135348</td>\n",
       "      <td>-0.015639</td>\n",
       "    </tr>\n",
       "    <tr>\n",
       "      <th>gross</th>\n",
       "      <td>0.480601</td>\n",
       "      <td>0.250298</td>\n",
       "      <td>0.144945</td>\n",
       "      <td>0.308026</td>\n",
       "      <td>0.154468</td>\n",
       "      <td>1.000000</td>\n",
       "      <td>0.637271</td>\n",
       "      <td>0.247400</td>\n",
       "      <td>-0.027755</td>\n",
       "      <td>0.559958</td>\n",
       "      <td>0.102179</td>\n",
       "      <td>0.030886</td>\n",
       "      <td>0.262768</td>\n",
       "      <td>0.198021</td>\n",
       "      <td>0.069346</td>\n",
       "      <td>0.378082</td>\n",
       "      <td>0.018516</td>\n",
       "    </tr>\n",
       "    <tr>\n",
       "      <th>num_voted_users</th>\n",
       "      <td>0.624943</td>\n",
       "      <td>0.314765</td>\n",
       "      <td>0.297057</td>\n",
       "      <td>0.287239</td>\n",
       "      <td>0.192804</td>\n",
       "      <td>0.637271</td>\n",
       "      <td>1.000000</td>\n",
       "      <td>0.265911</td>\n",
       "      <td>-0.026998</td>\n",
       "      <td>0.798406</td>\n",
       "      <td>0.079621</td>\n",
       "      <td>0.007397</td>\n",
       "      <td>0.270790</td>\n",
       "      <td>0.410965</td>\n",
       "      <td>-0.014761</td>\n",
       "      <td>0.537924</td>\n",
       "      <td>0.010566</td>\n",
       "    </tr>\n",
       "    <tr>\n",
       "      <th>cast_total_facebook_likes</th>\n",
       "      <td>0.263203</td>\n",
       "      <td>0.123074</td>\n",
       "      <td>0.119549</td>\n",
       "      <td>0.473920</td>\n",
       "      <td>0.951661</td>\n",
       "      <td>0.247400</td>\n",
       "      <td>0.265911</td>\n",
       "      <td>1.000000</td>\n",
       "      <td>0.091475</td>\n",
       "      <td>0.206923</td>\n",
       "      <td>0.036557</td>\n",
       "      <td>0.109971</td>\n",
       "      <td>0.628404</td>\n",
       "      <td>0.085787</td>\n",
       "      <td>-0.017885</td>\n",
       "      <td>0.209786</td>\n",
       "      <td>-0.018608</td>\n",
       "    </tr>\n",
       "    <tr>\n",
       "      <th>facenumber_in_poster</th>\n",
       "      <td>-0.033897</td>\n",
       "      <td>0.013469</td>\n",
       "      <td>-0.041268</td>\n",
       "      <td>0.099368</td>\n",
       "      <td>0.072257</td>\n",
       "      <td>-0.027755</td>\n",
       "      <td>-0.026998</td>\n",
       "      <td>0.091475</td>\n",
       "      <td>1.000000</td>\n",
       "      <td>-0.069018</td>\n",
       "      <td>-0.019559</td>\n",
       "      <td>0.061504</td>\n",
       "      <td>0.071228</td>\n",
       "      <td>-0.062958</td>\n",
       "      <td>0.013713</td>\n",
       "      <td>0.008918</td>\n",
       "      <td>-0.013509</td>\n",
       "    </tr>\n",
       "    <tr>\n",
       "      <th>num_user_for_reviews</th>\n",
       "      <td>0.609387</td>\n",
       "      <td>0.328403</td>\n",
       "      <td>0.221890</td>\n",
       "      <td>0.230189</td>\n",
       "      <td>0.145461</td>\n",
       "      <td>0.559958</td>\n",
       "      <td>0.798406</td>\n",
       "      <td>0.206923</td>\n",
       "      <td>-0.069018</td>\n",
       "      <td>1.000000</td>\n",
       "      <td>0.084292</td>\n",
       "      <td>-0.003147</td>\n",
       "      <td>0.219496</td>\n",
       "      <td>0.292475</td>\n",
       "      <td>-0.024719</td>\n",
       "      <td>0.400594</td>\n",
       "      <td>0.068651</td>\n",
       "    </tr>\n",
       "    <tr>\n",
       "      <th>budget</th>\n",
       "      <td>0.119994</td>\n",
       "      <td>0.074276</td>\n",
       "      <td>0.021090</td>\n",
       "      <td>0.047451</td>\n",
       "      <td>0.022639</td>\n",
       "      <td>0.102179</td>\n",
       "      <td>0.079621</td>\n",
       "      <td>0.036557</td>\n",
       "      <td>-0.019559</td>\n",
       "      <td>0.084292</td>\n",
       "      <td>1.000000</td>\n",
       "      <td>0.045726</td>\n",
       "      <td>0.044236</td>\n",
       "      <td>0.030688</td>\n",
       "      <td>0.006598</td>\n",
       "      <td>0.062039</td>\n",
       "      <td>-0.008039</td>\n",
       "    </tr>\n",
       "    <tr>\n",
       "      <th>title_year</th>\n",
       "      <td>0.275707</td>\n",
       "      <td>-0.135038</td>\n",
       "      <td>-0.063820</td>\n",
       "      <td>0.096137</td>\n",
       "      <td>0.086873</td>\n",
       "      <td>0.030886</td>\n",
       "      <td>0.007397</td>\n",
       "      <td>0.109971</td>\n",
       "      <td>0.061504</td>\n",
       "      <td>-0.003147</td>\n",
       "      <td>0.045726</td>\n",
       "      <td>1.000000</td>\n",
       "      <td>0.101890</td>\n",
       "      <td>-0.209167</td>\n",
       "      <td>0.159973</td>\n",
       "      <td>0.218678</td>\n",
       "      <td>-0.017054</td>\n",
       "    </tr>\n",
       "    <tr>\n",
       "      <th>actor_2_facebook_likes</th>\n",
       "      <td>0.282306</td>\n",
       "      <td>0.131673</td>\n",
       "      <td>0.119601</td>\n",
       "      <td>0.559662</td>\n",
       "      <td>0.390487</td>\n",
       "      <td>0.262768</td>\n",
       "      <td>0.270790</td>\n",
       "      <td>0.628404</td>\n",
       "      <td>0.071228</td>\n",
       "      <td>0.219496</td>\n",
       "      <td>0.044236</td>\n",
       "      <td>0.101890</td>\n",
       "      <td>1.000000</td>\n",
       "      <td>0.083808</td>\n",
       "      <td>-0.007783</td>\n",
       "      <td>0.243487</td>\n",
       "      <td>-0.013788</td>\n",
       "    </tr>\n",
       "    <tr>\n",
       "      <th>imdb_score</th>\n",
       "      <td>0.305303</td>\n",
       "      <td>0.261662</td>\n",
       "      <td>0.170802</td>\n",
       "      <td>0.052633</td>\n",
       "      <td>0.076099</td>\n",
       "      <td>0.198021</td>\n",
       "      <td>0.410965</td>\n",
       "      <td>0.085787</td>\n",
       "      <td>-0.062958</td>\n",
       "      <td>0.292475</td>\n",
       "      <td>0.030688</td>\n",
       "      <td>-0.209167</td>\n",
       "      <td>0.083808</td>\n",
       "      <td>1.000000</td>\n",
       "      <td>0.059445</td>\n",
       "      <td>0.247049</td>\n",
       "      <td>0.010300</td>\n",
       "    </tr>\n",
       "    <tr>\n",
       "      <th>aspect_ratio</th>\n",
       "      <td>-0.049786</td>\n",
       "      <td>-0.090071</td>\n",
       "      <td>0.001642</td>\n",
       "      <td>-0.003366</td>\n",
       "      <td>-0.020049</td>\n",
       "      <td>0.069346</td>\n",
       "      <td>-0.014761</td>\n",
       "      <td>-0.017885</td>\n",
       "      <td>0.013713</td>\n",
       "      <td>-0.024719</td>\n",
       "      <td>0.006598</td>\n",
       "      <td>0.159973</td>\n",
       "      <td>-0.007783</td>\n",
       "      <td>0.059445</td>\n",
       "      <td>1.000000</td>\n",
       "      <td>0.025737</td>\n",
       "      <td>-0.041672</td>\n",
       "    </tr>\n",
       "    <tr>\n",
       "      <th>movie_facebook_likes</th>\n",
       "      <td>0.683176</td>\n",
       "      <td>0.196605</td>\n",
       "      <td>0.162048</td>\n",
       "      <td>0.278844</td>\n",
       "      <td>0.135348</td>\n",
       "      <td>0.378082</td>\n",
       "      <td>0.537924</td>\n",
       "      <td>0.209786</td>\n",
       "      <td>0.008918</td>\n",
       "      <td>0.400594</td>\n",
       "      <td>0.062039</td>\n",
       "      <td>0.218678</td>\n",
       "      <td>0.243487</td>\n",
       "      <td>0.247049</td>\n",
       "      <td>0.025737</td>\n",
       "      <td>1.000000</td>\n",
       "      <td>-0.002832</td>\n",
       "    </tr>\n",
       "    <tr>\n",
       "      <th>earning_rate</th>\n",
       "      <td>0.033150</td>\n",
       "      <td>-0.032498</td>\n",
       "      <td>-0.006292</td>\n",
       "      <td>-0.012182</td>\n",
       "      <td>-0.015639</td>\n",
       "      <td>0.018516</td>\n",
       "      <td>0.010566</td>\n",
       "      <td>-0.018608</td>\n",
       "      <td>-0.013509</td>\n",
       "      <td>0.068651</td>\n",
       "      <td>-0.008039</td>\n",
       "      <td>-0.017054</td>\n",
       "      <td>-0.013788</td>\n",
       "      <td>0.010300</td>\n",
       "      <td>-0.041672</td>\n",
       "      <td>-0.002832</td>\n",
       "      <td>1.000000</td>\n",
       "    </tr>\n",
       "  </tbody>\n",
       "</table>\n",
       "</div>"
      ],
      "text/plain": [
       "                           num_critic_for_reviews  duration  \\\n",
       "num_critic_for_reviews                   1.000000  0.258486   \n",
       "duration                                 0.258486  1.000000   \n",
       "director_facebook_likes                  0.180674  0.173296   \n",
       "actor_3_facebook_likes                   0.271646  0.123558   \n",
       "actor_1_facebook_likes                   0.190016  0.088449   \n",
       "gross                                    0.480601  0.250298   \n",
       "num_voted_users                          0.624943  0.314765   \n",
       "cast_total_facebook_likes                0.263203  0.123074   \n",
       "facenumber_in_poster                    -0.033897  0.013469   \n",
       "num_user_for_reviews                     0.609387  0.328403   \n",
       "budget                                   0.119994  0.074276   \n",
       "title_year                               0.275707 -0.135038   \n",
       "actor_2_facebook_likes                   0.282306  0.131673   \n",
       "imdb_score                               0.305303  0.261662   \n",
       "aspect_ratio                            -0.049786 -0.090071   \n",
       "movie_facebook_likes                     0.683176  0.196605   \n",
       "earning_rate                             0.033150 -0.032498   \n",
       "\n",
       "                           director_facebook_likes  actor_3_facebook_likes  \\\n",
       "num_critic_for_reviews                    0.180674                0.271646   \n",
       "duration                                  0.173296                0.123558   \n",
       "director_facebook_likes                   1.000000                0.120199   \n",
       "actor_3_facebook_likes                    0.120199                1.000000   \n",
       "actor_1_facebook_likes                    0.090723                0.249927   \n",
       "gross                                     0.144945                0.308026   \n",
       "num_voted_users                           0.297057                0.287239   \n",
       "cast_total_facebook_likes                 0.119549                0.473920   \n",
       "facenumber_in_poster                     -0.041268                0.099368   \n",
       "num_user_for_reviews                      0.221890                0.230189   \n",
       "budget                                    0.021090                0.047451   \n",
       "title_year                               -0.063820                0.096137   \n",
       "actor_2_facebook_likes                    0.119601                0.559662   \n",
       "imdb_score                                0.170802                0.052633   \n",
       "aspect_ratio                              0.001642               -0.003366   \n",
       "movie_facebook_likes                      0.162048                0.278844   \n",
       "earning_rate                             -0.006292               -0.012182   \n",
       "\n",
       "                           actor_1_facebook_likes     gross  num_voted_users  \\\n",
       "num_critic_for_reviews                   0.190016  0.480601         0.624943   \n",
       "duration                                 0.088449  0.250298         0.314765   \n",
       "director_facebook_likes                  0.090723  0.144945         0.297057   \n",
       "actor_3_facebook_likes                   0.249927  0.308026         0.287239   \n",
       "actor_1_facebook_likes                   1.000000  0.154468         0.192804   \n",
       "gross                                    0.154468  1.000000         0.637271   \n",
       "num_voted_users                          0.192804  0.637271         1.000000   \n",
       "cast_total_facebook_likes                0.951661  0.247400         0.265911   \n",
       "facenumber_in_poster                     0.072257 -0.027755        -0.026998   \n",
       "num_user_for_reviews                     0.145461  0.559958         0.798406   \n",
       "budget                                   0.022639  0.102179         0.079621   \n",
       "title_year                               0.086873  0.030886         0.007397   \n",
       "actor_2_facebook_likes                   0.390487  0.262768         0.270790   \n",
       "imdb_score                               0.076099  0.198021         0.410965   \n",
       "aspect_ratio                            -0.020049  0.069346        -0.014761   \n",
       "movie_facebook_likes                     0.135348  0.378082         0.537924   \n",
       "earning_rate                            -0.015639  0.018516         0.010566   \n",
       "\n",
       "                           cast_total_facebook_likes  facenumber_in_poster  \\\n",
       "num_critic_for_reviews                      0.263203             -0.033897   \n",
       "duration                                    0.123074              0.013469   \n",
       "director_facebook_likes                     0.119549             -0.041268   \n",
       "actor_3_facebook_likes                      0.473920              0.099368   \n",
       "actor_1_facebook_likes                      0.951661              0.072257   \n",
       "gross                                       0.247400             -0.027755   \n",
       "num_voted_users                             0.265911             -0.026998   \n",
       "cast_total_facebook_likes                   1.000000              0.091475   \n",
       "facenumber_in_poster                        0.091475              1.000000   \n",
       "num_user_for_reviews                        0.206923             -0.069018   \n",
       "budget                                      0.036557             -0.019559   \n",
       "title_year                                  0.109971              0.061504   \n",
       "actor_2_facebook_likes                      0.628404              0.071228   \n",
       "imdb_score                                  0.085787             -0.062958   \n",
       "aspect_ratio                               -0.017885              0.013713   \n",
       "movie_facebook_likes                        0.209786              0.008918   \n",
       "earning_rate                               -0.018608             -0.013509   \n",
       "\n",
       "                           num_user_for_reviews    budget  title_year  \\\n",
       "num_critic_for_reviews                 0.609387  0.119994    0.275707   \n",
       "duration                               0.328403  0.074276   -0.135038   \n",
       "director_facebook_likes                0.221890  0.021090   -0.063820   \n",
       "actor_3_facebook_likes                 0.230189  0.047451    0.096137   \n",
       "actor_1_facebook_likes                 0.145461  0.022639    0.086873   \n",
       "gross                                  0.559958  0.102179    0.030886   \n",
       "num_voted_users                        0.798406  0.079621    0.007397   \n",
       "cast_total_facebook_likes              0.206923  0.036557    0.109971   \n",
       "facenumber_in_poster                  -0.069018 -0.019559    0.061504   \n",
       "num_user_for_reviews                   1.000000  0.084292   -0.003147   \n",
       "budget                                 0.084292  1.000000    0.045726   \n",
       "title_year                            -0.003147  0.045726    1.000000   \n",
       "actor_2_facebook_likes                 0.219496  0.044236    0.101890   \n",
       "imdb_score                             0.292475  0.030688   -0.209167   \n",
       "aspect_ratio                          -0.024719  0.006598    0.159973   \n",
       "movie_facebook_likes                   0.400594  0.062039    0.218678   \n",
       "earning_rate                           0.068651 -0.008039   -0.017054   \n",
       "\n",
       "                           actor_2_facebook_likes  imdb_score  aspect_ratio  \\\n",
       "num_critic_for_reviews                   0.282306    0.305303     -0.049786   \n",
       "duration                                 0.131673    0.261662     -0.090071   \n",
       "director_facebook_likes                  0.119601    0.170802      0.001642   \n",
       "actor_3_facebook_likes                   0.559662    0.052633     -0.003366   \n",
       "actor_1_facebook_likes                   0.390487    0.076099     -0.020049   \n",
       "gross                                    0.262768    0.198021      0.069346   \n",
       "num_voted_users                          0.270790    0.410965     -0.014761   \n",
       "cast_total_facebook_likes                0.628404    0.085787     -0.017885   \n",
       "facenumber_in_poster                     0.071228   -0.062958      0.013713   \n",
       "num_user_for_reviews                     0.219496    0.292475     -0.024719   \n",
       "budget                                   0.044236    0.030688      0.006598   \n",
       "title_year                               0.101890   -0.209167      0.159973   \n",
       "actor_2_facebook_likes                   1.000000    0.083808     -0.007783   \n",
       "imdb_score                               0.083808    1.000000      0.059445   \n",
       "aspect_ratio                            -0.007783    0.059445      1.000000   \n",
       "movie_facebook_likes                     0.243487    0.247049      0.025737   \n",
       "earning_rate                            -0.013788    0.010300     -0.041672   \n",
       "\n",
       "                           movie_facebook_likes  earning_rate  \n",
       "num_critic_for_reviews                 0.683176      0.033150  \n",
       "duration                               0.196605     -0.032498  \n",
       "director_facebook_likes                0.162048     -0.006292  \n",
       "actor_3_facebook_likes                 0.278844     -0.012182  \n",
       "actor_1_facebook_likes                 0.135348     -0.015639  \n",
       "gross                                  0.378082      0.018516  \n",
       "num_voted_users                        0.537924      0.010566  \n",
       "cast_total_facebook_likes              0.209786     -0.018608  \n",
       "facenumber_in_poster                   0.008918     -0.013509  \n",
       "num_user_for_reviews                   0.400594      0.068651  \n",
       "budget                                 0.062039     -0.008039  \n",
       "title_year                             0.218678     -0.017054  \n",
       "actor_2_facebook_likes                 0.243487     -0.013788  \n",
       "imdb_score                             0.247049      0.010300  \n",
       "aspect_ratio                           0.025737     -0.041672  \n",
       "movie_facebook_likes                   1.000000     -0.002832  \n",
       "earning_rate                          -0.002832      1.000000  "
      ]
     },
     "execution_count": 38,
     "metadata": {},
     "output_type": "execute_result"
    }
   ],
   "source": [
    "a = df.corr()\n",
    "a"
   ]
  },
  {
   "cell_type": "code",
   "execution_count": 39,
   "metadata": {
    "collapsed": false
   },
   "outputs": [
    {
     "name": "stderr",
     "output_type": "stream",
     "text": [
      "/usr/lib/python3/dist-packages/matplotlib/collections.py:549: FutureWarning: elementwise comparison failed; returning scalar instead, but in the future will perform elementwise comparison\n",
      "  if self._edgecolors == 'face':\n"
     ]
    }
   ],
   "source": [
    "import matplotlib.pyplot as plt\n",
    "\n",
    "df_corr = df[a.columns.tolist()]\n",
    "\n",
    "plt.matshow(df_corr.corr())\n",
    "plt.xticks(np.arange(0, len(df_corr.columns)), df_corr.columns.tolist(), rotation=\"vertical\")\n",
    "plt.yticks(np.arange(0, len(df_corr.columns)), df_corr.columns.tolist())\n",
    "plt.colorbar()\n",
    "plt.show()"
   ]
  },
  {
   "cell_type": "code",
   "execution_count": 40,
   "metadata": {
    "collapsed": false
   },
   "outputs": [],
   "source": [
    "df.drop('movie_imdb_link', axis=1, inplace=True)\n",
    "df.drop('color', axis=1, inplace=True)"
   ]
  },
  {
   "cell_type": "code",
   "execution_count": 41,
   "metadata": {
    "collapsed": false
   },
   "outputs": [],
   "source": [
    "## Para obtener los indices de los paises y los lenguajes de las peliculas\n",
    "idx_language, label_language = pd.factorize(df['language'])\n",
    "idx_country, label_country = pd.factorize(df['country'])\n",
    "\n",
    "## Para obtener los indices de los actores\n",
    "idx_actor1, label_actor1 = pd.factorize(df['actor_1_name'])\n",
    "idx_actor2, label_actor2 = pd.factorize(df['actor_2_name'])\n",
    "idx_actor3, label_actor3 = pd.factorize(df['actor_3_name'])\n",
    "\n",
    "## Para obtener el indice del director\n",
    "idx_director, label_director = pd.factorize(df['director_name'])"
   ]
  },
  {
   "cell_type": "code",
   "execution_count": 42,
   "metadata": {
    "collapsed": false
   },
   "outputs": [],
   "source": [
    "df = pd.concat([df, df.genres.str.get_dummies(sep='|')], axis=1)\n",
    "df.drop('genres', axis=1, inplace=True)"
   ]
  },
  {
   "cell_type": "code",
   "execution_count": 43,
   "metadata": {
    "collapsed": true
   },
   "outputs": [],
   "source": [
    "#Se debe realizar etiquetado de los nombres de los actores y directores"
   ]
  },
  {
   "cell_type": "code",
   "execution_count": 44,
   "metadata": {
    "collapsed": false,
    "scrolled": true
   },
   "outputs": [],
   "source": [
    "df_separados = pd.DataFrame()\n",
    "df_separados = pd.concat([df_separados, df.plot_keywords.str.replace('|',' ')],axis=1)\n",
    "\n",
    "stopw = set(stopwords.words('english')) \n",
    "corpus = []\n",
    "for e in df_separados.values:\n",
    "    if type(e[0]) is str:\n",
    "        corpus.append(e[0])\n",
    "corpus1 = \" \".join(corpus)\n",
    "corpus1 = corpus1.split(\" \")"
   ]
  },
  {
   "cell_type": "code",
   "execution_count": 45,
   "metadata": {
    "collapsed": true
   },
   "outputs": [],
   "source": [
    "corpus1 = list(filter(lambda x: not x[0] in stopw, corpus1))\n",
    "corpus1 = set(corpus1)"
   ]
  },
  {
   "cell_type": "code",
   "execution_count": null,
   "metadata": {
    "collapsed": false
   },
   "outputs": [],
   "source": []
  },
  {
   "cell_type": "code",
   "execution_count": 14,
   "metadata": {
    "collapsed": false
   },
   "outputs": [
    {
     "data": {
      "text/plain": [
       "TfidfVectorizer(analyzer='word', binary=False, decode_error='strict',\n",
       "        dtype=<class 'numpy.int64'>, encoding='utf-8', input='content',\n",
       "        lowercase=True, max_df=2, max_features=None, min_df=1,\n",
       "        ngram_range=(1, 1), norm='l2', preprocessor=None, smooth_idf=True,\n",
       "        stop_words={'myself', 'doing', 'its', 'only', 'wasn', 'am', 'when', 'will', 'on', 'and', 'or', 'then', 'against', 'that', 'is', 'while', 'of', 'down', 'with', 'themselves', 'have', 'through', 'theirs', 'off', 'too', 'both', 'o', 'not', 'at', 'here', 'hadn', 'because', 'his', 'out', 'be', 'into', 'ag...t', 'were', 'him', 'where', 'these', 'd', 'most', 'me', 'own', 'we', 'won', 'aren', 'over', 'which'},\n",
       "        strip_accents=None, sublinear_tf=True,\n",
       "        token_pattern='(?u)\\\\b\\\\w\\\\w+\\\\b', tokenizer=None, use_idf=True,\n",
       "        vocabulary={'visiting', 'notes', 'landscape', 'pickpocket', 'cybercrime', 'bernini', 'questioning', 'painting', 'luminol', 'parachute', 'heavyweight', 'carving', 'vagina', 'fidel', 'will', 'behind', 'respect', 'entry', 'cameo', 'electroshock', 'zoologist', 'new', 'hitchcockian', 'hugo', 'rune', 'cin..., 'electronic', 'lost', 'nevada', 'lawn', 'clinic', 'cloning', 'corpse', 'viagra', 'class', 'leave'})"
      ]
     },
     "execution_count": 14,
     "metadata": {},
     "output_type": "execute_result"
    }
   ],
   "source": [
    "from sklearn.feature_extraction.text import TfidfVectorizer\n",
    "vocabulary = corpus1\n",
    "vect = TfidfVectorizer(sublinear_tf=True, max_df=2, analyzer='word', \n",
    "           stop_words=stopw, vocabulary=vocabulary)\n",
    "vect.fit(corpus)\n",
    "\n",
    "#print(dict(zip(vect.get_feature_names(), vect.idf_)))"
   ]
  },
  {
   "cell_type": "markdown",
   "metadata": {},
   "source": [
    "doc = 'avatar future marine native paraplegic'\n",
    "doc_tfidf = vect.transform([doc])\n",
    "doc_tfidf.toarray().sum()"
   ]
  },
  {
   "cell_type": "markdown",
   "metadata": {
    "collapsed": false
   },
   "source": [
    "\"\"\"from collections import Counter\n",
    "\n",
    "c = Counter(corpus)\n",
    "top_words = c.most_common()\n",
    "\n",
    "tmp = list(filter(lambda x: x[1] > 70, top_words))\n",
    "tmp = list(filter(lambda x: not x[0] in stopw, tmp))\n",
    "\n",
    "corpus = list(map(lambda x: x[0], tmp))\"\"\""
   ]
  },
  {
   "cell_type": "code",
   "execution_count": 48,
   "metadata": {
    "collapsed": false
   },
   "outputs": [],
   "source": [
    "def transformar_keywords(k):\n",
    "    if not type(k) is str:\n",
    "        return 0  \n",
    "    keywords = k.replace('|',\" \")\n",
    "    doc_tfidf = vect.transform([k])\n",
    "    t = doc_tfidf.toarray().sum()\n",
    "    return t"
   ]
  },
  {
   "cell_type": "code",
   "execution_count": null,
   "metadata": {
    "collapsed": false
   },
   "outputs": [],
   "source": []
  },
  {
   "cell_type": "code",
   "execution_count": 49,
   "metadata": {
    "collapsed": false
   },
   "outputs": [],
   "source": [
    "df['plot_keywords'] = df['plot_keywords'].apply(lambda row: transformar_keywords(row)) "
   ]
  },
  {
   "cell_type": "code",
   "execution_count": null,
   "metadata": {
    "collapsed": false
   },
   "outputs": [],
   "source": []
  },
  {
   "cell_type": "code",
   "execution_count": 50,
   "metadata": {
    "collapsed": true
   },
   "outputs": [],
   "source": [
    "#df.drop('plot_keywords', axis=1, inplace=True)\n"
   ]
  },
  {
   "cell_type": "code",
   "execution_count": 51,
   "metadata": {
    "collapsed": true
   },
   "outputs": [],
   "source": [
    "#Para obtener los indices del titulo de las peliculas y el content rating\n",
    "idx_movie, label_movie = pd.factorize(df['movie_title'])\n",
    "idx_content, label_content = pd.factorize(df['content_rating'])"
   ]
  },
  {
   "cell_type": "code",
   "execution_count": 52,
   "metadata": {
    "collapsed": false
   },
   "outputs": [],
   "source": [
    "df['language'] = idx_language\n",
    "df['country'] = idx_country\n",
    "df['actor_1_name'] = idx_actor1\n",
    "df['actor_2_name'] = idx_actor2\n",
    "df['actor_3_name'] = idx_actor3\n",
    "df['director_name'] = idx_director\n",
    "df['movie_title'] = idx_movie\n",
    "df['content_rating'] = idx_content\n"
   ]
  },
  {
   "cell_type": "code",
   "execution_count": 53,
   "metadata": {
    "collapsed": false
   },
   "outputs": [],
   "source": [
    "df.fillna(value=-1, inplace=True)"
   ]
  },
  {
   "cell_type": "code",
   "execution_count": 54,
   "metadata": {
    "collapsed": false
   },
   "outputs": [],
   "source": [
    "ys = df['imdb_score']\n",
    "df.drop('imdb_score', axis=1, inplace=True)"
   ]
  },
  {
   "cell_type": "code",
   "execution_count": 55,
   "metadata": {
    "collapsed": false
   },
   "outputs": [],
   "source": [
    "df.drop('actor_2_facebook_likes', axis=1, inplace=True)\n",
    "df.drop('actor_3_facebook_likes', axis=1, inplace=True)\n",
    "#df.drop('cast_total_facebook_likes', axis=1, inplace=True)\n",
    "#df.drop('movie_facebook_likes', axis=1, inplace=True)\n",
    "df.drop('budget', axis=1, inplace=True)\n",
    "df.drop('gross', axis=1, inplace=True)\n",
    "#df.drop(['Film-Noir', 'News', 'Reality-TV', 'Short' ,'History', 'Western', 'Game-Show'], axis=1, inplace=True)\n",
    "\n",
    "#Seleccionado uno de los atributos relevantes.\n",
    "\n",
    "df_test = df"
   ]
  },
  {
   "cell_type": "code",
   "execution_count": null,
   "metadata": {
    "collapsed": false
   },
   "outputs": [],
   "source": []
  },
  {
   "cell_type": "code",
   "execution_count": 56,
   "metadata": {
    "collapsed": false
   },
   "outputs": [],
   "source": [
    "xs = df.values"
   ]
  },
  {
   "cell_type": "code",
   "execution_count": 57,
   "metadata": {
    "collapsed": false
   },
   "outputs": [
    {
     "name": "stderr",
     "output_type": "stream",
     "text": [
      "/home/leandro/virtualenvs/DSS/lib/python3.4/site-packages/sklearn/preprocessing/data.py:324: DeprecationWarning: Passing 1d arrays as data is deprecated in 0.17 and will raise ValueError in 0.19. Reshape your data either using X.reshape(-1, 1) if your data has a single feature or X.reshape(1, -1) if it contains a single sample.\n",
      "  warnings.warn(DEPRECATION_MSG_1D, DeprecationWarning)\n",
      "/home/leandro/virtualenvs/DSS/lib/python3.4/site-packages/sklearn/preprocessing/data.py:359: DeprecationWarning: Passing 1d arrays as data is deprecated in 0.17 and will raise ValueError in 0.19. Reshape your data either using X.reshape(-1, 1) if your data has a single feature or X.reshape(1, -1) if it contains a single sample.\n",
      "  warnings.warn(DEPRECATION_MSG_1D, DeprecationWarning)\n"
     ]
    }
   ],
   "source": [
    "std_x = MinMaxScaler([-1,1])\n",
    "xs = std_x.fit_transform(xs)\n",
    "std_y = MinMaxScaler([-1,1])\n",
    "ys = std_y.fit_transform(ys)"
   ]
  },
  {
   "cell_type": "code",
   "execution_count": null,
   "metadata": {
    "collapsed": false
   },
   "outputs": [],
   "source": [
    "a = df.corr()\n",
    "\n",
    "df_corr = df[a.columns.tolist()]\n",
    "\n",
    "plt.matshow(df_corr.corr())\n",
    "plt.xticks(np.arange(0, len(df_corr.columns)), df_corr.columns.tolist(), rotation=\"vertical\")\n",
    "plt.yticks(np.arange(0, len(df_corr.columns)), df_corr.columns.tolist())\n",
    "plt.colorbar()\n",
    "plt.show()"
   ]
  },
  {
   "cell_type": "markdown",
   "metadata": {
    "collapsed": false
   },
   "source": [
    "# PCA"
   ]
  },
  {
   "cell_type": "code",
   "execution_count": 29,
   "metadata": {
    "collapsed": false
   },
   "outputs": [],
   "source": [
    "from sklearn.decomposition import RandomizedPCA # using randomized Singular Value Decomposition \n",
    "Xp = RandomizedPCA(n_components=6, random_state=1)\n",
    "Xp = Xp.fit_transform(xs)"
   ]
  },
  {
   "cell_type": "code",
   "execution_count": 30,
   "metadata": {
    "collapsed": false
   },
   "outputs": [],
   "source": [
    "from sklearn.cross_validation import train_test_split\n",
    "\n",
    "X_train, X_test, y_train, y_test = train_test_split(xs, ys,random_state=1)"
   ]
  },
  {
   "cell_type": "code",
   "execution_count": null,
   "metadata": {
    "collapsed": true
   },
   "outputs": [],
   "source": []
  },
  {
   "cell_type": "code",
   "execution_count": 31,
   "metadata": {
    "collapsed": true
   },
   "outputs": [],
   "source": [
    "from sklearn.tree import ExtraTreeRegressor\n",
    "from sklearn.cross_validation import train_test_split\n",
    "\n",
    "X_train, X_test, y_train, y_test = train_test_split(xs, ys,random_state=1)\n",
    "\n",
    "clf = ExtraTreeRegressor(max_features=0.2,max_depth=None,min_samples_split=1,\n",
    "                           random_state=1)"
   ]
  },
  {
   "cell_type": "code",
   "execution_count": 32,
   "metadata": {
    "collapsed": false
   },
   "outputs": [
    {
     "data": {
      "text/plain": [
       "ExtraTreeRegressor(criterion='mse', max_depth=None, max_features=0.2,\n",
       "          max_leaf_nodes=None, min_samples_leaf=1, min_samples_split=1,\n",
       "          min_weight_fraction_leaf=0.0, random_state=1, splitter='random')"
      ]
     },
     "execution_count": 32,
     "metadata": {},
     "output_type": "execute_result"
    }
   ],
   "source": [
    "clf.fit(X_train, y_train)"
   ]
  },
  {
   "cell_type": "code",
   "execution_count": 33,
   "metadata": {
    "collapsed": false
   },
   "outputs": [
    {
     "data": {
      "text/plain": [
       "array([  3.26726152e-02,   3.40951521e-02,   6.59972499e-02,\n",
       "         2.90021106e-02,   2.07074577e-02,   1.70683975e-02,\n",
       "         2.51156147e-02,   2.55721180e-02,   2.13421418e-01,\n",
       "         1.81741322e-02,   2.76795266e-02,   1.50339799e-02,\n",
       "         0.00000000e+00,   2.04493889e-02,   1.23312158e-02,\n",
       "         1.49526626e-02,   2.55400535e-02,   5.71253334e-02,\n",
       "         2.95342999e-02,   2.67458710e-02,   2.07737760e-02,\n",
       "         1.05446284e-02,   7.28749904e-03,   6.85285798e-03,\n",
       "         5.74781600e-03,   1.82045479e-02,   1.08075851e-02,\n",
       "         1.17120589e-02,   7.89956906e-02,   6.74470805e-03,\n",
       "         9.91446865e-03,   2.28188782e-04,   0.00000000e+00,\n",
       "         7.36564970e-03,   1.81600763e-02,   5.05711756e-03,\n",
       "         8.07962731e-03,   7.30579514e-03,   1.03632449e-06,\n",
       "         0.00000000e+00,   1.39534297e-02,   8.42317477e-03,\n",
       "         7.43198528e-04,   9.70474912e-03,   1.59446500e-02,\n",
       "         2.61516282e-03,   3.61391032e-03])"
      ]
     },
     "execution_count": 33,
     "metadata": {},
     "output_type": "execute_result"
    }
   ],
   "source": [
    "importances = clf.feature_importances_\n",
    "importances"
   ]
  },
  {
   "cell_type": "code",
   "execution_count": 34,
   "metadata": {
    "collapsed": false
   },
   "outputs": [],
   "source": [
    "import matplotlib.pyplot as plt\n",
    "#text = map(lambda i: df.columns[1:-1][i], range(93))\n",
    "text = list(map(lambda i: df.columns[i], range(len(df.columns))))\n",
    "plt.figure(figsize=(20, 6))\n",
    "plt.bar(range(len(df.columns)),height=importances,  width=1.)\n",
    "plt.xticks(np.arange(0.5, len(df.columns), 1.), text, rotation=90)\n",
    "plt.xlim((0, len(df.columns)))\n",
    "plt.show()"
   ]
  },
  {
   "cell_type": "code",
   "execution_count": null,
   "metadata": {
    "collapsed": false
   },
   "outputs": [],
   "source": [
    "#df[df.columns[-518:]]"
   ]
  },
  {
   "cell_type": "code",
   "execution_count": null,
   "metadata": {
    "collapsed": true
   },
   "outputs": [],
   "source": []
  },
  {
   "cell_type": "markdown",
   "metadata": {
    "collapsed": true
   },
   "source": [
    "# Red Neuronal"
   ]
  },
  {
   "cell_type": "code",
   "execution_count": null,
   "metadata": {
    "collapsed": false
   },
   "outputs": [],
   "source": [
    "layers_0 = [\n",
    "                (InputLayer, {'shape': (None, 47)}),\n",
    "                #(DenseLayer, {'num_units': 256}),\n",
    "                (DenseLayer, {'num_units': 512}),\n",
    "                #(DropoutLayer, {'p' : 0.3}),\n",
    "                (DenseLayer, {'num_units': 512}),\n",
    "                #(DenseLayer, {'num_units': 256}),\n",
    "                #(DropoutLayer, {'p' : 0.3}),\n",
    "                (DenseLayer, {'num_units': 1, 'nonlinearity': None}),\n",
    "        ]"
   ]
  },
  {
   "cell_type": "code",
   "execution_count": null,
   "metadata": {
    "collapsed": true
   },
   "outputs": [],
   "source": [
    "class AdjustVariable(object):\n",
    "    \"\"\"\n",
    "    Used to decreases linearly the learning rate with the number of epochs,\n",
    "    while we the momentum increase.\n",
    "    \"\"\"\n",
    "    def __init__(self, name, start=0.03, stop=0.001):\n",
    "        self.name = name\n",
    "        self.start, self.stop = start, stop\n",
    "        self.ls = None\n",
    "\n",
    "    def __call__(self, nn, train_history):\n",
    "        if self.ls is None:\n",
    "            self.ls = np.linspace(self.start, self.stop, nn.max_epochs)\n",
    "\n",
    "        epoch = train_history[-1]['epoch']\n",
    "        new_value = np.float32(self.ls[epoch - 1])\n",
    "        getattr(nn, self.name).set_value(new_value)"
   ]
  },
  {
   "cell_type": "code",
   "execution_count": null,
   "metadata": {
    "collapsed": false
   },
   "outputs": [],
   "source": [
    "def create_network(npochs=100, batch_s=10000):\n",
    "    return NeuralNet(\n",
    "        layers=layers_0,\n",
    "        update=nesterov_momentum,\n",
    "        update_learning_rate=theano.shared(np.float32(0.000003)),\n",
    "        update_momentum=theano.shared(np.float32(0.9)),\n",
    "\n",
    "        regression=True,\n",
    "        #batch_iterator_train=BatchIterator(batch_size=batch_s),\n",
    "        on_epoch_finished=[\n",
    "            AdjustVariable('update_learning_rate', start=0.00003, stop=0.000003),\n",
    "            AdjustVariable('update_momentum', start=0.9, stop=0.9999)\n",
    "        ],\n",
    "        max_epochs=npochs,\n",
    "        verbose=1)\n",
    "\n",
    "net0 = create_network(npochs=600)"
   ]
  },
  {
   "cell_type": "code",
   "execution_count": null,
   "metadata": {
    "collapsed": false
   },
   "outputs": [],
   "source": [
    "#theano.config.profile = True\n"
   ]
  },
  {
   "cell_type": "code",
   "execution_count": null,
   "metadata": {
    "collapsed": false,
    "scrolled": false
   },
   "outputs": [],
   "source": [
    "y_train = y_train.astype(np.float32)\n",
    "X_train = X_train.astype(np.float32)\n",
    "\n",
    "net0.fit(X_train, y_train)"
   ]
  },
  {
   "cell_type": "code",
   "execution_count": null,
   "metadata": {
    "collapsed": false,
    "scrolled": true
   },
   "outputs": [],
   "source": [
    "%matplotlib inline\n",
    "\n",
    "plt.clf()\n",
    "plt.figure(figsize=(15,5))\n",
    "\n",
    "train_loss = np.array([i[\"train_loss\"] for i in net0.train_history_])\n",
    "valid_loss = np.array([i[\"valid_loss\"] for i in net0.train_history_])\n",
    "plt.plot(train_loss, '--b', linewidth=2, label=\"{} train\".format(\"net0\"))\n",
    "plt.plot(valid_loss, '-b', linewidth=2, label=\"{} valid\".format(\"net0\"))\n",
    "\n",
    "plt.grid()\n",
    "plt.legend()\n",
    "plt.xlabel(\"epoch\")\n",
    "plt.ylabel(\"loss\")\n",
    "plt.yscale(\"log\")\n",
    "plt.show()"
   ]
  },
  {
   "cell_type": "code",
   "execution_count": null,
   "metadata": {
    "collapsed": false
   },
   "outputs": [],
   "source": [
    "from sklearn.metrics import r2_score\n",
    "\n",
    "y = y_test.astype(np.float32) \n",
    "\n",
    "x = X_test.astype(np.float32)\n",
    "\n",
    "r2_score(y,net0.predict(x))\n"
   ]
  },
  {
   "cell_type": "code",
   "execution_count": null,
   "metadata": {
    "collapsed": true
   },
   "outputs": [],
   "source": []
  }
 ],
 "metadata": {
  "kernelspec": {
   "display_name": "Python 3",
   "language": "python",
   "name": "python3"
  },
  "language_info": {
   "codemirror_mode": {
    "name": "ipython",
    "version": 3
   },
   "file_extension": ".py",
   "mimetype": "text/x-python",
   "name": "python",
   "nbconvert_exporter": "python",
   "pygments_lexer": "ipython3",
   "version": "3.4.3"
  }
 },
 "nbformat": 4,
 "nbformat_minor": 0
}

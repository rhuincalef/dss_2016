{
 "cells": [
  {
   "cell_type": "markdown",
   "metadata": {},
   "source": [
    "##### Se cargan las librerías"
   ]
  },
  {
   "cell_type": "code",
   "execution_count": null,
   "metadata": {
    "collapsed": false
   },
   "outputs": [],
   "source": [
    "%matplotlib inline\n",
    "import numpy as np\n",
    "import matplotlib.pyplot as plt\n",
    "from sklearn import datasets, svm\n",
    "from sklearn.metrics import classification_report, confusion_matrix\n",
    "from sklearn import metrics\n",
    "from sklearn.cross_validation import train_test_split\n",
    "import numpy as np\n",
    "import matplotlib.pyplot as plt\n",
    "from sklearn.svm import SVC\n",
    "from sklearn.datasets import load_digits\n",
    "#from sklearn.model_selection import learning_curve\n",
    "from sklearn.learning_curve import learning_curve\n",
    "from sklearn.cross_validation import ShuffleSplit\n",
    "#from sklearn.model_selection import ShuffleSplit\n",
    "\n"
   ]
  },
  {
   "cell_type": "markdown",
   "metadata": {},
   "source": [
    "#### Se carga un dataset de scikit learn"
   ]
  },
  {
   "cell_type": "code",
   "execution_count": null,
   "metadata": {
    "collapsed": false
   },
   "outputs": [],
   "source": [
    "ds = datasets.load_diabetes()\n",
    "print(datasets.load_diabetes())"
   ]
  },
  {
   "cell_type": "markdown",
   "metadata": {},
   "source": [
    "##### Se mezclan los datos y se los divide en datos de entrenamiento y datos de validacion"
   ]
  },
  {
   "cell_type": "code",
   "execution_count": null,
   "metadata": {
    "collapsed": false
   },
   "outputs": [],
   "source": [
    "print len(ds.data)\n",
    "print ds.data.shape\n",
    "print len(ds.target)\n",
    "print ds.target.shape"
   ]
  },
  {
   "cell_type": "code",
   "execution_count": null,
   "metadata": {
    "collapsed": false
   },
   "outputs": [],
   "source": [
    "#X_train = X[:.9 * n_sample]\n",
    "#y_train = y[:.9 * n_sample]\n",
    "#X_test = X[.9 * n_sample:]\n",
    "#y_test = y[.9 * n_sample:]\n",
    "def cargar_datos_prueba():\n",
    "    iris = datasets.load_iris()\n",
    "    X = iris.data\n",
    "    y = iris.target\n",
    "    # Se recorren todos los valores de datos(data) y labels (targets) y se \n",
    "    # elimina cualquier valor que sea igual a cero.\n",
    "    X = X[y != 0, :2]\n",
    "    y = y[y != 0]\n",
    "    print \"X: \",len(X)\n",
    "    print \"y: \",len(y)\n",
    "    # Se genera una division aleatoria entre datos de prueba y entrenamiento\n",
    "    X_train, X_test, y_train, y_test = train_test_split(X, y,\n",
    "                                                        test_size=0.60, random_state=42)\n",
    "    \n",
    "    return (X,y,X_train,y_train,X_test, y_test)\n",
    "\n",
    "    #Backup de la version anterior.\n",
    "    #n_sample = len(X)\n",
    "    #np.random.seed(0)\n",
    "    #order = np.random.permutation(n_sample)\n",
    "    #X = X[order]\n",
    "    #y = y[order].astype(np.float)\n",
    "    #return (X[:.9 * n_sample],y[:.9 * n_sample],X[.9 * n_sample:],y[.9 * n_sample:])\n"
   ]
  },
  {
   "cell_type": "code",
   "execution_count": null,
   "metadata": {
    "collapsed": false
   },
   "outputs": [],
   "source": [
    "\n",
    "X,y,X_train,y_train,X_test, y_test = cargar_datos_prueba()"
   ]
  },
  {
   "cell_type": "markdown",
   "metadata": {},
   "source": [
    "#### Metodo para graficar los elementos del modelo"
   ]
  },
  {
   "cell_type": "code",
   "execution_count": null,
   "metadata": {
    "collapsed": true
   },
   "outputs": [],
   "source": [
    "def graficar(nombre_kernel,clf):\n",
    "    #plt.figure(nro_fig)\n",
    "    plt.clf()\n",
    "    plt.scatter(X[:, 0], X[:, 1], c=y, zorder=10, cmap=plt.cm.Paired)\n",
    "\n",
    "    # Circle out the test data\n",
    "    #plt.scatter(X_test[:, 0], X_test[:, 1], s=80, facecolors='none', zorder=10)\n",
    "\n",
    "    plt.axis('tight')\n",
    "    x_min = X[:, 0].min()\n",
    "    x_max = X[:, 0].max()\n",
    "    y_min = X[:, 1].min()\n",
    "    y_max = X[:, 1].max()\n",
    "    \n",
    "    XX, YY = np.mgrid[x_min:x_max:200j, y_min:y_max:200j]\n",
    "    Z = clf.decision_function(np.c_[XX.ravel(), YY.ravel()])\n",
    "\n",
    "    # Put the result into a color plot\n",
    "    Z = Z.reshape(XX.shape)\n",
    "    plt.pcolormesh(XX, YY, Z > 0, cmap=plt.cm.Paired)\n",
    "    plt.contour(XX, YY, Z, colors=['k', 'k', 'k'], linestyles=['--', '-', '--'],\n",
    "                levels=[-.5, 0, .5])\n",
    "    plt.title(\"Kernel \"+nombre_kernel)\n",
    "    plt.show()\n",
    "\n",
    "    "
   ]
  },
  {
   "cell_type": "code",
   "execution_count": null,
   "metadata": {
    "collapsed": true
   },
   "outputs": [],
   "source": [
    "def plot_matrix(clf, X_test, y_test):\n",
    "    plt.clf()\n",
    "    plt.imshow(confusion_matrix(clf.predict(X_test), y_test),\n",
    "               interpolation='nearest', cmap=plt.cm.Blues)\n",
    "    plt.colorbar()\n",
    "    plt.xlabel(\"true label\")\n",
    "    plt.ylabel(\"predicted label\")\n",
    "    plt.show()\n",
    "    \n",
    "def plot_learning_curve(estimator, title, X, y, ylim=None, cv=None,\n",
    "                        n_jobs=1, train_sizes=np.linspace(.1, 1.0, 5)):\n",
    "    \"\"\"\n",
    "    Generate a simple plot of the test and training learning curve.\n",
    "\n",
    "    Parameters\n",
    "    ----------\n",
    "    estimator : object type that implements the \"fit\" and \"predict\" methods\n",
    "        An object of that type which is cloned for each validation.\n",
    "\n",
    "    title : string\n",
    "        Title for the chart.\n",
    "\n",
    "    X : array-like, shape (n_samples, n_features)\n",
    "        Training vector, where n_samples is the number of samples and\n",
    "        n_features is the number of features.\n",
    "\n",
    "    y : array-like, shape (n_samples) or (n_samples, n_features), optional\n",
    "        Target relative to X for classification or regression;\n",
    "        None for unsupervised learning.\n",
    "\n",
    "    ylim : tuple, shape (ymin, ymax), optional\n",
    "        Defines minimum and maximum yvalues plotted.\n",
    "\n",
    "    cv : int, cross-validation generator or an iterable, optional\n",
    "        Determines the cross-validation splitting strategy.\n",
    "        Possible inputs for cv are:\n",
    "          - None, to use the default 3-fold cross-validation,\n",
    "          - integer, to specify the number of folds.\n",
    "          - An object to be used as a cross-validation generator.\n",
    "          - An iterable yielding train/test splits.\n",
    "\n",
    "        For integer/None inputs, if ``y`` is binary or multiclass,\n",
    "        :class:`StratifiedKFold` used. If the estimator is not a classifier\n",
    "        or if ``y`` is neither binary nor multiclass, :class:`KFold` is used.\n",
    "\n",
    "        Refer :ref:`User Guide <cross_validation>` for the various\n",
    "        cross-validators that can be used here.\n",
    "\n",
    "    n_jobs : integer, optional\n",
    "        Number of jobs to run in parallel (default 1).\n",
    "    \"\"\"\n",
    "    plt.figure()\n",
    "    plt.title(title)\n",
    "    if ylim is not None:\n",
    "        plt.ylim(*ylim)\n",
    "    plt.xlabel(\"Training examples\")\n",
    "    plt.ylabel(\"Score\")\n",
    "    train_sizes, train_scores, test_scores = learning_curve(\n",
    "        estimator, X, y, cv=cv, n_jobs=n_jobs, train_sizes=train_sizes)\n",
    "    train_scores_mean = np.mean(train_scores, axis=1)\n",
    "    train_scores_std = np.std(train_scores, axis=1)\n",
    "    test_scores_mean = np.mean(test_scores, axis=1)\n",
    "    test_scores_std = np.std(test_scores, axis=1)\n",
    "    plt.grid()\n",
    "\n",
    "    plt.fill_between(train_sizes, train_scores_mean - train_scores_std,\n",
    "                     train_scores_mean + train_scores_std, alpha=0.1,\n",
    "                     color=\"r\")\n",
    "    plt.fill_between(train_sizes, test_scores_mean - test_scores_std,\n",
    "                     test_scores_mean + test_scores_std, alpha=0.1, color=\"g\")\n",
    "    plt.plot(train_sizes, train_scores_mean, 'o-', color=\"r\",\n",
    "             label=\"Training score\")\n",
    "    plt.plot(train_sizes, test_scores_mean, 'o-', color=\"g\",\n",
    "             label=\"Cross-validation score\")\n",
    "\n",
    "    plt.legend(loc=\"best\")\n",
    "    plt.show()\n",
    "    #return plt\n"
   ]
  },
  {
   "cell_type": "markdown",
   "metadata": {},
   "source": [
    "#### Se entrena el modelo y se retornan las predicciones para un conjunto de datos"
   ]
  },
  {
   "cell_type": "code",
   "execution_count": null,
   "metadata": {
    "collapsed": false
   },
   "outputs": [],
   "source": [
    "def entrenar_kernel(nombre_kernel):\n",
    "    clf = svm.SVC(kernel=nombre_kernel, gamma=10)\n",
    "    clf.fit(X_train, y_train)\n",
    "    y_pred = clf.predict(X_test)\n",
    "    return (clf,y_pred)\n"
   ]
  },
  {
   "cell_type": "markdown",
   "metadata": {},
   "source": [
    "##### Para las diferencias hacer: \n",
    "##### 1. classication_report(), con valores como recall, y precision, f1-score.\n",
    "##### 2. score(precision).\n",
    "##### 3. Matriz de confusion.\n",
    "##### de los datos de prueba contra los datos de validacion."
   ]
  },
  {
   "cell_type": "code",
   "execution_count": null,
   "metadata": {
    "collapsed": false
   },
   "outputs": [],
   "source": [
    "def imprimir_estadisticas(nombre_kernel,mykernel,X_test,y_pred,y_test):\n",
    "    print \"\"\n",
    "    print \"Kernel testeado: \",nombre_kernel\n",
    "    print classification_report(y_pred, y_test)\n",
    "    print \"La matriz de confusion obtenida es la siguiente:\"\n",
    "    print confusion_matrix(y_pred, y_test)\n",
    "    print \"\"\n",
    "    print \"Precision media del kernel: \",mykernel.score(X_test, y_test)\n",
    "    print \"\"\n",
    "    print \"\"\n",
    "    \n",
    "    \n",
    "    "
   ]
  },
  {
   "cell_type": "markdown",
   "metadata": {},
   "source": [
    "##### Se entrenan y compara el rendimiento de los kernels con los datos de prueba"
   ]
  },
  {
   "cell_type": "code",
   "execution_count": null,
   "metadata": {
    "collapsed": true
   },
   "outputs": [],
   "source": [
    "ShuffleSplit?\n"
   ]
  },
  {
   "cell_type": "code",
   "execution_count": null,
   "metadata": {
    "collapsed": false
   },
   "outputs": [],
   "source": [
    "kernel2,y_pred2 = entrenar_kernel('poly')\n",
    "imprimir_estadisticas('poly',kernel2,X_test,y_pred2,y_test)\n",
    "plot_matrix(kernel2, X_test, y_test)\n",
    "graficar('poly',kernel2)\n",
    "\n",
    "#Se grafica la curva de aprendizaje para detectar overfitting\n",
    "title = \"Learning Curves (SVM, Polynomial kernel, $\\gamma=10$)\"\n",
    "\n",
    "# SVC is more expensive so we do a lower number of CV iterations:\n",
    "\n",
    "cv2 = ShuffleSplit(X.shape[0], n_iter=10, test_size=0.2, random_state=0)\n",
    "#estimator = SVC(gamma=0.001)\n",
    "estimator2 = kernel2\n",
    "plot_learning_curve(estimator2, title, X, y, (0.2, 1.01), cv=cv2, n_jobs=4)\n",
    "\n"
   ]
  },
  {
   "cell_type": "code",
   "execution_count": null,
   "metadata": {
    "collapsed": false
   },
   "outputs": [],
   "source": [
    "kernel,y_pred = entrenar_kernel('rbf')\n",
    "imprimir_estadisticas('rbf',kernel,X_test,y_pred,y_test)\n",
    "plot_matrix(kernel, X_test, y_test)\n",
    "graficar('rbf',kernel)\n",
    "\n",
    "#Sacado de  -->\n",
    "#http://scikit-learn.org/0.15/auto_examples/plot_learning_curve.html\n",
    "#Se grafica la curva de aprendizaje para detectar overfitting\n",
    "title = \"Learning Curves (SVM, RBF kernel, $\\gamma=10$)\"\n",
    "\n",
    "# SVC is more expensive so we do a lower number of CV iterations:\n",
    "\n",
    "cv = ShuffleSplit(X.shape[0], n_iter=10, test_size=0.2, random_state=0)\n",
    "#estimator = SVC(gamma=0.001)\n",
    "estimator = kernel\n",
    "plot_learning_curve(estimator, title, X, y, (0.2, 1.01), cv=cv, n_jobs=4)\n",
    "#plot_learning_curve(estimator, title, X, y, (0.2, 1.01), n_jobs=4)\n"
   ]
  }
 ],
 "metadata": {
  "anaconda-cloud": {},
  "kernelspec": {
   "display_name": "Python [Root]",
   "language": "python",
   "name": "Python [Root]"
  },
  "language_info": {
   "codemirror_mode": {
    "name": "ipython",
    "version": 3
   },
   "file_extension": ".py",
   "mimetype": "text/x-python",
   "name": "python",
   "nbconvert_exporter": "python",
   "pygments_lexer": "ipython3",
   "version": "3.5.2"
  }
 },
 "nbformat": 4,
 "nbformat_minor": 0
}

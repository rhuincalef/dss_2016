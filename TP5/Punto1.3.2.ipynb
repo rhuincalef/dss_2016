{
 "cells": [
  {
   "cell_type": "markdown",
   "metadata": {},
   "source": [
    "##### Prueba de imagen con scipy.misc"
   ]
  },
  {
   "cell_type": "code",
   "execution_count": null,
   "metadata": {
    "collapsed": false
   },
   "outputs": [],
   "source": []
  },
  {
   "cell_type": "code",
   "execution_count": 86,
   "metadata": {
    "collapsed": false
   },
   "outputs": [
    {
     "name": "stdout",
     "output_type": "stream",
     "text": [
      "(521, 491, 4)\n",
      "3\n"
     ]
    }
   ],
   "source": [
    "#Se carga la imagen como numpyarray en modo RGB\n",
    "import Image\n",
    "import numpy as np\n",
    "from scipy.misc import imread,imsave\n",
    "#Este metodo lee la imagen y por defecto aplana los colores RGB\n",
    "#array_imagen = imread(\"images/img1.png\")\n",
    "array_imagen = imread(\"images/img1.png\",flatten=False)\n",
    "ANCHO_IMG = array_imagen.shape[1]\n",
    "ALTO_IMG = array_imagen.shape[0]\n",
    "COLORES_RGB = array_imagen.shape[2]\n",
    "print array_imagen.shape\n",
    "print array_imagen.ndim\n"
   ]
  },
  {
   "cell_type": "markdown",
   "metadata": {},
   "source": [
    "#### Se genera un arreglo vacio, para transformar el numpy array de la imagen a un array numpy de 2 dimensiones"
   ]
  },
  {
   "cell_type": "code",
   "execution_count": 87,
   "metadata": {
    "collapsed": false
   },
   "outputs": [
    {
     "name": "stdout",
     "output_type": "stream",
     "text": [
      "1964\n"
     ]
    }
   ],
   "source": [
    "a3 = np.ones((array_imagen.shape[0],array_imagen.shape[1]*array_imagen.shape[2]))\n",
    "for i in xrange(0,len(array_imagen)):\n",
    "    a3[i]=array_imagen[i].flatten()\n",
    "    \n",
    "print len(a3[0])"
   ]
  },
  {
   "cell_type": "code",
   "execution_count": 88,
   "metadata": {
    "collapsed": false
   },
   "outputs": [],
   "source": [
    "from numpy import array\n",
    "from scipy.cluster.vq import vq, kmeans2, whiten\n",
    "NRO_COLORES = 80\n",
    "centroids,labels = kmeans2(a3,NRO_COLORES,minit='points')"
   ]
  },
  {
   "cell_type": "code",
   "execution_count": null,
   "metadata": {
    "collapsed": false
   },
   "outputs": [],
   "source": [
    "#from numpy import array\n",
    "#from scipy.cluster.vq import vq, kmeans2, whiten\n",
    "#whitened = whiten(array_imagen)\n",
    "#print whitened\n",
    "#NRO_COLORES = 80\n",
    "#centroids,labels = kmeans2(whitened,NRO_COLORES)\n"
   ]
  },
  {
   "cell_type": "code",
   "execution_count": 89,
   "metadata": {
    "collapsed": false
   },
   "outputs": [
    {
     "name": "stdout",
     "output_type": "stream",
     "text": [
      "Shape labels:\n",
      "(521,)\n",
      "Shape centroids:\n",
      "(80, 1964)\n",
      "centroids[0] 1964\n",
      "\n",
      "Long. centroids:  80\n",
      "Long. labels:  521\n",
      "Labels\n",
      "[44 44 44 44 44 44 44 44 44 44 44 44  9  9  9  9 59 69 69 22 22 22 46 46 46\n",
      " 46 46 44 44 44 44 44 44 44 44  1  1  1  1  1 75 75 75 75 75 41 41 41 41 71\n",
      " 71 71 71 13 13 13 13 13 13 11 11 11 11 11 11 11 11 11 11 67 67 67 67 11 11\n",
      " 11 11 11 11 11 11 11 11 31 31 31 31 31 31 31 31 31 31 31 31 31 56 56 56 56\n",
      " 56 56 56 56 28 28 28 45 45 45 45 45 45 45 45 45  2  2  2  2  2 26 26 26 26\n",
      " 54 54 54 24 24 24  0  0  0  0  0 61 61 33 33 34 34 27 27 27 55 55 55 55 55\n",
      " 60 60 60 60 60 60 79 79 79 79 19 19 19 19 19 19 19 19 19 19 19  7  7  7  7\n",
      "  7  7 25 25 25 25 25 25 25 25 25 25 23 23 23 23 23 23 23 23 23 23 23 20 20\n",
      " 20 20 20 20 20 20 20 20 20 20 20 65 65 65 65 65 65 65 65 65 49 49 49 49 49\n",
      " 49 49 49 49 49 49 49 49 49 18 18 18 18 18 18 58 58 58 58 10 10 10 10 63 63\n",
      " 63 51 51 36 36 36 36 35 35 35 35 35 76 76 76 76  8  8  8 68 68 68 68  4  4\n",
      "  4  4  4  4  4  4 29 29 29 29 29 29 29 29 29 29 29 29 29 53 53 53 53 53 53\n",
      " 53 53 53 53 53 53 53 53 64 64 48 48 48 48 48 64 64 64 64 64 14 14 14 14 14\n",
      " 14 66 66 66 66 66 66 66 66 66 40 40 40 40 40 47 47 47 47 47 47 15 15 15 15\n",
      " 15 15  3  3  3  3  3 74 74 74 16 16 70 70 70 70 32 32 32 32 32 32 62 62 62\n",
      " 62 62 62 62 77 77 77 77 77 77 77 77 77 77 77 43 43 43 43 43 43 43 43 43 43\n",
      " 43 43 52 52 52 52 52 52 37 37 37 37 37 37 37 37 37 37 37 37 73 73 73 73 73\n",
      " 73 73 73 73 73 73 73 73 12 12 12 12 12 38 38 38 38 38 38 38 50  6  6  6 50\n",
      " 50 21 21 21 21 78 78 78 78 78 78 78 78 78 21 21 21 21 21 21 17 17 42 42 72\n",
      " 72 72 72 72 72  5  5  5  5 17 17 17 57 57 57 57 57 57 57 57 57 57 30 30 30\n",
      " 30 30 30 30 30 39 39 39 39 39 39 39 39 50 50 50 50 50  6  6  6]\n",
      "Centroids\n",
      "[[ 200.2         187.2         170.2        ...,  216.2         168.4         255.        ]\n",
      " [ 133.6         198.6         155.6        ...,  207.8         153.8         255.        ]\n",
      " [ 253.4         250.6         244.8        ...,  214.4         160.4         255.        ]\n",
      " ..., \n",
      " [ 182.81818182  162.09090909  113.27272727 ...,  113.72727273\n",
      "    74.81818182  255.        ]\n",
      " [ 157.88888889  163.33333333   97.11111111 ...,   52.55555556\n",
      "    54.11111111  255.        ]\n",
      " [ 196.5         194.25        182.         ...,  207.5         154.25\n",
      "   255.        ]]\n",
      "labels[0]\n",
      "44\n",
      "Labels\n",
      "[44 44 44 44 44 44 44 44 44 44 44 44  9  9  9  9 59 69 69 22 22 22 46 46 46\n",
      " 46 46 44 44 44 44 44 44 44 44  1  1  1  1  1 75 75 75 75 75 41 41 41 41 71\n",
      " 71 71 71 13 13 13 13 13 13 11 11 11 11 11 11 11 11 11 11 67 67 67 67 11 11\n",
      " 11 11 11 11 11 11 11 11 31 31 31 31 31 31 31 31 31 31 31 31 31 56 56 56 56\n",
      " 56 56 56 56 28 28 28 45 45 45 45 45 45 45 45 45  2  2  2  2  2 26 26 26 26\n",
      " 54 54 54 24 24 24  0  0  0  0  0 61 61 33 33 34 34 27 27 27 55 55 55 55 55\n",
      " 60 60 60 60 60 60 79 79 79 79 19 19 19 19 19 19 19 19 19 19 19  7  7  7  7\n",
      "  7  7 25 25 25 25 25 25 25 25 25 25 23 23 23 23 23 23 23 23 23 23 23 20 20\n",
      " 20 20 20 20 20 20 20 20 20 20 20 65 65 65 65 65 65 65 65 65 49 49 49 49 49\n",
      " 49 49 49 49 49 49 49 49 49 18 18 18 18 18 18 58 58 58 58 10 10 10 10 63 63\n",
      " 63 51 51 36 36 36 36 35 35 35 35 35 76 76 76 76  8  8  8 68 68 68 68  4  4\n",
      "  4  4  4  4  4  4 29 29 29 29 29 29 29 29 29 29 29 29 29 53 53 53 53 53 53\n",
      " 53 53 53 53 53 53 53 53 64 64 48 48 48 48 48 64 64 64 64 64 14 14 14 14 14\n",
      " 14 66 66 66 66 66 66 66 66 66 40 40 40 40 40 47 47 47 47 47 47 15 15 15 15\n",
      " 15 15  3  3  3  3  3 74 74 74 16 16 70 70 70 70 32 32 32 32 32 32 62 62 62\n",
      " 62 62 62 62 77 77 77 77 77 77 77 77 77 77 77 43 43 43 43 43 43 43 43 43 43\n",
      " 43 43 52 52 52 52 52 52 37 37 37 37 37 37 37 37 37 37 37 37 73 73 73 73 73\n",
      " 73 73 73 73 73 73 73 73 12 12 12 12 12 38 38 38 38 38 38 38 50  6  6  6 50\n",
      " 50 21 21 21 21 78 78 78 78 78 78 78 78 78 21 21 21 21 21 21 17 17 42 42 72\n",
      " 72 72 72 72 72  5  5  5  5 17 17 17 57 57 57 57 57 57 57 57 57 57 30 30 30\n",
      " 30 30 30 30 30 39 39 39 39 39 39 39 39 50 50 50 50 50  6  6  6]\n",
      "Centroids\n",
      "[[ 200.2         187.2         170.2        ...,  216.2         168.4         255.        ]\n",
      " [ 133.6         198.6         155.6        ...,  207.8         153.8         255.        ]\n",
      " [ 253.4         250.6         244.8        ...,  214.4         160.4         255.        ]\n",
      " ..., \n",
      " [ 182.81818182  162.09090909  113.27272727 ...,  113.72727273\n",
      "    74.81818182  255.        ]\n",
      " [ 157.88888889  163.33333333   97.11111111 ...,   52.55555556\n",
      "    54.11111111  255.        ]\n",
      " [ 196.5         194.25        182.         ...,  207.5         154.25\n",
      "   255.        ]]\n",
      "labels[0]\n",
      "44\n"
     ]
    }
   ],
   "source": [
    "print \"Shape labels:\"\n",
    "print labels.shape\n",
    "print \"Shape centroids:\"\n",
    "print centroids.shape\n",
    "print \"centroids[0]\", len(centroids[0])\n",
    "print \"\"\n",
    "print \"Long. centroids: \",len(centroids)\n",
    "print \"Long. labels: \",len(labels)\n",
    "print \"Labels\"\n",
    "print labels\n",
    "print \"Centroids\"\n",
    "print centroids\n",
    "print \"labels[0]\"\n",
    "print labels[0]\n",
    "print \"Labels\"\n",
    "print labels\n",
    "print \"Centroids\"\n",
    "print centroids\n",
    "print \"labels[0]\"\n",
    "print labels[0]\n"
   ]
  },
  {
   "cell_type": "code",
   "execution_count": 91,
   "metadata": {
    "collapsed": false
   },
   "outputs": [],
   "source": [
    "centrados = np.reshape(centroids,(NRO_COLORES,ANCHO_IMG,COLORES_RGB))"
   ]
  },
  {
   "cell_type": "code",
   "execution_count": 92,
   "metadata": {
    "collapsed": false
   },
   "outputs": [],
   "source": [
    "arrfinal = np.ones((labels.shape[0],ANCHO_IMG,COLORES_RGB))\n",
    "for i in xrange(0,len(arrfinal)):\n",
    "    index = labels[i]\n",
    "    arrfinal[i] = centrados[index]"
   ]
  },
  {
   "cell_type": "code",
   "execution_count": 93,
   "metadata": {
    "collapsed": false
   },
   "outputs": [
    {
     "name": "stdout",
     "output_type": "stream",
     "text": [
      "[[[ 145.25        210.          160.05        255.        ]\n",
      "  [ 145.55        210.3         160.35        255.        ]\n",
      "  [ 145.2         209.95        160.          255.        ]\n",
      "  ..., \n",
      "  [ 146.7         212.6         159.95        255.        ]\n",
      "  [ 146.45        209.65        157.1         255.        ]\n",
      "  [ 149.6         211.6         159.65        255.        ]]\n",
      "\n",
      " [[ 145.25        210.          160.05        255.        ]\n",
      "  [ 145.55        210.3         160.35        255.        ]\n",
      "  [ 145.2         209.95        160.          255.        ]\n",
      "  ..., \n",
      "  [ 146.7         212.6         159.95        255.        ]\n",
      "  [ 146.45        209.65        157.1         255.        ]\n",
      "  [ 149.6         211.6         159.65        255.        ]]\n",
      "\n",
      " [[ 145.25        210.          160.05        255.        ]\n",
      "  [ 145.55        210.3         160.35        255.        ]\n",
      "  [ 145.2         209.95        160.          255.        ]\n",
      "  ..., \n",
      "  [ 146.7         212.6         159.95        255.        ]\n",
      "  [ 146.45        209.65        157.1         255.        ]\n",
      "  [ 149.6         211.6         159.65        255.        ]]\n",
      "\n",
      " ..., \n",
      " [[ 109.          108.66666667   74.16666667  255.        ]\n",
      "  [  76.66666667   76.5          48.5         255.        ]\n",
      "  [  54.83333333   55.5          29.5         255.        ]\n",
      "  ..., \n",
      "  [  78.66666667   84.66666667   78.          255.        ]\n",
      "  [  77.16666667   82.66666667   73.          255.        ]\n",
      "  [  39.33333333   44.66666667   37.          255.        ]]\n",
      "\n",
      " [[ 109.          108.66666667   74.16666667  255.        ]\n",
      "  [  76.66666667   76.5          48.5         255.        ]\n",
      "  [  54.83333333   55.5          29.5         255.        ]\n",
      "  ..., \n",
      "  [  78.66666667   84.66666667   78.          255.        ]\n",
      "  [  77.16666667   82.66666667   73.          255.        ]\n",
      "  [  39.33333333   44.66666667   37.          255.        ]]\n",
      "\n",
      " [[ 109.          108.66666667   74.16666667  255.        ]\n",
      "  [  76.66666667   76.5          48.5         255.        ]\n",
      "  [  54.83333333   55.5          29.5         255.        ]\n",
      "  ..., \n",
      "  [  78.66666667   84.66666667   78.          255.        ]\n",
      "  [  77.16666667   82.66666667   73.          255.        ]\n",
      "  [  39.33333333   44.66666667   37.          255.        ]]]\n"
     ]
    }
   ],
   "source": [
    "print arrfinal"
   ]
  },
  {
   "cell_type": "code",
   "execution_count": 94,
   "metadata": {
    "collapsed": true
   },
   "outputs": [],
   "source": [
    "imsave(\"images/nuevoo.png\",arrfinal)\n"
   ]
  },
  {
   "cell_type": "code",
   "execution_count": null,
   "metadata": {
    "collapsed": true
   },
   "outputs": [],
   "source": []
  }
 ],
 "metadata": {
  "kernelspec": {
   "display_name": "Python 2",
   "language": "python",
   "name": "python2"
  },
  "language_info": {
   "codemirror_mode": {
    "name": "ipython",
    "version": 2
   },
   "file_extension": ".py",
   "mimetype": "text/x-python",
   "name": "python",
   "nbconvert_exporter": "python",
   "pygments_lexer": "ipython2",
   "version": "2.7.6"
  }
 },
 "nbformat": 4,
 "nbformat_minor": 0
}

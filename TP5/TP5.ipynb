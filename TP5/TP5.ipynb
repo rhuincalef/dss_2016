{
 "cells": [
  {
   "cell_type": "code",
   "execution_count": 1,
   "metadata": {
    "collapsed": false
   },
   "outputs": [],
   "source": [
    "import pandas as pd\n",
    "import numpy as np\n",
    "import matplotlib.pyplot as plt\n",
    "from itertools import cycle\n",
    "from sklearn import datasets\n",
    "from sklearn import preprocessing\n",
    "from sklearn.decomposition import PCA\n",
    "from sklearn.cluster import MeanShift\n",
    "from sklearn.cluster import KMeans\n",
    "from sklearn.svm import SVC\n",
    "from mpl_toolkits.mplot3d import Axes3D"
   ]
  },
  {
   "cell_type": "markdown",
   "metadata": {},
   "source": [
    "## 1.1 Preprocesamiento de datos"
   ]
  },
  {
   "cell_type": "code",
   "execution_count": null,
   "metadata": {
    "collapsed": false
   },
   "outputs": [],
   "source": [
    "iris = datasets.load_iris().data"
   ]
  },
  {
   "cell_type": "markdown",
   "metadata": {},
   "source": [
    "#### 1.b Normalization"
   ]
  },
  {
   "cell_type": "code",
   "execution_count": null,
   "metadata": {
    "collapsed": false
   },
   "outputs": [],
   "source": [
    "iris_normalized = preprocessing.normalize(iris, norm='l2')"
   ]
  },
  {
   "cell_type": "code",
   "execution_count": null,
   "metadata": {
    "collapsed": false
   },
   "outputs": [],
   "source": [
    "print(\"El minimo es %f - El máximo es %f \" % (iris_normalized.min(), iris_normalized.max()))"
   ]
  },
  {
   "cell_type": "markdown",
   "metadata": {},
   "source": [
    "#### 1.c Scaling"
   ]
  },
  {
   "cell_type": "markdown",
   "metadata": {},
   "source": [
    "##### Escala matriz en un rango [0,1]"
   ]
  },
  {
   "cell_type": "code",
   "execution_count": null,
   "metadata": {
    "collapsed": false
   },
   "outputs": [],
   "source": [
    "min_max_scaler = preprocessing.MinMaxScaler()\n",
    "iris_train_minmax = min_max_scaler.fit_transform(iris)\n",
    "iris_train_minmax"
   ]
  },
  {
   "cell_type": "markdown",
   "metadata": {},
   "source": [
    "##### Escala la matriz en un rango [-1,1]"
   ]
  },
  {
   "cell_type": "code",
   "execution_count": null,
   "metadata": {
    "collapsed": false
   },
   "outputs": [],
   "source": [
    "max_abs_scaler = preprocessing.MaxAbsScaler()\n",
    "iris_train_maxabs = max_abs_scaler.fit_transform(iris)\n",
    "print(\"El minimo es %f - El máximo es %f \" % (iris_train_maxabs.min(), iris_train_maxabs.max()))\n",
    "iris_train_maxabs"
   ]
  },
  {
   "cell_type": "markdown",
   "metadata": {},
   "source": [
    "#### 2. PCA"
   ]
  },
  {
   "cell_type": "code",
   "execution_count": null,
   "metadata": {
    "collapsed": false
   },
   "outputs": [],
   "source": [
    "data = pd.read_csv('data/data_otto/train.csv')\n",
    "data.drop('id', axis=1, inplace=True)\n",
    "x = data[data.columns[:-1]].values\n",
    "y = data[data.columns[-1]].values"
   ]
  },
  {
   "cell_type": "code",
   "execution_count": null,
   "metadata": {
    "collapsed": false
   },
   "outputs": [],
   "source": [
    "for c in [19,28]:\n",
    "    xp = PCA(n_components=c)\n",
    "    xp.fit_transform(x)\n",
    "    print((\"La variabilidad del %f%% se explica con %d componentes\") % \n",
    "            ((xp.explained_variance_ratio_.cumsum()[c-1]*100), c))"
   ]
  },
  {
   "cell_type": "code",
   "execution_count": null,
   "metadata": {
    "collapsed": false
   },
   "outputs": [],
   "source": [
    "% matplotlib inline\n",
    "\n",
    "xp = PCA(n_components=2)\n",
    "xp = x_pca.fit_transform(x)\n",
    "\n",
    "product_class = np.unique(y)\n",
    "\n",
    "colors = plt.get_cmap(\"hsv\")\n",
    "\n",
    "plt.figure(figsize=(10, 4))\n",
    "for i, p in enumerate(product_class):\n",
    "    mask = (y == p)\n",
    "    plt.scatter(xp[mask, 0], xp[mask, 1], \n",
    "                c=colors(1. * i / 11), label=p, alpha=0.2)\n",
    "    \n",
    "plt.legend(loc=\"upper left\")\n",
    "plt.xlabel('PC 1')\n",
    "plt.ylabel('PC 2')"
   ]
  },
  {
   "cell_type": "markdown",
   "metadata": {},
   "source": [
    "## 1.3 Clustering"
   ]
  },
  {
   "cell_type": "markdown",
   "metadata": {},
   "source": [
    "#### 3. Mean-Shift sobre el dataset IRIS"
   ]
  },
  {
   "cell_type": "code",
   "execution_count": null,
   "metadata": {
    "collapsed": true
   },
   "outputs": [],
   "source": [
    "X = datasets.load_iris().data"
   ]
  },
  {
   "cell_type": "code",
   "execution_count": null,
   "metadata": {
    "collapsed": false
   },
   "outputs": [],
   "source": [
    "ms = MeanShift()\n",
    "ms.fit(X)\n",
    "labels = ms.labels_\n",
    "cluster_centers = ms.cluster_centers_\n",
    "\n",
    "labels_unique = np.unique(labels)\n",
    "n_clusters_ = len(labels_unique)\n",
    "\n",
    "print(\"Cantidad de clusters : %d\" % n_clusters_)"
   ]
  },
  {
   "cell_type": "code",
   "execution_count": null,
   "metadata": {
    "collapsed": false
   },
   "outputs": [],
   "source": [
    "% matplotlib inline\n",
    "\n",
    "plt.figure(1)\n",
    "plt.clf()\n",
    "\n",
    "colors = cycle('bgrcmykbgrcmykbgrcmykbgrcmyk')\n",
    "for k, col in zip(range(n_clusters_), colors):\n",
    "    my_members = labels == k\n",
    "    cluster_center = cluster_centers[k]\n",
    "    plt.plot(X[my_members, 0], X[my_members, 1], col + '.')\n",
    "    plt.plot(cluster_center[0], cluster_center[1], 'o', markerfacecolor=col,\n",
    "             markeredgecolor='k', markersize=14)\n",
    "plt.title('Estimated number of clusters: %d' % n_clusters_)\n",
    "plt.show()"
   ]
  },
  {
   "cell_type": "markdown",
   "metadata": {},
   "source": [
    "#### 3. k-means sobre el dataset IRIS"
   ]
  },
  {
   "cell_type": "code",
   "execution_count": null,
   "metadata": {
    "collapsed": false
   },
   "outputs": [],
   "source": [
    "% matplotlib inline\n",
    "\n",
    "from sklearn import datasets\n",
    "\n",
    "np.random.seed(5)\n",
    "\n",
    "centers = [[1, 1], [-1, -1], [1, -1]]\n",
    "iris = datasets.load_iris()\n",
    "X = iris.data\n",
    "y = iris.target\n",
    "\n",
    "clustering = KMeans(n_clusters=3)\n",
    "clustering.fit(X)\n",
    "labels = clustering.labels_\n",
    "\n",
    "fig = plt.figure(1)\n",
    "plt.clf()\n",
    "ax = Axes3D(fig, rect=[0, 0, .95, 1], elev=48, azim=134)\n",
    "\n",
    "plt.cla()\n",
    "\n",
    "ax.scatter(X[:, 3], X[:, 0], X[:, 2], c=labels.astype(np.float))\n",
    "\n",
    "ax.w_xaxis.set_ticklabels([])\n",
    "ax.w_yaxis.set_ticklabels([])\n",
    "ax.w_zaxis.set_ticklabels([])\n",
    "ax.set_xlabel('Petal width')\n",
    "ax.set_ylabel('Sepal length')\n",
    "ax.set_zlabel('Petal length')"
   ]
  },
  {
   "cell_type": "markdown",
   "metadata": {
    "collapsed": true
   },
   "source": [
    "## 1.4 Clasificación"
   ]
  },
  {
   "cell_type": "markdown",
   "metadata": {},
   "source": [
    "#### 2. Digits Dataset"
   ]
  },
  {
   "cell_type": "code",
   "execution_count": 26,
   "metadata": {
    "collapsed": true
   },
   "outputs": [],
   "source": [
    "digits = datasets.load_digits()"
   ]
  },
  {
   "cell_type": "code",
   "execution_count": 27,
   "metadata": {
    "collapsed": false
   },
   "outputs": [],
   "source": [
    "X = digits.data\n",
    "y = digits.target"
   ]
  },
  {
   "cell_type": "code",
   "execution_count": 39,
   "metadata": {
    "collapsed": false
   },
   "outputs": [
    {
     "name": "stderr",
     "output_type": "stream",
     "text": [
      "/home/leandro/virtualenvs/DSS/lib/python3.4/site-packages/sklearn/svm/base.py:547: ChangedBehaviorWarning: The decision_function_shape default value will change from 'ovo' to 'ovr' in 0.18. This will change the shape of the decision function returned by SVC.\n",
      "  \"SVC.\", ChangedBehaviorWarning)\n"
     ]
    },
    {
     "data": {
      "text/plain": [
       "array([[ 1.88793344,  1.72479957,  1.48441384, ...,  0.21161172,\n",
       "         0.09035082, -0.16607813],\n",
       "       [-2.50834984, -1.26755844, -1.49864758, ..., -2.10079496,\n",
       "        -0.18982678,  3.35797939],\n",
       "       [-1.45631393, -1.4573753 , -0.9824458 , ..., -2.30160695,\n",
       "         1.47109128,  5.36545509],\n",
       "       ..., \n",
       "       [-0.73699949, -0.71192053, -0.80932215, ..., -2.91786091,\n",
       "        -1.24556113,  6.34912842],\n",
       "       [-0.1277185 ,  0.59877042, -0.32336706, ..., -1.04836566,\n",
       "        -2.89548762, -2.22455885],\n",
       "       [-0.29648248, -0.42832547, -0.93659351, ..., -2.57076768,\n",
       "        -2.33215878,  3.43238452]])"
      ]
     },
     "execution_count": 39,
     "metadata": {},
     "output_type": "execute_result"
    }
   ],
   "source": [
    "clf_linear = SVC(kernel=\"linear\").fit(X, y)\n",
    "clf_linear.decision_function(X)"
   ]
  },
  {
   "cell_type": "code",
   "execution_count": 40,
   "metadata": {
    "collapsed": false
   },
   "outputs": [
    {
     "name": "stderr",
     "output_type": "stream",
     "text": [
      "/home/leandro/virtualenvs/DSS/lib/python3.4/site-packages/sklearn/svm/base.py:547: ChangedBehaviorWarning: The decision_function_shape default value will change from 'ovo' to 'ovr' in 0.18. This will change the shape of the decision function returned by SVC.\n",
      "  \"SVC.\", ChangedBehaviorWarning)\n"
     ]
    },
    {
     "data": {
      "text/plain": [
       "array([[ 1.88793344,  1.72479957,  1.48441384, ...,  0.21161172,\n",
       "         0.09035082, -0.16607813],\n",
       "       [-2.50834984, -1.26755844, -1.49864758, ..., -2.10079496,\n",
       "        -0.18982678,  3.35797939],\n",
       "       [-1.45631393, -1.4573753 , -0.9824458 , ..., -2.30160695,\n",
       "         1.47109128,  5.36545509],\n",
       "       ..., \n",
       "       [-0.73699949, -0.71192053, -0.80932215, ..., -2.91786091,\n",
       "        -1.24556113,  6.34912842],\n",
       "       [-0.1277185 ,  0.59877042, -0.32336706, ..., -1.04836566,\n",
       "        -2.89548762, -2.22455885],\n",
       "       [-0.29648248, -0.42832547, -0.93659351, ..., -2.57076768,\n",
       "        -2.33215878,  3.43238452]])"
      ]
     },
     "execution_count": 40,
     "metadata": {},
     "output_type": "execute_result"
    }
   ],
   "source": [
    "clf_rbf = SVC(kernel=\"rbf\").fit(X, y)\n",
    "clf_linear.decision_function(X)"
   ]
  },
  {
   "cell_type": "markdown",
   "metadata": {},
   "source": [
    "#### 3. Vinos"
   ]
  },
  {
   "cell_type": "code",
   "execution_count": 2,
   "metadata": {
    "collapsed": false
   },
   "outputs": [],
   "source": [
    "data = pd.read_csv('data/winequality-red.csv', sep=\";\")\n",
    "X = data[data.columns[:-1]].as_matrix()\n",
    "y = data[\"quality\"].as_matrix()"
   ]
  },
  {
   "cell_type": "code",
   "execution_count": 8,
   "metadata": {
    "collapsed": false
   },
   "outputs": [],
   "source": [
    "clf_linear = SVC(kernel='linear').fit(X, y)"
   ]
  },
  {
   "cell_type": "code",
   "execution_count": 11,
   "metadata": {
    "collapsed": false
   },
   "outputs": [
    {
     "name": "stderr",
     "output_type": "stream",
     "text": [
      "/home/leandro/virtualenvs/DSS/lib/python3.4/site-packages/sklearn/svm/base.py:547: ChangedBehaviorWarning: The decision_function_shape default value will change from 'ovo' to 'ovr' in 0.18. This will change the shape of the decision function returned by SVC.\n",
      "  \"SVC.\", ChangedBehaviorWarning)\n"
     ]
    },
    {
     "data": {
      "text/plain": [
       "array([[-1.06579787, -1.00061273, -1.05658602, ...,  1.00683431,\n",
       "         1.00124289,  1.00112503],\n",
       "       [-1.19036218, -1.00195253, -1.22230927, ...,  1.00711328,\n",
       "         1.00106702,  1.00107153],\n",
       "       [-1.1894284 , -1.00182166, -1.23898964, ...,  1.00584657,\n",
       "         1.0010491 ,  1.00119803],\n",
       "       ..., \n",
       "       [-1.25610475, -1.00116715, -1.23969461, ...,  1.00186007,\n",
       "         1.0007635 ,  1.00051433],\n",
       "       [-1.13749881, -1.00053369, -1.09787689, ...,  1.00561539,\n",
       "         1.00098968,  1.00013995],\n",
       "       [-1.28076213, -1.00185758, -1.40607796, ...,  1.00034108,\n",
       "         1.0007179 ,  1.00013949]])"
      ]
     },
     "execution_count": 11,
     "metadata": {},
     "output_type": "execute_result"
    }
   ],
   "source": [
    "clf_linear.decision_function(X)"
   ]
  },
  {
   "cell_type": "code",
   "execution_count": 9,
   "metadata": {
    "collapsed": false
   },
   "outputs": [],
   "source": [
    "clf_rbf = SVC(kernel='rbf').fit(X, y)"
   ]
  },
  {
   "cell_type": "code",
   "execution_count": 21,
   "metadata": {
    "collapsed": false
   },
   "outputs": [
    {
     "name": "stderr",
     "output_type": "stream",
     "text": [
      "/home/leandro/virtualenvs/DSS/lib/python3.4/site-packages/sklearn/svm/base.py:547: ChangedBehaviorWarning: The decision_function_shape default value will change from 'ovo' to 'ovr' in 0.18. This will change the shape of the decision function returned by SVC.\n",
      "  \"SVC.\", ChangedBehaviorWarning)\n"
     ]
    },
    {
     "data": {
      "text/plain": [
       "array([[-0.9253644 , -1.04149227, -1.00539788, ...,  0.92105959,\n",
       "         1.03051485,  1.02028612],\n",
       "       [-0.88143482, -0.99988388, -1.00001641, ...,  0.99920748,\n",
       "         1.00011079,  0.89518142],\n",
       "       [-0.97400674, -1.01269286, -1.0013847 , ...,  0.82172435,\n",
       "         1.00330028,  0.9271674 ],\n",
       "       ..., \n",
       "       [-0.87714904, -0.99713674, -1.00004743, ...,  1.05011128,\n",
       "         1.00679818,  0.89708   ],\n",
       "       [-0.85839131, -1.01276167, -1.07805337, ...,  1.15812344,\n",
       "         1.113498  ,  0.70129747],\n",
       "       [-0.92100529, -1.0023291 , -1.00002434, ...,  1.00032841,\n",
       "         1.02753355,  0.98328321]])"
      ]
     },
     "execution_count": 21,
     "metadata": {},
     "output_type": "execute_result"
    }
   ],
   "source": [
    "clf_rbf.decision_function(X)"
   ]
  },
  {
   "cell_type": "code",
   "execution_count": null,
   "metadata": {
    "collapsed": true
   },
   "outputs": [],
   "source": []
  }
 ],
 "metadata": {
  "anaconda-cloud": {},
  "kernelspec": {
   "display_name": "Python 3",
   "language": "python",
   "name": "python3"
  },
  "language_info": {
   "codemirror_mode": {
    "name": "ipython",
    "version": 3
   },
   "file_extension": ".py",
   "mimetype": "text/x-python",
   "name": "python",
   "nbconvert_exporter": "python",
   "pygments_lexer": "ipython3",
   "version": "3.4.3"
  }
 },
 "nbformat": 4,
 "nbformat_minor": 0
}

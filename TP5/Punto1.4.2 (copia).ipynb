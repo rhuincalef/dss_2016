{
 "cells": [
  {
   "cell_type": "markdown",
   "metadata": {},
   "source": [
    "##### Se cargan las librerías"
   ]
  },
  {
   "cell_type": "code",
   "execution_count": 63,
   "metadata": {
    "collapsed": false
   },
   "outputs": [],
   "source": [
    "%matplotlib inline\n",
    "import numpy as np\n",
    "import matplotlib.pyplot as plt\n",
    "from sklearn import datasets, svm\n",
    "from sklearn.metrics import classification_report, confusion_matrix\n",
    "from sklearn import metrics\n",
    "from sklearn.cross_validation import train_test_split\n",
    "import numpy as np\n",
    "import matplotlib.pyplot as plt\n",
    "from sklearn.svm import SVC\n",
    "from sklearn.datasets import load_digits\n",
    "from sklearn.learning_curve import learning_curve\n",
    "from sklearn.cross_validation import ShuffleSplit\n",
    "\n",
    "\n"
   ]
  },
  {
   "cell_type": "markdown",
   "metadata": {},
   "source": [
    "#### Se carga un dataset de scikit learn"
   ]
  },
  {
   "cell_type": "code",
   "execution_count": null,
   "metadata": {
    "collapsed": false
   },
   "outputs": [],
   "source": [
    "ds = datasets.load_diabetes()\n",
    "print(datasets.load_diabetes())"
   ]
  },
  {
   "cell_type": "markdown",
   "metadata": {},
   "source": [
    "##### Se mezclan los datos y se los divide en datos de entrenamiento y datos de validacion"
   ]
  },
  {
   "cell_type": "code",
   "execution_count": null,
   "metadata": {
    "collapsed": false
   },
   "outputs": [],
   "source": [
    "print len(ds.data)\n",
    "print ds.data.shape\n",
    "print len(ds.target)\n",
    "print ds.target.shape"
   ]
  },
  {
   "cell_type": "code",
   "execution_count": 35,
   "metadata": {
    "collapsed": false
   },
   "outputs": [],
   "source": [
    "def cargar_datos_prueba():\n",
    "    iris = datasets.load_iris()\n",
    "    X = iris.data\n",
    "    y = iris.target\n",
    "    print \"X: \",len(X),\"x.shape: \",X.shape\n",
    "    print \"y: \",len(y),\"y.shape: \",y.shape\n",
    "    # Se genera una division aleatoria entre datos de prueba y entrenamiento\n",
    "    X_train, X_test, y_train, y_test = train_test_split(X, y,\n",
    "                                                        test_size=0.20, random_state=42)\n",
    "    \n",
    "    return (X,y,X_train,y_train,X_test, y_test)\n"
   ]
  },
  {
   "cell_type": "code",
   "execution_count": 36,
   "metadata": {
    "collapsed": false
   },
   "outputs": [
    {
     "name": "stdout",
     "output_type": "stream",
     "text": [
      "X:  150 x.shape:  (150, 4)\n",
      "y:  150 y.shape:  (150,)\n"
     ]
    }
   ],
   "source": [
    "X,y,X_train,y_train,X_test, y_test = cargar_datos_prueba()"
   ]
  },
  {
   "cell_type": "code",
   "execution_count": null,
   "metadata": {
    "collapsed": false
   },
   "outputs": [],
   "source": [
    "X_train"
   ]
  },
  {
   "cell_type": "markdown",
   "metadata": {},
   "source": [
    "#### Metodo para graficar los elementos del modelo"
   ]
  },
  {
   "cell_type": "code",
   "execution_count": 4,
   "metadata": {
    "collapsed": true
   },
   "outputs": [],
   "source": [
    "def graficar(nombre_kernel,clf):\n",
    "    plt.clf()\n",
    "    plt.scatter(X[:, 0], X[:, 1], c=y, zorder=10, cmap=plt.cm.Paired)\n",
    "    plt.axis('tight')\n",
    "    x_min = X[:, 0].min()\n",
    "    x_max = X[:, 0].max()\n",
    "    y_min = X[:, 1].min()\n",
    "    y_max = X[:, 1].max()\n",
    "    \n",
    "    XX, YY = np.mgrid[x_min:x_max:200j, y_min:y_max:200j]\n",
    "    Z = clf.decision_function(np.c_[XX.ravel(), YY.ravel()])\n",
    "\n",
    "    # Put the result into a color plot\n",
    "    Z = Z.reshape(XX.shape)\n",
    "    plt.pcolormesh(XX, YY, Z > 0, cmap=plt.cm.Paired)\n",
    "    plt.contour(XX, YY, Z, colors=['k', 'k', 'k'], linestyles=['--', '-', '--'],\n",
    "                levels=[-.5, 0, .5])\n",
    "    plt.title(\"Kernel \"+nombre_kernel)\n",
    "    plt.show()\n",
    "\n",
    "    "
   ]
  },
  {
   "cell_type": "code",
   "execution_count": 5,
   "metadata": {
    "collapsed": true
   },
   "outputs": [],
   "source": [
    "def plot_matrix(clf, X_test, y_test):\n",
    "    plt.clf()\n",
    "    plt.imshow(confusion_matrix(clf.predict(X_test), y_test),\n",
    "               interpolation='nearest', cmap=plt.cm.Blues)\n",
    "    plt.colorbar()\n",
    "    plt.xlabel(\"true label\")\n",
    "    plt.ylabel(\"predicted label\")\n",
    "    plt.show()\n",
    "    \n",
    "def plot_learning_curve(estimator, title, X, y, ylim=None, cv=None,\n",
    "                        n_jobs=1, train_sizes=np.linspace(.1, 1.0, 5)):\n",
    "    \"\"\"\n",
    "    Generate a simple plot of the test and training learning curve.\n",
    "\n",
    "    Parameters\n",
    "    ----------\n",
    "    estimator : object type that implements the \"fit\" and \"predict\" methods\n",
    "        An object of that type which is cloned for each validation.\n",
    "\n",
    "    title : string\n",
    "        Title for the chart.\n",
    "\n",
    "    X : array-like, shape (n_samples, n_features)\n",
    "        Training vector, where n_samples is the number of samples and\n",
    "        n_features is the number of features.\n",
    "\n",
    "    y : array-like, shape (n_samples) or (n_samples, n_features), optional\n",
    "        Target relative to X for classification or regression;\n",
    "        None for unsupervised learning.\n",
    "\n",
    "    ylim : tuple, shape (ymin, ymax), optional\n",
    "        Defines minimum and maximum yvalues plotted.\n",
    "\n",
    "    cv : int, cross-validation generator or an iterable, optional\n",
    "        Determines the cross-validation splitting strategy.\n",
    "        Possible inputs for cv are:\n",
    "          - None, to use the default 3-fold cross-validation,\n",
    "          - integer, to specify the number of folds.\n",
    "          - An object to be used as a cross-validation generator.\n",
    "          - An iterable yielding train/test splits.\n",
    "\n",
    "        For integer/None inputs, if ``y`` is binary or multiclass,\n",
    "        :class:`StratifiedKFold` used. If the estimator is not a classifier\n",
    "        or if ``y`` is neither binary nor multiclass, :class:`KFold` is used.\n",
    "\n",
    "        Refer :ref:`User Guide <cross_validation>` for the various\n",
    "        cross-validators that can be used here.\n",
    "\n",
    "    n_jobs : integer, optional\n",
    "        Number of jobs to run in parallel (default 1).\n",
    "    \"\"\"\n",
    "    plt.figure()\n",
    "    plt.title(title)\n",
    "    if ylim is not None:\n",
    "        plt.ylim(*ylim)\n",
    "    plt.xlabel(\"Training examples\")\n",
    "    plt.ylabel(\"Score\")\n",
    "    train_sizes, train_scores, test_scores = learning_curve(\n",
    "        estimator, X, y, cv=cv, n_jobs=n_jobs, train_sizes=train_sizes)\n",
    "    train_scores_mean = np.mean(train_scores, axis=1)\n",
    "    train_scores_std = np.std(train_scores, axis=1)\n",
    "    test_scores_mean = np.mean(test_scores, axis=1)\n",
    "    test_scores_std = np.std(test_scores, axis=1)\n",
    "    plt.grid()\n",
    "\n",
    "    plt.fill_between(train_sizes, train_scores_mean - train_scores_std,\n",
    "                     train_scores_mean + train_scores_std, alpha=0.1,\n",
    "                     color=\"r\")\n",
    "    plt.fill_between(train_sizes, test_scores_mean - test_scores_std,\n",
    "                     test_scores_mean + test_scores_std, alpha=0.1, color=\"g\")\n",
    "    plt.plot(train_sizes, train_scores_mean, 'o-', color=\"r\",\n",
    "             label=\"Training score\")\n",
    "    plt.plot(train_sizes, test_scores_mean, 'o-', color=\"g\",\n",
    "             label=\"Cross-validation score\")\n",
    "\n",
    "    plt.legend(loc=\"best\")\n",
    "    plt.show()\n",
    "    #return plt\n"
   ]
  },
  {
   "cell_type": "markdown",
   "metadata": {},
   "source": [
    "#### Se entrena el modelo y se retornan las predicciones para un conjunto de datos"
   ]
  },
  {
   "cell_type": "code",
   "execution_count": 61,
   "metadata": {
    "collapsed": false
   },
   "outputs": [
    {
     "name": "stdout",
     "output_type": "stream",
     "text": [
      "\n"
     ]
    }
   ],
   "source": [
    "def entrenar_kernel(nombre_kernel):\n",
    "\n",
    "    clf = svm.SVC(kernel=nombre_kernel, probability=True)#, gamma=10)\n",
    "    clf.fit(X_train, y_train.ravel())\n",
    "    y_pred = clf.predict(X_test)\n",
    "    return (clf,y_pred)\n"
   ]
  },
  {
   "cell_type": "markdown",
   "metadata": {},
   "source": [
    "despues borrar abajo"
   ]
  },
  {
   "cell_type": "code",
   "execution_count": 54,
   "metadata": {
    "collapsed": false
   },
   "outputs": [
    {
     "name": "stdout",
     "output_type": "stream",
     "text": [
      "             precision    recall  f1-score   support\n",
      "\n",
      "          0       1.00      1.00      1.00        15\n",
      "          1       1.00      1.00      1.00        11\n",
      "          2       1.00      1.00      1.00        12\n",
      "\n",
      "avg / total       1.00      1.00      1.00        38\n",
      "\n",
      "1.0\n"
     ]
    },
    {
     "data": {
      "image/png": "[encoded data removed]",
      "text/plain": [
       "<matplotlib.figure.Figure at 0xaea93fcc>"
      ]
     },
     "metadata": {},
     "output_type": "display_data"
    }
   ],
   "source": [
    "from sklearn.svm import SVC\n",
    "\n",
    "iris = datasets.load_iris()\n",
    "X = iris.data\n",
    "y = iris.target\n",
    "X_train, X_test, y_train, y_test = train_test_split(X, y,\n",
    "                                                        test_size=0.25, random_state=42)\n",
    "    \n",
    "    \n",
    "sv = SVC(kernel='poly', cache_size=1000)\n",
    "sv.fit(X_train, y_train.ravel())\n",
    "\n",
    "print classification_report(sv.predict(X_test), y_test)\n",
    "print sv.score(X_test, y_test)\n",
    "plot_matrix(sv, X_test, y_test)"
   ]
  },
  {
   "cell_type": "markdown",
   "metadata": {},
   "source": [
    "##### Para las diferencias hacer: \n",
    "##### 1. classication_report(), con valores como recall, y precision, f1-score.\n",
    "##### 2. score(precision).\n",
    "##### 3. Matriz de confusion.\n",
    "##### de los datos de prueba contra los datos de validacion."
   ]
  },
  {
   "cell_type": "code",
   "execution_count": 7,
   "metadata": {
    "collapsed": false
   },
   "outputs": [],
   "source": [
    "def imprimir_estadisticas(nombre_kernel,mykernel,X_test,y_pred,y_test):\n",
    "    print \"\"\n",
    "    print \"Kernel testeado: \",nombre_kernel\n",
    "    print classification_report(y_pred, y_test)\n",
    "    print \"La matriz de confusion obtenida es la siguiente:\"\n",
    "    print confusion_matrix(y_pred, y_test)\n",
    "    print \"\"\n",
    "    print \"Precision media del kernel: \",mykernel.score(X_test, y_test)\n",
    "    print \"\"\n",
    "    print \"\"\n",
    "    \n",
    "    \n",
    "    "
   ]
  },
  {
   "cell_type": "markdown",
   "metadata": {},
   "source": [
    "##### Se entrenan y compara el rendimiento de los kernels con los datos de prueba"
   ]
  },
  {
   "cell_type": "code",
   "execution_count": null,
   "metadata": {
    "collapsed": true
   },
   "outputs": [],
   "source": [
    "ShuffleSplit?\n"
   ]
  },
  {
   "cell_type": "code",
   "execution_count": 50,
   "metadata": {
    "collapsed": false
   },
   "outputs": [
    {
     "ename": "ValueError",
     "evalue": "bad input shape (120, 2)",
     "output_type": "error",
     "traceback": [
      "\u001b[1;31m---------------------------------------------------------------------------\u001b[0m",
      "\u001b[1;31mValueError\u001b[0m                                Traceback (most recent call last)",
      "\u001b[1;32m<ipython-input-50-8db674751afa>\u001b[0m in \u001b[0;36m<module>\u001b[1;34m()\u001b[0m\n\u001b[1;32m----> 1\u001b[1;33m \u001b[0mkernel2\u001b[0m\u001b[1;33m,\u001b[0m\u001b[0my_pred2\u001b[0m \u001b[1;33m=\u001b[0m \u001b[0mentrenar_kernel\u001b[0m\u001b[1;33m(\u001b[0m\u001b[1;34m'poly'\u001b[0m\u001b[1;33m)\u001b[0m\u001b[1;33m\u001b[0m\u001b[0m\n\u001b[0m\u001b[0;32m      2\u001b[0m \u001b[0mimprimir_estadisticas\u001b[0m\u001b[1;33m(\u001b[0m\u001b[1;34m'poly'\u001b[0m\u001b[1;33m,\u001b[0m\u001b[0mkernel2\u001b[0m\u001b[1;33m,\u001b[0m\u001b[0mX_test\u001b[0m\u001b[1;33m,\u001b[0m\u001b[0my_pred2\u001b[0m\u001b[1;33m,\u001b[0m\u001b[0my_test\u001b[0m\u001b[1;33m)\u001b[0m\u001b[1;33m\u001b[0m\u001b[0m\n\u001b[0;32m      3\u001b[0m \u001b[0mplot_matrix\u001b[0m\u001b[1;33m(\u001b[0m\u001b[0mkernel2\u001b[0m\u001b[1;33m,\u001b[0m \u001b[0mX_test\u001b[0m\u001b[1;33m,\u001b[0m \u001b[0my_test\u001b[0m\u001b[1;33m)\u001b[0m\u001b[1;33m\u001b[0m\u001b[0m\n\u001b[0;32m      4\u001b[0m \u001b[0mgraficar\u001b[0m\u001b[1;33m(\u001b[0m\u001b[1;34m'poly'\u001b[0m\u001b[1;33m,\u001b[0m\u001b[0mkernel2\u001b[0m\u001b[1;33m)\u001b[0m\u001b[1;33m\u001b[0m\u001b[0m\n\u001b[0;32m      5\u001b[0m \u001b[1;33m\u001b[0m\u001b[0m\n",
      "\u001b[1;32m<ipython-input-49-3f690ae693b1>\u001b[0m in \u001b[0;36mentrenar_kernel\u001b[1;34m(nombre_kernel)\u001b[0m\n\u001b[0;32m      2\u001b[0m     \u001b[1;31m#,probability=True\u001b[0m\u001b[1;33m\u001b[0m\u001b[1;33m\u001b[0m\u001b[0m\n\u001b[0;32m      3\u001b[0m     \u001b[0mclf\u001b[0m \u001b[1;33m=\u001b[0m \u001b[0msvm\u001b[0m\u001b[1;33m.\u001b[0m\u001b[0mSVC\u001b[0m\u001b[1;33m(\u001b[0m\u001b[0mkernel\u001b[0m\u001b[1;33m=\u001b[0m\u001b[0mnombre_kernel\u001b[0m\u001b[1;33m)\u001b[0m\u001b[1;31m#, gamma=10)\u001b[0m\u001b[1;33m\u001b[0m\u001b[0m\n\u001b[1;32m----> 4\u001b[1;33m     \u001b[0mclf\u001b[0m\u001b[1;33m.\u001b[0m\u001b[0mfit\u001b[0m\u001b[1;33m(\u001b[0m\u001b[0mX_train\u001b[0m\u001b[1;33m,\u001b[0m \u001b[0my_train\u001b[0m\u001b[1;33m)\u001b[0m\u001b[1;33m\u001b[0m\u001b[0m\n\u001b[0m\u001b[0;32m      5\u001b[0m     \u001b[0my_pred\u001b[0m \u001b[1;33m=\u001b[0m \u001b[0mclf\u001b[0m\u001b[1;33m.\u001b[0m\u001b[0mpredict\u001b[0m\u001b[1;33m(\u001b[0m\u001b[0mX_test\u001b[0m\u001b[1;33m)\u001b[0m\u001b[1;33m\u001b[0m\u001b[0m\n\u001b[0;32m      6\u001b[0m     \u001b[1;32mreturn\u001b[0m \u001b[1;33m(\u001b[0m\u001b[0mclf\u001b[0m\u001b[1;33m,\u001b[0m\u001b[0my_pred\u001b[0m\u001b[1;33m)\u001b[0m\u001b[1;33m\u001b[0m\u001b[0m\n",
      "\u001b[1;32m/usr/local/lib/python2.7/dist-packages/sklearn/svm/base.pyc\u001b[0m in \u001b[0;36mfit\u001b[1;34m(self, X, y, sample_weight)\u001b[0m\n\u001b[0;32m    149\u001b[0m \u001b[1;33m\u001b[0m\u001b[0m\n\u001b[0;32m    150\u001b[0m         \u001b[0mX\u001b[0m \u001b[1;33m=\u001b[0m \u001b[0mcheck_array\u001b[0m\u001b[1;33m(\u001b[0m\u001b[0mX\u001b[0m\u001b[1;33m,\u001b[0m \u001b[0maccept_sparse\u001b[0m\u001b[1;33m=\u001b[0m\u001b[1;34m'csr'\u001b[0m\u001b[1;33m,\u001b[0m \u001b[0mdtype\u001b[0m\u001b[1;33m=\u001b[0m\u001b[0mnp\u001b[0m\u001b[1;33m.\u001b[0m\u001b[0mfloat64\u001b[0m\u001b[1;33m,\u001b[0m \u001b[0morder\u001b[0m\u001b[1;33m=\u001b[0m\u001b[1;34m'C'\u001b[0m\u001b[1;33m)\u001b[0m\u001b[1;33m\u001b[0m\u001b[0m\n\u001b[1;32m--> 151\u001b[1;33m         \u001b[0my\u001b[0m \u001b[1;33m=\u001b[0m \u001b[0mself\u001b[0m\u001b[1;33m.\u001b[0m\u001b[0m_validate_targets\u001b[0m\u001b[1;33m(\u001b[0m\u001b[0my\u001b[0m\u001b[1;33m)\u001b[0m\u001b[1;33m\u001b[0m\u001b[0m\n\u001b[0m\u001b[0;32m    152\u001b[0m \u001b[1;33m\u001b[0m\u001b[0m\n\u001b[0;32m    153\u001b[0m         sample_weight = np.asarray([]\n",
      "\u001b[1;32m/usr/local/lib/python2.7/dist-packages/sklearn/svm/base.pyc\u001b[0m in \u001b[0;36m_validate_targets\u001b[1;34m(self, y)\u001b[0m\n\u001b[0;32m    512\u001b[0m \u001b[1;33m\u001b[0m\u001b[0m\n\u001b[0;32m    513\u001b[0m     \u001b[1;32mdef\u001b[0m \u001b[0m_validate_targets\u001b[0m\u001b[1;33m(\u001b[0m\u001b[0mself\u001b[0m\u001b[1;33m,\u001b[0m \u001b[0my\u001b[0m\u001b[1;33m)\u001b[0m\u001b[1;33m:\u001b[0m\u001b[1;33m\u001b[0m\u001b[0m\n\u001b[1;32m--> 514\u001b[1;33m         \u001b[0my_\u001b[0m \u001b[1;33m=\u001b[0m \u001b[0mcolumn_or_1d\u001b[0m\u001b[1;33m(\u001b[0m\u001b[0my\u001b[0m\u001b[1;33m,\u001b[0m \u001b[0mwarn\u001b[0m\u001b[1;33m=\u001b[0m\u001b[0mTrue\u001b[0m\u001b[1;33m)\u001b[0m\u001b[1;33m\u001b[0m\u001b[0m\n\u001b[0m\u001b[0;32m    515\u001b[0m         \u001b[0mcheck_classification_targets\u001b[0m\u001b[1;33m(\u001b[0m\u001b[0my\u001b[0m\u001b[1;33m)\u001b[0m\u001b[1;33m\u001b[0m\u001b[0m\n\u001b[0;32m    516\u001b[0m         \u001b[0mcls\u001b[0m\u001b[1;33m,\u001b[0m \u001b[0my\u001b[0m \u001b[1;33m=\u001b[0m \u001b[0mnp\u001b[0m\u001b[1;33m.\u001b[0m\u001b[0munique\u001b[0m\u001b[1;33m(\u001b[0m\u001b[0my_\u001b[0m\u001b[1;33m,\u001b[0m \u001b[0mreturn_inverse\u001b[0m\u001b[1;33m=\u001b[0m\u001b[0mTrue\u001b[0m\u001b[1;33m)\u001b[0m\u001b[1;33m\u001b[0m\u001b[0m\n",
      "\u001b[1;32m/usr/local/lib/python2.7/dist-packages/sklearn/utils/validation.pyc\u001b[0m in \u001b[0;36mcolumn_or_1d\u001b[1;34m(y, warn)\u001b[0m\n\u001b[0;32m    549\u001b[0m         \u001b[1;32mreturn\u001b[0m \u001b[0mnp\u001b[0m\u001b[1;33m.\u001b[0m\u001b[0mravel\u001b[0m\u001b[1;33m(\u001b[0m\u001b[0my\u001b[0m\u001b[1;33m)\u001b[0m\u001b[1;33m\u001b[0m\u001b[0m\n\u001b[0;32m    550\u001b[0m \u001b[1;33m\u001b[0m\u001b[0m\n\u001b[1;32m--> 551\u001b[1;33m     \u001b[1;32mraise\u001b[0m \u001b[0mValueError\u001b[0m\u001b[1;33m(\u001b[0m\u001b[1;34m\"bad input shape {0}\"\u001b[0m\u001b[1;33m.\u001b[0m\u001b[0mformat\u001b[0m\u001b[1;33m(\u001b[0m\u001b[0mshape\u001b[0m\u001b[1;33m)\u001b[0m\u001b[1;33m)\u001b[0m\u001b[1;33m\u001b[0m\u001b[0m\n\u001b[0m\u001b[0;32m    552\u001b[0m \u001b[1;33m\u001b[0m\u001b[0m\n\u001b[0;32m    553\u001b[0m \u001b[1;33m\u001b[0m\u001b[0m\n",
      "\u001b[1;31mValueError\u001b[0m: bad input shape (120, 2)"
     ]
    }
   ],
   "source": [
    "kernel2,y_pred2 = entrenar_kernel('poly')\n",
    "imprimir_estadisticas('poly',kernel2,X_test,y_pred2,y_test)\n",
    "plot_matrix(kernel2, X_test, y_test)\n",
    "graficar('poly',kernel2)\n",
    "\n",
    "#Se grafica la curva de aprendizaje para detectar overfitting\n",
    "title = \"Learning Curves (SVM, Polynomial kernel, $\\gamma=10$)\"\n",
    "\n",
    "# SVC is more expensive so we do a lower number of CV iterations:\n",
    "\n",
    "cv2 = ShuffleSplit(X.shape[0], n_iter=10, test_size=0.2, random_state=0)\n",
    "#estimator = SVC(gamma=0.001)\n",
    "#estimator2 = kernel2\n",
    "#plot_learning_curve(estimator2, title, X, y, (0.2, 1.01), cv=cv2, n_jobs=4)\n",
    "\n"
   ]
  },
  {
   "cell_type": "code",
   "execution_count": 9,
   "metadata": {
    "collapsed": false
   },
   "outputs": [
    {
     "name": "stdout",
     "output_type": "stream",
     "text": [
      "\n",
      "Kernel testeado:  rbf\n",
      "             precision    recall  f1-score   support\n",
      "\n",
      "          1       0.58      0.78      0.67         9\n",
      "          2       0.75      0.55      0.63        11\n",
      "\n",
      "avg / total       0.68      0.65      0.65        20\n",
      "\n",
      "La matriz de confusion obtenida es la siguiente:\n",
      "[[7 2]\n",
      " [5 6]]\n",
      "\n",
      "Precision media del kernel:  0.65\n",
      "\n",
      "\n"
     ]
    },
    {
     "data": {
      "image/png": "[encoded data removed]",
      "text/plain": [
       "<matplotlib.figure.Figure at 0xb66d1e8c>"
      ]
     },
     "metadata": {},
     "output_type": "display_data"
    },
    {
     "data": {
      "image/png": "[encoded data removed]",
      "text/plain": [
       "<matplotlib.figure.Figure at 0xb740ffac>"
      ]
     },
     "metadata": {},
     "output_type": "display_data"
    }
   ],
   "source": [
    "kernel,y_pred = entrenar_kernel('rbf')\n",
    "imprimir_estadisticas('rbf',kernel,X_test,y_pred,y_test)\n",
    "plot_matrix(kernel, X_test, y_test)\n",
    "graficar('rbf',kernel)\n",
    "\n",
    "#Sacado de  -->\n",
    "#http://scikit-learn.org/0.15/auto_examples/plot_learning_curve.html\n",
    "#Se grafica la curva de aprendizaje para detectar overfitting\n",
    "title = \"Learning Curves (SVM, RBF kernel, $\\gamma=10$)\"\n",
    "\n",
    "# SVC is more expensive so we do a lower number of CV iterations:\n",
    "\n",
    "cv = ShuffleSplit(X.shape[0], n_iter=10, test_size=0.2, random_state=0)\n",
    "#estimator = SVC(gamma=0.001)\n",
    "#estimator = kernel\n",
    "#plot_learning_curve(estimator, title, X, y, (0.2, 1.01), cv=cv, n_jobs=4)\n",
    "\n"
   ]
  },
  {
   "cell_type": "markdown",
   "metadata": {},
   "source": [
    "### Punto 1.5) Cuantificación de la calidad de las predicciones  "
   ]
  },
  {
   "cell_type": "markdown",
   "metadata": {},
   "source": [
    "##### Funciones previas "
   ]
  },
  {
   "cell_type": "code",
   "execution_count": 10,
   "metadata": {
    "collapsed": true
   },
   "outputs": [],
   "source": [
    "#Area under the curve(ROC)\n",
    "from sklearn.metrics import roc_auc_score\n",
    "from sklearn.preprocessing import label_binarize\n",
    "from sklearn.multiclass import OneVsRestClassifier\n",
    "\n",
    "#Accuracy\n",
    "from sklearn.metrics import accuracy_score\n",
    "\n",
    "#Log_loss\n",
    "from sklearn.metrics import log_loss\n",
    "from sklearn.svm.libsvm import predict_proba"
   ]
  },
  {
   "cell_type": "code",
   "execution_count": 45,
   "metadata": {
    "collapsed": true
   },
   "outputs": [],
   "source": [
    "\n",
    "#Probar con test_size 20 - 25%.\n",
    "def cargar_datos_prueba_binarios():\n",
    "    iris = datasets.load_iris()\n",
    "    X = iris.data\n",
    "    y = iris.target\n",
    "    # Se recorren todos los valores de datos(data) y labels (targets) y se \n",
    "    # elimina cualquier valor que sea igual a cero.\n",
    "    #X = X[y != 0, :2]\n",
    "    #y = y[y != 0]\n",
    "    y = label_binarize(y,classes=[0,1])\n",
    "    # Se genera una division aleatoria entre datos de prueba y entrenamiento\n",
    "    X_train, X_test, y_train, y_test = train_test_split(X, y,\n",
    "                                                        test_size=0.20, random_state=42)\n",
    "    \n",
    "    return (X,y,X_train,y_train,X_test, y_test)\n",
    "\n"
   ]
  },
  {
   "cell_type": "markdown",
   "metadata": {},
   "source": [
    "#### Accuracy"
   ]
  },
  {
   "cell_type": "code",
   "execution_count": 11,
   "metadata": {
    "collapsed": false
   },
   "outputs": [
    {
     "name": "stdout",
     "output_type": "stream",
     "text": [
      "El accuracy score para el kernel polinomial es:  0.55\n"
     ]
    }
   ],
   "source": [
    "#Kernel Polinomial\n",
    "print \"El accuracy score para el kernel polinomial es: \",accuracy_score(y_test,kernel2.predict(X_test))\n"
   ]
  },
  {
   "cell_type": "code",
   "execution_count": 12,
   "metadata": {
    "collapsed": false
   },
   "outputs": [
    {
     "name": "stdout",
     "output_type": "stream",
     "text": [
      "El accuracy score para el kernel RBF es:  0.65\n"
     ]
    }
   ],
   "source": [
    "#Kernel RBF\n",
    "print \"El accuracy score para el kernel RBF es: \",accuracy_score(y_test,kernel.predict(X_test))\n"
   ]
  },
  {
   "cell_type": "markdown",
   "metadata": {},
   "source": [
    "#### ROC (Area under the curve) "
   ]
  },
  {
   "cell_type": "code",
   "execution_count": 46,
   "metadata": {
    "collapsed": false
   },
   "outputs": [
    {
     "ename": "ValueError",
     "evalue": "bad input shape (120, 2)",
     "output_type": "error",
     "traceback": [
      "\u001b[1;31m---------------------------------------------------------------------------\u001b[0m",
      "\u001b[1;31mValueError\u001b[0m                                Traceback (most recent call last)",
      "\u001b[1;32m<ipython-input-46-5babab6ae9e9>\u001b[0m in \u001b[0;36m<module>\u001b[1;34m()\u001b[0m\n\u001b[0;32m      2\u001b[0m \u001b[1;31m#Se saca el y_score de la funcion de decision del clasificador\u001b[0m\u001b[1;33m\u001b[0m\u001b[1;33m\u001b[0m\u001b[0m\n\u001b[0;32m      3\u001b[0m \u001b[0mX\u001b[0m\u001b[1;33m,\u001b[0m\u001b[0my\u001b[0m\u001b[1;33m,\u001b[0m\u001b[0mX_train\u001b[0m\u001b[1;33m,\u001b[0m \u001b[0my_train\u001b[0m\u001b[1;33m,\u001b[0m \u001b[0mX_test\u001b[0m\u001b[1;33m,\u001b[0m\u001b[0my_test\u001b[0m \u001b[1;33m=\u001b[0m \u001b[0mcargar_datos_prueba_binarios\u001b[0m\u001b[1;33m(\u001b[0m\u001b[1;33m)\u001b[0m\u001b[1;33m\u001b[0m\u001b[0m\n\u001b[1;32m----> 4\u001b[1;33m \u001b[0mkernelPoly\u001b[0m \u001b[1;33m=\u001b[0m \u001b[0mentrenar_kernel\u001b[0m\u001b[1;33m(\u001b[0m\u001b[1;34m'poly'\u001b[0m\u001b[1;33m)\u001b[0m\u001b[1;33m[\u001b[0m\u001b[1;36m0\u001b[0m\u001b[1;33m]\u001b[0m\u001b[1;33m\u001b[0m\u001b[0m\n\u001b[0m\u001b[0;32m      5\u001b[0m \u001b[1;33m\u001b[0m\u001b[0m\n\u001b[0;32m      6\u001b[0m \u001b[0my_scores\u001b[0m \u001b[1;33m=\u001b[0m \u001b[0mkernelPoly\u001b[0m\u001b[1;33m.\u001b[0m\u001b[0mdecision_function\u001b[0m\u001b[1;33m(\u001b[0m\u001b[0mX_test\u001b[0m\u001b[1;33m)\u001b[0m\u001b[1;33m\u001b[0m\u001b[0m\n",
      "\u001b[1;32m<ipython-input-6-ad09504e0613>\u001b[0m in \u001b[0;36mentrenar_kernel\u001b[1;34m(nombre_kernel)\u001b[0m\n\u001b[0;32m      1\u001b[0m \u001b[1;32mdef\u001b[0m \u001b[0mentrenar_kernel\u001b[0m\u001b[1;33m(\u001b[0m\u001b[0mnombre_kernel\u001b[0m\u001b[1;33m)\u001b[0m\u001b[1;33m:\u001b[0m\u001b[1;33m\u001b[0m\u001b[0m\n\u001b[0;32m      2\u001b[0m     \u001b[0mclf\u001b[0m \u001b[1;33m=\u001b[0m \u001b[0msvm\u001b[0m\u001b[1;33m.\u001b[0m\u001b[0mSVC\u001b[0m\u001b[1;33m(\u001b[0m\u001b[0mkernel\u001b[0m\u001b[1;33m=\u001b[0m\u001b[0mnombre_kernel\u001b[0m\u001b[1;33m,\u001b[0m \u001b[0mgamma\u001b[0m\u001b[1;33m=\u001b[0m\u001b[1;36m10\u001b[0m\u001b[1;33m,\u001b[0m\u001b[0mprobability\u001b[0m\u001b[1;33m=\u001b[0m\u001b[0mTrue\u001b[0m\u001b[1;33m)\u001b[0m\u001b[1;33m\u001b[0m\u001b[0m\n\u001b[1;32m----> 3\u001b[1;33m     \u001b[0mclf\u001b[0m\u001b[1;33m.\u001b[0m\u001b[0mfit\u001b[0m\u001b[1;33m(\u001b[0m\u001b[0mX_train\u001b[0m\u001b[1;33m,\u001b[0m \u001b[0my_train\u001b[0m\u001b[1;33m)\u001b[0m\u001b[1;33m\u001b[0m\u001b[0m\n\u001b[0m\u001b[0;32m      4\u001b[0m     \u001b[0my_pred\u001b[0m \u001b[1;33m=\u001b[0m \u001b[0mclf\u001b[0m\u001b[1;33m.\u001b[0m\u001b[0mpredict\u001b[0m\u001b[1;33m(\u001b[0m\u001b[0mX_test\u001b[0m\u001b[1;33m)\u001b[0m\u001b[1;33m\u001b[0m\u001b[0m\n\u001b[0;32m      5\u001b[0m     \u001b[1;32mreturn\u001b[0m \u001b[1;33m(\u001b[0m\u001b[0mclf\u001b[0m\u001b[1;33m,\u001b[0m\u001b[0my_pred\u001b[0m\u001b[1;33m)\u001b[0m\u001b[1;33m\u001b[0m\u001b[0m\n",
      "\u001b[1;32m/usr/local/lib/python2.7/dist-packages/sklearn/svm/base.pyc\u001b[0m in \u001b[0;36mfit\u001b[1;34m(self, X, y, sample_weight)\u001b[0m\n\u001b[0;32m    149\u001b[0m \u001b[1;33m\u001b[0m\u001b[0m\n\u001b[0;32m    150\u001b[0m         \u001b[0mX\u001b[0m \u001b[1;33m=\u001b[0m \u001b[0mcheck_array\u001b[0m\u001b[1;33m(\u001b[0m\u001b[0mX\u001b[0m\u001b[1;33m,\u001b[0m \u001b[0maccept_sparse\u001b[0m\u001b[1;33m=\u001b[0m\u001b[1;34m'csr'\u001b[0m\u001b[1;33m,\u001b[0m \u001b[0mdtype\u001b[0m\u001b[1;33m=\u001b[0m\u001b[0mnp\u001b[0m\u001b[1;33m.\u001b[0m\u001b[0mfloat64\u001b[0m\u001b[1;33m,\u001b[0m \u001b[0morder\u001b[0m\u001b[1;33m=\u001b[0m\u001b[1;34m'C'\u001b[0m\u001b[1;33m)\u001b[0m\u001b[1;33m\u001b[0m\u001b[0m\n\u001b[1;32m--> 151\u001b[1;33m         \u001b[0my\u001b[0m \u001b[1;33m=\u001b[0m \u001b[0mself\u001b[0m\u001b[1;33m.\u001b[0m\u001b[0m_validate_targets\u001b[0m\u001b[1;33m(\u001b[0m\u001b[0my\u001b[0m\u001b[1;33m)\u001b[0m\u001b[1;33m\u001b[0m\u001b[0m\n\u001b[0m\u001b[0;32m    152\u001b[0m \u001b[1;33m\u001b[0m\u001b[0m\n\u001b[0;32m    153\u001b[0m         sample_weight = np.asarray([]\n",
      "\u001b[1;32m/usr/local/lib/python2.7/dist-packages/sklearn/svm/base.pyc\u001b[0m in \u001b[0;36m_validate_targets\u001b[1;34m(self, y)\u001b[0m\n\u001b[0;32m    512\u001b[0m \u001b[1;33m\u001b[0m\u001b[0m\n\u001b[0;32m    513\u001b[0m     \u001b[1;32mdef\u001b[0m \u001b[0m_validate_targets\u001b[0m\u001b[1;33m(\u001b[0m\u001b[0mself\u001b[0m\u001b[1;33m,\u001b[0m \u001b[0my\u001b[0m\u001b[1;33m)\u001b[0m\u001b[1;33m:\u001b[0m\u001b[1;33m\u001b[0m\u001b[0m\n\u001b[1;32m--> 514\u001b[1;33m         \u001b[0my_\u001b[0m \u001b[1;33m=\u001b[0m \u001b[0mcolumn_or_1d\u001b[0m\u001b[1;33m(\u001b[0m\u001b[0my\u001b[0m\u001b[1;33m,\u001b[0m \u001b[0mwarn\u001b[0m\u001b[1;33m=\u001b[0m\u001b[0mTrue\u001b[0m\u001b[1;33m)\u001b[0m\u001b[1;33m\u001b[0m\u001b[0m\n\u001b[0m\u001b[0;32m    515\u001b[0m         \u001b[0mcheck_classification_targets\u001b[0m\u001b[1;33m(\u001b[0m\u001b[0my\u001b[0m\u001b[1;33m)\u001b[0m\u001b[1;33m\u001b[0m\u001b[0m\n\u001b[0;32m    516\u001b[0m         \u001b[0mcls\u001b[0m\u001b[1;33m,\u001b[0m \u001b[0my\u001b[0m \u001b[1;33m=\u001b[0m \u001b[0mnp\u001b[0m\u001b[1;33m.\u001b[0m\u001b[0munique\u001b[0m\u001b[1;33m(\u001b[0m\u001b[0my_\u001b[0m\u001b[1;33m,\u001b[0m \u001b[0mreturn_inverse\u001b[0m\u001b[1;33m=\u001b[0m\u001b[0mTrue\u001b[0m\u001b[1;33m)\u001b[0m\u001b[1;33m\u001b[0m\u001b[0m\n",
      "\u001b[1;32m/usr/local/lib/python2.7/dist-packages/sklearn/utils/validation.pyc\u001b[0m in \u001b[0;36mcolumn_or_1d\u001b[1;34m(y, warn)\u001b[0m\n\u001b[0;32m    549\u001b[0m         \u001b[1;32mreturn\u001b[0m \u001b[0mnp\u001b[0m\u001b[1;33m.\u001b[0m\u001b[0mravel\u001b[0m\u001b[1;33m(\u001b[0m\u001b[0my\u001b[0m\u001b[1;33m)\u001b[0m\u001b[1;33m\u001b[0m\u001b[0m\n\u001b[0;32m    550\u001b[0m \u001b[1;33m\u001b[0m\u001b[0m\n\u001b[1;32m--> 551\u001b[1;33m     \u001b[1;32mraise\u001b[0m \u001b[0mValueError\u001b[0m\u001b[1;33m(\u001b[0m\u001b[1;34m\"bad input shape {0}\"\u001b[0m\u001b[1;33m.\u001b[0m\u001b[0mformat\u001b[0m\u001b[1;33m(\u001b[0m\u001b[0mshape\u001b[0m\u001b[1;33m)\u001b[0m\u001b[1;33m)\u001b[0m\u001b[1;33m\u001b[0m\u001b[0m\n\u001b[0m\u001b[0;32m    552\u001b[0m \u001b[1;33m\u001b[0m\u001b[0m\n\u001b[0;32m    553\u001b[0m \u001b[1;33m\u001b[0m\u001b[0m\n",
      "\u001b[1;31mValueError\u001b[0m: bad input shape (120, 2)"
     ]
    }
   ],
   "source": [
    "#Kernel polynomial\n",
    "#Se saca el y_score de la funcion de decision del clasificador\n",
    "X,y,X_train, y_train, X_test,y_test = cargar_datos_prueba_binarios()\n",
    "kernelPoly = entrenar_kernel('poly')[0]\n",
    "\n",
    "y_scores = kernelPoly.decision_function(X_test)\n",
    "# Learn to predict each class against the other\n",
    "#random_state = np.random.RandomState(0)\n",
    "\n",
    "print \"El area bajo la curva para el kernel polinomial en SVM es: \", roc_auc_score(y_test, y_scores)*100, \"%\"\n"
   ]
  },
  {
   "cell_type": "code",
   "execution_count": 18,
   "metadata": {
    "collapsed": false
   },
   "outputs": [
    {
     "name": "stdout",
     "output_type": "stream",
     "text": [
      "El area bajo la curva para el kernel RBF en SVM es:  61.4583333333 %\n"
     ]
    },
    {
     "name": "stderr",
     "output_type": "stream",
     "text": [
      "/usr/local/lib/python2.7/dist-packages/sklearn/svm/base.py:514: DataConversionWarning: A column-vector y was passed when a 1d array was expected. Please change the shape of y to (n_samples, ), for example using ravel().\n",
      "  y_ = column_or_1d(y, warn=True)\n"
     ]
    }
   ],
   "source": [
    "#Kernel RBF\n",
    "X,y,X_train, y_train, X_test,y_test = cargar_datos_prueba_binarios()\n",
    "kernelRBF = entrenar_kernel('rbf')[0]\n",
    "\n",
    "y_scores = kernelRBF.decision_function(X_test)\n",
    "\n",
    "print \"El area bajo la curva para el kernel RBF en SVM es: \", roc_auc_score(y_test, y_scores)*100, \"%\""
   ]
  },
  {
   "cell_type": "code",
   "execution_count": 55,
   "metadata": {
    "collapsed": false
   },
   "outputs": [
    {
     "data": {
      "text/plain": [
       "array([[-2.77073129,  0.37596194],\n",
       "       [-2.68620079,  0.86021537],\n",
       "       [ 1.36848497, -0.55498535],\n",
       "       [ 0.76579446,  0.21615618],\n",
       "       [ 1.17675347,  0.43928018],\n",
       "       [-2.66326619,  0.85705567],\n",
       "       [-2.54815144,  0.69605557],\n",
       "       [-0.24034946, -0.6381722 ],\n",
       "       [ 1.39824234, -0.11364764],\n",
       "       [ 1.86225902,  0.06986807],\n",
       "       [ 0.85502707,  0.36342405],\n",
       "       [ 2.87845621,  0.79010714],\n",
       "       [ 0.33048563, -0.26202658],\n",
       "       [ 3.35385608,  0.57230062],\n",
       "       [ 0.61583234, -0.32837081],\n",
       "       [-2.72712403,  0.37047208],\n",
       "       [ 3.45502072,  0.48631071],\n",
       "       [ 0.18849797, -0.29396258],\n",
       "       [-2.68351676,  0.36498222],\n",
       "       [-2.81322831,  0.31252869],\n",
       "       [-2.24915723,  0.47897759],\n",
       "       [-0.56221755, -1.2228624 ],\n",
       "       [ 1.34149259, -0.17779427],\n",
       "       [-2.39881674,  0.01017417],\n",
       "       [-2.55394689, -0.09139832],\n",
       "       [-2.34733523,  0.14545792],\n",
       "       [ 0.30946889, -0.47243667],\n",
       "       [-2.63379218,  0.28072525],\n",
       "       [ 0.28718098, -0.18081315],\n",
       "       [ 3.45126792,  1.18748366],\n",
       "       [-2.88491894, -0.17781182],\n",
       "       [ 0.59667274,  0.05257719],\n",
       "       [ 1.29744104, -0.75686204],\n",
       "       [-2.6355269 ,  1.14014579],\n",
       "       [ 1.12486913, -0.14354451],\n",
       "       [ 1.36848497, -0.55498535],\n",
       "       [ 0.21250135, -0.50306208],\n",
       "       [ 0.54367816, -0.46132439],\n",
       "       [ 1.86058502,  0.12436072],\n",
       "       [ 0.13190916, -0.79121971],\n",
       "       [-2.32005949,  0.78593497],\n",
       "       [-0.75641142, -0.97140209],\n",
       "       [ 1.75655085, -0.19168496],\n",
       "       [-2.74814076,  0.16006199],\n",
       "       [-2.91221394,  0.12365569],\n",
       "       [-0.11877331, -0.66519915],\n",
       "       [ 1.51323762,  0.29547945],\n",
       "       [-2.7191303 , -0.0588815 ],\n",
       "       [ 1.53982717, -0.52925259],\n",
       "       [-2.66986926,  0.21424846],\n",
       "       [-2.44849987,  0.23144782],\n",
       "       [ 1.07373169, -0.066088  ],\n",
       "       [-0.95702523, -0.71689825],\n",
       "       [ 2.38559   ,  0.39242443],\n",
       "       [ 1.33331573, -0.39429144],\n",
       "       [ 1.73438241, -0.47018862],\n",
       "       [ 3.03247375,  0.70918474],\n",
       "       [ 0.11684881, -0.64728641],\n",
       "       [-2.93448259, -0.52666536],\n",
       "       [-3.27126935, -0.45858819],\n",
       "       [ 1.24939046, -0.72709773],\n",
       "       [ 2.57235392,  0.58474816],\n",
       "       [-2.79158709, -0.26755865],\n",
       "       [-2.69134955,  0.3612253 ],\n",
       "       [-3.02781444, -0.43691853],\n",
       "       [ 1.24922952, -0.29398723],\n",
       "       [ 2.10403993,  0.14603038],\n",
       "       [-2.86420482, -0.0431253 ],\n",
       "       [ 2.12142097,  0.23606824],\n",
       "       [ 2.49055127, -0.00630375],\n",
       "       [-2.93464352, -0.09355486],\n",
       "       [ 0.93957682, -0.09426708],\n",
       "       [ 1.04138815,  0.10820683],\n",
       "       [ 1.21208366, -0.15452423],\n",
       "       [ 1.24168009,  0.71992398],\n",
       "       [ 1.86199787,  0.13116118],\n",
       "       [-2.5781112 ,  0.55081168],\n",
       "       [ 2.06416621,  0.39229186],\n",
       "       [ 0.46665858, -0.07559991],\n",
       "       [ 1.72001021,  0.09922518],\n",
       "       [-0.35485898, -0.32572496],\n",
       "       [-0.05647001, -0.69425008],\n",
       "       [ 0.84624497, -0.00452026],\n",
       "       [-2.90325165, -0.88345507],\n",
       "       [ 0.99838612,  0.26514382],\n",
       "       [ 0.41675085, -0.63719369],\n",
       "       [-2.58422853,  0.62957878],\n",
       "       [ 0.20107669, -0.23875655],\n",
       "       [ 2.88842655,  0.38198446],\n",
       "       [ 2.2343567 ,  0.34993105],\n",
       "       [-2.58483375,  0.47813165],\n",
       "       [-0.80001868, -0.96591223],\n",
       "       [ 2.3774546 ,  0.31294394],\n",
       "       [ 2.34426197,  0.49486876],\n",
       "       [-2.7191303 , -0.0588815 ],\n",
       "       [ 2.2709388 ,  0.19603759],\n",
       "       [-2.76162733, -0.12231475],\n",
       "       [ 1.420511  ,  0.53667341],\n",
       "       [ 2.79620494,  0.40280818],\n",
       "       [ 1.92704396, -0.1583222 ],\n",
       "       [ 0.25221413, -0.31621306],\n",
       "       [ 1.90586629,  0.06437821],\n",
       "       [ 0.76373255, -0.3305261 ],\n",
       "       [ 0.66882692,  0.18553077],\n",
       "       [ 1.15297175, -0.5896587 ],\n",
       "       [ 1.34619706, -0.26336183],\n",
       "       [-2.35395757,  0.44459527],\n",
       "       [ 0.31072081, -0.03252572],\n",
       "       [ 0.47249254, -1.17203515],\n",
       "       [-2.68383863,  1.23120322],\n",
       "       [ 0.18177542, -0.36664261],\n",
       "       [ 2.57285893,  0.36437791]])"
      ]
     },
     "execution_count": 55,
     "metadata": {},
     "output_type": "execute_result"
    }
   ],
   "source": [
    "from sklearn.decomposition import RandomizedPCA # using randomized Singular Value Decomposition \n",
    "Xp = RandomizedPCA(n_components=2, random_state=1).fit_transform(X_train)\n",
    "Xp\n",
    "\n"
   ]
  },
  {
   "cell_type": "code",
   "execution_count": 56,
   "metadata": {
    "collapsed": false
   },
   "outputs": [
    {
     "data": {
      "text/plain": [
       "array([0, 0, 2, 1, 1, 0, 0, 1, 2, 2, 1, 2, 1, 2, 1, 0, 2, 1, 0, 0, 0, 1, 2,\n",
       "       0, 0, 0, 1, 0, 1, 2, 0, 1, 2, 0, 2, 2, 1, 1, 2, 1, 0, 1, 2, 0, 0, 1,\n",
       "       1, 0, 2, 0, 0, 1, 1, 2, 1, 2, 2, 1, 0, 0, 2, 2, 0, 0, 0, 1, 2, 0, 2,\n",
       "       2, 0, 1, 1, 2, 1, 2, 0, 2, 1, 2, 1, 1, 1, 0, 1, 1, 0, 1, 2, 2, 0, 1,\n",
       "       2, 2, 0, 2, 0, 1, 2, 2, 1, 2, 1, 1, 2, 2, 0, 1, 2, 0, 1, 2])"
      ]
     },
     "execution_count": 56,
     "metadata": {},
     "output_type": "execute_result"
    }
   ],
   "source": [
    "y_train.ravel()"
   ]
  },
  {
   "cell_type": "code",
   "execution_count": 57,
   "metadata": {
    "collapsed": false
   },
   "outputs": [
    {
     "name": "stdout",
     "output_type": "stream",
     "text": [
      "[0 1 2]\n"
     ]
    },
    {
     "data": {
      "text/plain": [
       "<matplotlib.legend.Legend at 0xaea0954c>"
      ]
     },
     "execution_count": 57,
     "metadata": {},
     "output_type": "execute_result"
    },
    {
     "data": {
      "image/png": "[encoded data removed]",
      "text/plain": [
       "<matplotlib.figure.Figure at 0xaee5122c>"
      ]
     },
     "metadata": {},
     "output_type": "display_data"
    }
   ],
   "source": [
    "% matplotlib inline\n",
    "import matplotlib.pyplot as plt\n",
    "\n",
    "# get the product class \n",
    "product_class = np.unique(y_train.ravel())\n",
    "print product_class\n",
    "colors = plt.get_cmap(\"hsv\")\n",
    "\n",
    "plt.figure(figsize=(10, 4))\n",
    "for i, p in enumerate(product_class):\n",
    "    mask = (y_train == p)\n",
    "    plt.scatter(Xp[mask, 0], Xp[mask, 1], \n",
    "                c=colors(1. * i / 11), label=p)\n",
    "    \n",
    "plt.legend(loc=\"best\")"
   ]
  },
  {
   "cell_type": "markdown",
   "metadata": {},
   "source": [
    "#### Log loss "
   ]
  },
  {
   "cell_type": "code",
   "execution_count": 62,
   "metadata": {
    "collapsed": false
   },
   "outputs": [
    {
     "name": "stdout",
     "output_type": "stream",
     "text": [
      "El valor de logartmic loss es:  0.0701711117891\n"
     ]
    }
   ],
   "source": [
    "#Kernel polinomial\n",
    "\n",
    "kernelPoly2 = entrenar_kernel('poly')[0]\n",
    "print \"El valor de logartmic loss es: \", log_loss(y_test.ravel(),kernelPoly2.predict_proba(X_test))\n"
   ]
  },
  {
   "cell_type": "code",
   "execution_count": 24,
   "metadata": {
    "collapsed": true
   },
   "outputs": [],
   "source": [
    "log_loss?"
   ]
  },
  {
   "cell_type": "code",
   "execution_count": 21,
   "metadata": {
    "collapsed": false
   },
   "outputs": [
    {
     "data": {
      "text/plain": [
       "array([[ 0.46114161,  0.53885839],\n",
       "       [ 0.47726694,  0.52273306],\n",
       "       [ 0.67129056,  0.32870944],\n",
       "       [ 0.33900428,  0.66099572],\n",
       "       [ 0.31158322,  0.68841678],\n",
       "       [ 0.27629078,  0.72370922],\n",
       "       [ 0.44297104,  0.55702896],\n",
       "       [ 0.80082259,  0.19917741],\n",
       "       [ 0.19124586,  0.80875414],\n",
       "       [ 0.69881686,  0.30118314],\n",
       "       [ 0.48473266,  0.51526734],\n",
       "       [ 0.26709921,  0.73290079],\n",
       "       [ 0.44797354,  0.55202646],\n",
       "       [ 0.38149029,  0.61850971],\n",
       "       [ 0.60741502,  0.39258498],\n",
       "       [ 0.50950363,  0.49049637],\n",
       "       [ 0.43884982,  0.56115018],\n",
       "       [ 0.44416221,  0.55583779],\n",
       "       [ 0.39615904,  0.60384096],\n",
       "       [ 0.26709921,  0.73290079]])"
      ]
     },
     "execution_count": 21,
     "metadata": {},
     "output_type": "execute_result"
    }
   ],
   "source": [
    "kernelPoly2.predict_proba(X_test)"
   ]
  },
  {
   "cell_type": "code",
   "execution_count": 22,
   "metadata": {
    "collapsed": false
   },
   "outputs": [
    {
     "name": "stdout",
     "output_type": "stream",
     "text": [
      "El valor de logartmic loss es:  0.68599538119\n"
     ]
    },
    {
     "name": "stderr",
     "output_type": "stream",
     "text": [
      "/usr/local/lib/python2.7/dist-packages/sklearn/svm/base.py:514: DataConversionWarning: A column-vector y was passed when a 1d array was expected. Please change the shape of y to (n_samples, ), for example using ravel().\n",
      "  y_ = column_or_1d(y, warn=True)\n"
     ]
    }
   ],
   "source": [
    "#Kernel rbf\n",
    "kernelRBF2 = entrenar_kernel('rbf')[0]\n",
    "print \"El valor de logartmic loss es: \", log_loss(y_test,kernelRBF2.predict_proba(X_test))\n"
   ]
  },
  {
   "cell_type": "markdown",
   "metadata": {},
   "source": [
    "##### F1-Score y precision hechos arriba "
   ]
  },
  {
   "cell_type": "code",
   "execution_count": null,
   "metadata": {
    "collapsed": true
   },
   "outputs": [],
   "source": []
  }
 ],
 "metadata": {
  "anaconda-cloud": {},
  "kernelspec": {
   "display_name": "Python 2",
   "language": "python",
   "name": "python2"
  },
  "language_info": {
   "codemirror_mode": {
    "name": "ipython",
    "version": 2
   },
   "file_extension": ".py",
   "mimetype": "text/x-python",
   "name": "python",
   "nbconvert_exporter": "python",
   "pygments_lexer": "ipython2",
   "version": "2.7.6"
  }
 },
 "nbformat": 4,
 "nbformat_minor": 0
}

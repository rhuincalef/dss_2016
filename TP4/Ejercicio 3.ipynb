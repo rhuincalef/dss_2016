{
 "cells": [
  {
   "cell_type": "code",
   "execution_count": 6,
   "metadata": {
    "collapsed": true
   },
   "outputs": [],
   "source": [
    "import folium\n",
    "import mf2py\n",
    "import json"
   ]
  },
  {
   "cell_type": "markdown",
   "metadata": {},
   "source": [
    "### a. Obtener y visualizar coordenadas geograficas"
   ]
  },
  {
   "cell_type": "code",
   "execution_count": 7,
   "metadata": {
    "collapsed": true
   },
   "outputs": [],
   "source": [
    "def get_geo_data(name):\n",
    "    \"\"\"\n",
    "        Devuelve los datos de geolocalizacion correspondiente\n",
    "        a una ciudad registrada en Wikipedia.\n",
    "    :param name: Nombre de la ciudad\n",
    "    :return: Tupla con latitud y longitud\n",
    "    \"\"\"\n",
    "    name = name.replace(\" \", \"_\")\n",
    "    url = \"https://es.wikipedia.org/wiki/\" + name\n",
    "    x = mf2py.Parser(url = url)\n",
    "    x = x.to_dict(filter_by_type='h-card')[0]['properties']['geo'][0]\n",
    "    x = x['value'].split(\",\")\n",
    "    return x"
   ]
  },
  {
   "cell_type": "code",
   "execution_count": 8,
   "metadata": {
    "collapsed": false
   },
   "outputs": [],
   "source": [
    "ciudades = [\"Trelew\", \"Rawson\", \"Munich\", \"Nueva York\", \"Amsterdam\"]"
   ]
  },
  {
   "cell_type": "code",
   "execution_count": 10,
   "metadata": {
    "collapsed": false
   },
   "outputs": [],
   "source": [
    "coords = { ciudad : get_geo_data(ciudad) for ciudad in ciudades}"
   ]
  },
  {
   "cell_type": "code",
   "execution_count": 11,
   "metadata": {
    "collapsed": false
   },
   "outputs": [],
   "source": [
    "mapa = folium.Map(location=[0, 0],zoom_start = 2)\n",
    "for coord in coords:\n",
    "    folium.Marker(coords[coord], popup=coord).add_to(mapa)\n",
    "mapa.save('mapa.html')"
   ]
  },
  {
   "cell_type": "code",
   "execution_count": 12,
   "metadata": {
    "collapsed": false
   },
   "outputs": [
    {
     "data": {
      "text/html": [
       "<iframe width=\"100%\" height=\"350\" src=\"mapa.html?inline=true\"></iframe>"
      ],
      "text/plain": [
       "<IPython.core.display.HTML object>"
      ]
     },
     "metadata": {},
     "output_type": "display_data"
    }
   ],
   "source": [
    "%%HTML\n",
    "<iframe width=\"100%\" height=\"350\" src=\"mapa.html?inline=true\"></iframe>"
   ]
  },
  {
   "cell_type": "code",
   "execution_count": null,
   "metadata": {
    "collapsed": true
   },
   "outputs": [],
   "source": []
  }
 ],
 "metadata": {
  "kernelspec": {
   "display_name": "Python 2",
   "language": "python",
   "name": "python2"
  },
  "language_info": {
   "codemirror_mode": {
    "name": "ipython",
    "version": 2
   },
   "file_extension": ".py",
   "mimetype": "text/x-python",
   "name": "python",
   "nbconvert_exporter": "python",
   "pygments_lexer": "ipython2",
   "version": "2.7.6"
  }
 },
 "nbformat": 4,
 "nbformat_minor": 0
}

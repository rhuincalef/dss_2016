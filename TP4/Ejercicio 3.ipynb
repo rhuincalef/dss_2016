{
 "cells": [
  {
   "cell_type": "code",
   "execution_count": null,
   "metadata": {
    "collapsed": false
   },
   "outputs": [],
   "source": [
    "# -*- coding: utf-8 -*-\n",
    "try:\n",
    "    import urllib.request as urllib2\n",
    "except:\n",
    "    import urllib2\n",
    "from __future__ import absolute_import\n",
    "from __future__ import division\n",
    "from __future__ import print_function\n",
    "from __future__ import unicode_literals\n",
    "\n",
    "import datetime\n",
    "import folium\n",
    "import mf2py\n",
    "import json\n",
    "from hcalendar import hCalendar"
   ]
  },
  {
   "cell_type": "markdown",
   "metadata": {},
   "source": [
    "### a. Obtener y visualizar coordenadas geograficas"
   ]
  },
  {
   "cell_type": "code",
   "execution_count": null,
   "metadata": {
    "collapsed": true
   },
   "outputs": [],
   "source": [
    "def get_geo_data(name):\n",
    "    \"\"\"\n",
    "        Devuelve los datos de geolocalizacion correspondiente\n",
    "        a una ciudad registrada en Wikipedia.\n",
    "    :param name: Nombre de la ciudad\n",
    "    :return: Tupla con latitud y longitud\n",
    "    \"\"\"\n",
    "    url = \"https://es.wikipedia.org/wiki/\" + name\n",
    "    x = mf2py.Parser(url = url)\n",
    "    x = x.to_dict(filter_by_type='h-card')[0]['properties']['geo'][0]\n",
    "    x = x['value'].split(\",\")\n",
    "    return x"
   ]
  },
  {
   "cell_type": "code",
   "execution_count": null,
   "metadata": {
    "collapsed": false
   },
   "outputs": [],
   "source": [
    "ciudades = [\"Trelew\", \"Rawson\", \"Munich\", \"Nueva York\", \"Amsterdam\"]"
   ]
  },
  {
   "cell_type": "code",
   "execution_count": null,
   "metadata": {
    "collapsed": false
   },
   "outputs": [],
   "source": [
    "coords = { ciudad : get_geo_data(ciudad) for ciudad in ciudades}"
   ]
  },
  {
   "cell_type": "code",
   "execution_count": null,
   "metadata": {
    "collapsed": false
   },
   "outputs": [],
   "source": [
    "mapa = folium.Map(location=[0, 0],zoom_start = 2)\n",
    "for coord in coords:\n",
    "    folium.Marker(coords[coord], popup=coord).add_to(mapa)\n",
    "mapa.save('mapa.html')"
   ]
  },
  {
   "cell_type": "code",
   "execution_count": null,
   "metadata": {
    "collapsed": false
   },
   "outputs": [],
   "source": [
    "%%HTML\n",
    "<iframe width=\"100%\" height=\"350\" src=\"mapa.html?inline=true\"></iframe>"
   ]
  },
  {
   "cell_type": "markdown",
   "metadata": {
    "collapsed": true
   },
   "source": [
    "### b.Listar calendario de eventos."
   ]
  },
  {
   "cell_type": "code",
   "execution_count": null,
   "metadata": {
    "collapsed": false
   },
   "outputs": [],
   "source": [
    "def get_calendar_data(name):\n",
    "    \"\"\"\n",
    "        Devuelve los datos de fechas de salida de los episodios de series registradas en Wikipedia.\n",
    "    :param name: Nombre de la serie\n",
    "    :return: Coleccion de Tuplas con los nombres y fechas de emision\n",
    "    \"\"\"\n",
    "    name = name.replace(\" \", \"_\")\n",
    "    url = \"http://en.wikipedia.org/wiki/List_of_\"+ name + \"_episodes\"\n",
    "    file = urllib2.urlopen(urllib2.Request(url, headers={'User-agent': 'Python hCalendar'}))\n",
    "    hcal = hCalendar(file)\n",
    "    result = []\n",
    "    for cal in hcal:\n",
    "        for event in cal:\n",
    "            result.append((event.summary, event.dtstart))\n",
    "    return result"
   ]
  },
  {
   "cell_type": "code",
   "execution_count": null,
   "metadata": {
    "collapsed": true
   },
   "outputs": [],
   "source": [
    "series = [\"House\", \"Friends\", \"Two and a Half Men\", \"The Big Bang Theory\"]"
   ]
  },
  {
   "cell_type": "code",
   "execution_count": null,
   "metadata": {
    "collapsed": false
   },
   "outputs": [],
   "source": [
    "caps = { serie : get_calendar_data(serie) for serie in series}"
   ]
  },
  {
   "cell_type": "code",
   "execution_count": null,
   "metadata": {
    "collapsed": false
   },
   "outputs": [],
   "source": [
    "for c in caps:\n",
    "    print('+'*90)\n",
    "    print(c + \":\")\n",
    "    print('+'*90)\n",
    "    for e in (caps[c]):\n",
    "        print(\"Título: \" + e[0] + \"   Emisión: \" + str(e[1].strftime(\"%d/%m/%Y\")))"
   ]
  },
  {
   "cell_type": "markdown",
   "metadata": {},
   "source": [
    "### b.Listar calendario de eventos - V2."
   ]
  },
  {
   "cell_type": "code",
   "execution_count": null,
   "metadata": {
    "collapsed": true
   },
   "outputs": [],
   "source": [
    "def get_calendarEvent_data(name):\n",
    "    \"\"\"\n",
    "        Devuelve los datos de eventos - deportes, conciertos, etc. - de diferentes ciudades\n",
    "    :param name: Nombre de la ciudad\n",
    "    :return: Coleccion de Tuplas con los eventos, el lugar y la fecha\n",
    "    \"\"\"\n",
    "    name = name.replace(\" \", \"-\")\n",
    "    url = \"http://www.superboleteria.com/boleto/eventos-\" +name+ \".aspx\"\n",
    "    x = mf2py.Parser(url = url).to_dict(filter_by_type='h-event')\n",
    "    result = []\n",
    "    for e in x:\n",
    "        name = e['properties']['name'][0]\n",
    "        location = e['properties']['location'][0]['properties']['name'][0]\n",
    "        start_time = e['properties']['start'][0]\n",
    "        result.append((name, location, start_time))\n",
    "    return result\n"
   ]
  },
  {
   "cell_type": "code",
   "execution_count": null,
   "metadata": {
    "collapsed": false
   },
   "outputs": [],
   "source": [
    "ciudades = [\"California\", \"San Francisco\", \"Los Angeles\"]"
   ]
  },
  {
   "cell_type": "code",
   "execution_count": null,
   "metadata": {
    "collapsed": false
   },
   "outputs": [],
   "source": [
    "eventos = { ciudad : get_calendarEvent_data(ciudad) for ciudad in ciudades}"
   ]
  },
  {
   "cell_type": "code",
   "execution_count": null,
   "metadata": {
    "collapsed": false
   },
   "outputs": [],
   "source": [
    "for e in eventos:\n",
    "    print('+'*90)\n",
    "    print(e + \":\")\n",
    "    print('+'*90)\n",
    "    for i in (eventos[e]):\n",
    "        print(\"*Evento: \" + i[0] + \"   Lugar: \"+ i[1] + \"   Fecha: \"+ i[2])"
   ]
  },
  {
   "cell_type": "code",
   "execution_count": null,
   "metadata": {
    "collapsed": true
   },
   "outputs": [],
   "source": []
  }
 ],
 "metadata": {
  "kernelspec": {
   "display_name": "Python 3",
   "language": "python",
   "name": "python3"
  },
  "language_info": {
   "codemirror_mode": {
    "name": "ipython",
    "version": 3
   },
   "file_extension": ".py",
   "mimetype": "text/x-python",
   "name": "python",
   "nbconvert_exporter": "python",
   "pygments_lexer": "ipython3",
   "version": "3.4.3"
  }
 },
 "nbformat": 4,
 "nbformat_minor": 0
}

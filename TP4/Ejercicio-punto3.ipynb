{
 "cells": [
  {
   "cell_type": "code",
   "execution_count": 8,
   "metadata": {
    "collapsed": true
   },
   "outputs": [],
   "source": [
    "import mf2py"
   ]
  },
  {
   "cell_type": "code",
   "execution_count": 30,
   "metadata": {
    "collapsed": false
   },
   "outputs": [
    {
     "name": "stdout",
     "output_type": "stream",
     "text": [
      "[{\"type\": [\"h-card\"], \"properties\": {\"name\": [\"C\\u00f3rdoba\"], \"longitude\": [\"64\\u00b011\\u203200\\u2033O\", \"64\\u00b011\\u203200\\u2033O\", \"64\\u00b011\\u203200\\u2033O\"], \"latitude\": [\"31\\u00b025\\u203200\\u2033S\", \"31\\u00b025\\u203200\\u2033S\", \"31\\u00b025\\u203200\\u2033S\"], \"org\": [\"C\\u00f3rdoba\"], \"postal-code\": [\"X5000\"], \"geo\": [{\"type\": [\"h-geo\"], \"properties\": {\"name\": [\"-31.416666666667, -64.183333333333\"]}, \"value\": \"-31.416666666667, -64.183333333333\"}, {\"type\": [\"h-geo\"], \"properties\": {\"name\": [\"-31.416666666667, -64.183333333333\"]}, \"value\": \"-31.416666666667, -64.183333333333\"}, {\"type\": [\"h-geo\"], \"properties\": {\"name\": [\"-31.416666666667, -64.183333333333\"]}, \"value\": \"-31.416666666667, -64.183333333333\"}]}}]\n"
     ]
    }
   ],
   "source": [
    "#obj = mf2py.parse(url=\"https://es.wikipedia.org/wiki/Microformato\")\n",
    "o = mf2py.Parser(url=\"https://es.wikipedia.org/wiki/Ciudad_de_Córdoba_(Argentina)\")\n",
    "json = o.to_json(filter_by_type=\"h-card\")\n",
    "print json"
   ]
  },
  {
   "cell_type": "code",
   "execution_count": 15,
   "metadata": {
    "collapsed": false
   },
   "outputs": [
    {
     "name": "stdout",
     "output_type": "stream",
     "text": [
      "<type 'str'>\n"
     ]
    }
   ],
   "source": [
    "print type(json)"
   ]
  },
  {
   "cell_type": "code",
   "execution_count": 39,
   "metadata": {
    "collapsed": false
   },
   "outputs": [],
   "source": [
    "import folium\n",
    "from matplotlib.colors import Normalize,rgb2hex\n",
    "import matplotlib.cm as cm\n",
    "\n"
   ]
  },
  {
   "cell_type": "code",
   "execution_count": 52,
   "metadata": {
    "collapsed": false
   },
   "outputs": [],
   "source": [
    "map_1 = folium.Map(location=[0, 0],zoom_start = 2)\n",
    "color = rgb2hex([255,0,0])\n",
    "folium.Marker([45.3288, -121.6625], popup='Mt. Hood Meadows').add_to(map_1)\n",
    "map_1.save('mthood.html')\n",
    "\n"
   ]
  },
  {
   "cell_type": "code",
   "execution_count": 53,
   "metadata": {
    "collapsed": false
   },
   "outputs": [
    {
     "data": {
      "text/html": [
       "<iframe width=\"100%\" height=\"350\" src=\"mthood.html?inline=true\"></iframe>"
      ],
      "text/plain": [
       "<IPython.core.display.HTML object>"
      ]
     },
     "metadata": {},
     "output_type": "display_data"
    }
   ],
   "source": [
    "%%HTML\n",
    "<iframe width=\"100%\" height=\"350\" src=\"mthood.html?inline=true\"></iframe>"
   ]
  }
 ],
 "metadata": {
  "kernelspec": {
   "display_name": "Python 2",
   "language": "python",
   "name": "python2"
  },
  "language_info": {
   "codemirror_mode": {
    "name": "ipython",
    "version": 2
   },
   "file_extension": ".py",
   "mimetype": "text/x-python",
   "name": "python",
   "nbconvert_exporter": "python",
   "pygments_lexer": "ipython2",
   "version": "2.7.6"
  }
 },
 "nbformat": 4,
 "nbformat_minor": 0
}
